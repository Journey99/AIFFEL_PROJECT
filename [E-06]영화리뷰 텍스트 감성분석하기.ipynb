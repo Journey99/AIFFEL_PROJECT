{
 "cells": [
  {
   "cell_type": "markdown",
   "id": "419857a3",
   "metadata": {},
   "source": [
    "# < 6. 영화리뷰 텍스트 감성분석하기 >"
   ]
  },
  {
   "cell_type": "markdown",
   "id": "d5f10916",
   "metadata": {},
   "source": [
    "## [루브릭]\n",
    "1. 다양한 방법으로 Text Classification 태스크를 성공적으로 구현하였다.\n",
    "2. gensim을 활용하여 자체학습된 혹은 사전학습된 임베딩 레이어를 분석하였다.\n",
    "3. 한국어 Word2Vec을 활용하여 가시적인 성능향상을 달성했다."
   ]
  },
  {
   "cell_type": "markdown",
   "id": "0d6580f4",
   "metadata": {},
   "source": [
    "## [학습 목표]\n",
    "- 텍스트 데이터를 머신러닝 입출력용 수치데이터로 변환하는 과정을 이해한다.\n",
    "- RNN의 특징을 이해하고 시퀀셜한 데이터를 다루는 방법을 이해한다.\n",
    "- 1-D CNN으로도 텍스트를 처리할 수 있음을 이해한다.\n",
    "- 영화리뷰 감성 분류 실습을 진행한다."
   ]
  },
  {
   "cell_type": "markdown",
   "id": "0756f6d4",
   "metadata": {},
   "source": [
    "---"
   ]
  },
  {
   "cell_type": "code",
   "execution_count": 1,
   "id": "286cc064",
   "metadata": {},
   "outputs": [],
   "source": [
    "import os\n",
    "import re\n",
    "import pandas as pd\n",
    "import numpy as np\n",
    "\n",
    "import urllib.request\n",
    "import matplotlib.pyplot as plt\n",
    "%matplotlib inline\n",
    "\n",
    "\n",
    "from konlpy.tag import Okt\n",
    "\n",
    "import tensorflow as tf\n",
    "from tensorflow import keras\n",
    "from tensorflow.keras.preprocessing.text import Tokenizer\n",
    "from tensorflow.keras.preprocessing.sequence import pad_sequences\n",
    "from tensorflow.keras.initializers import Constant\n",
    "from tensorflow.keras.callbacks import EarlyStopping, ModelCheckpoint\n",
    "from tensorflow.keras.models import load_model\n",
    "\n",
    "\n",
    "import gensim\n",
    "from gensim.models import KeyedVectors\n",
    "from gensim.models.keyedvectors import Word2VecKeyedVectors"
   ]
  },
  {
   "cell_type": "markdown",
   "id": "b0f087d3",
   "metadata": {},
   "source": [
    "## 1. 데이터 준비와 확인"
   ]
  },
  {
   "cell_type": "code",
   "execution_count": 2,
   "id": "e4f20d8d",
   "metadata": {},
   "outputs": [
    {
     "data": {
      "text/html": [
       "<div>\n",
       "<style scoped>\n",
       "    .dataframe tbody tr th:only-of-type {\n",
       "        vertical-align: middle;\n",
       "    }\n",
       "\n",
       "    .dataframe tbody tr th {\n",
       "        vertical-align: top;\n",
       "    }\n",
       "\n",
       "    .dataframe thead th {\n",
       "        text-align: right;\n",
       "    }\n",
       "</style>\n",
       "<table border=\"1\" class=\"dataframe\">\n",
       "  <thead>\n",
       "    <tr style=\"text-align: right;\">\n",
       "      <th></th>\n",
       "      <th>id</th>\n",
       "      <th>document</th>\n",
       "      <th>label</th>\n",
       "    </tr>\n",
       "  </thead>\n",
       "  <tbody>\n",
       "    <tr>\n",
       "      <th>0</th>\n",
       "      <td>9976970</td>\n",
       "      <td>아 더빙.. 진짜 짜증나네요 목소리</td>\n",
       "      <td>0</td>\n",
       "    </tr>\n",
       "    <tr>\n",
       "      <th>1</th>\n",
       "      <td>3819312</td>\n",
       "      <td>흠...포스터보고 초딩영화줄....오버연기조차 가볍지 않구나</td>\n",
       "      <td>1</td>\n",
       "    </tr>\n",
       "    <tr>\n",
       "      <th>2</th>\n",
       "      <td>10265843</td>\n",
       "      <td>너무재밓었다그래서보는것을추천한다</td>\n",
       "      <td>0</td>\n",
       "    </tr>\n",
       "    <tr>\n",
       "      <th>3</th>\n",
       "      <td>9045019</td>\n",
       "      <td>교도소 이야기구먼 ..솔직히 재미는 없다..평점 조정</td>\n",
       "      <td>0</td>\n",
       "    </tr>\n",
       "    <tr>\n",
       "      <th>4</th>\n",
       "      <td>6483659</td>\n",
       "      <td>사이몬페그의 익살스런 연기가 돋보였던 영화!스파이더맨에서 늙어보이기만 했던 커스틴 ...</td>\n",
       "      <td>1</td>\n",
       "    </tr>\n",
       "  </tbody>\n",
       "</table>\n",
       "</div>"
      ],
      "text/plain": [
       "         id                                           document  label\n",
       "0   9976970                                아 더빙.. 진짜 짜증나네요 목소리      0\n",
       "1   3819312                  흠...포스터보고 초딩영화줄....오버연기조차 가볍지 않구나      1\n",
       "2  10265843                                  너무재밓었다그래서보는것을추천한다      0\n",
       "3   9045019                      교도소 이야기구먼 ..솔직히 재미는 없다..평점 조정      0\n",
       "4   6483659  사이몬페그의 익살스런 연기가 돋보였던 영화!스파이더맨에서 늙어보이기만 했던 커스틴 ...      1"
      ]
     },
     "execution_count": 2,
     "metadata": {},
     "output_type": "execute_result"
    }
   ],
   "source": [
    "train_data = pd.read_table('~/aiffel/sentiment_classification/data/ratings_train.txt')\n",
    "test_data = pd.read_table('~/aiffel/sentiment_classification/data/ratings_test.txt')\n",
    "\n",
    "train_data.head()"
   ]
  },
  {
   "cell_type": "code",
   "execution_count": 3,
   "id": "edef6fd5",
   "metadata": {},
   "outputs": [
    {
     "data": {
      "text/html": [
       "<div>\n",
       "<style scoped>\n",
       "    .dataframe tbody tr th:only-of-type {\n",
       "        vertical-align: middle;\n",
       "    }\n",
       "\n",
       "    .dataframe tbody tr th {\n",
       "        vertical-align: top;\n",
       "    }\n",
       "\n",
       "    .dataframe thead th {\n",
       "        text-align: right;\n",
       "    }\n",
       "</style>\n",
       "<table border=\"1\" class=\"dataframe\">\n",
       "  <thead>\n",
       "    <tr style=\"text-align: right;\">\n",
       "      <th></th>\n",
       "      <th>id</th>\n",
       "      <th>document</th>\n",
       "      <th>label</th>\n",
       "    </tr>\n",
       "  </thead>\n",
       "  <tbody>\n",
       "    <tr>\n",
       "      <th>0</th>\n",
       "      <td>6270596</td>\n",
       "      <td>굳 ㅋ</td>\n",
       "      <td>1</td>\n",
       "    </tr>\n",
       "    <tr>\n",
       "      <th>1</th>\n",
       "      <td>9274899</td>\n",
       "      <td>GDNTOPCLASSINTHECLUB</td>\n",
       "      <td>0</td>\n",
       "    </tr>\n",
       "    <tr>\n",
       "      <th>2</th>\n",
       "      <td>8544678</td>\n",
       "      <td>뭐야 이 평점들은.... 나쁘진 않지만 10점 짜리는 더더욱 아니잖아</td>\n",
       "      <td>0</td>\n",
       "    </tr>\n",
       "    <tr>\n",
       "      <th>3</th>\n",
       "      <td>6825595</td>\n",
       "      <td>지루하지는 않은데 완전 막장임... 돈주고 보기에는....</td>\n",
       "      <td>0</td>\n",
       "    </tr>\n",
       "    <tr>\n",
       "      <th>4</th>\n",
       "      <td>6723715</td>\n",
       "      <td>3D만 아니었어도 별 다섯 개 줬을텐데.. 왜 3D로 나와서 제 심기를 불편하게 하죠??</td>\n",
       "      <td>0</td>\n",
       "    </tr>\n",
       "  </tbody>\n",
       "</table>\n",
       "</div>"
      ],
      "text/plain": [
       "        id                                           document  label\n",
       "0  6270596                                                굳 ㅋ      1\n",
       "1  9274899                               GDNTOPCLASSINTHECLUB      0\n",
       "2  8544678             뭐야 이 평점들은.... 나쁘진 않지만 10점 짜리는 더더욱 아니잖아      0\n",
       "3  6825595                   지루하지는 않은데 완전 막장임... 돈주고 보기에는....      0\n",
       "4  6723715  3D만 아니었어도 별 다섯 개 줬을텐데.. 왜 3D로 나와서 제 심기를 불편하게 하죠??      0"
      ]
     },
     "execution_count": 3,
     "metadata": {},
     "output_type": "execute_result"
    }
   ],
   "source": [
    "test_data.head()"
   ]
  },
  {
   "cell_type": "markdown",
   "id": "aebe5a03",
   "metadata": {},
   "source": [
    "---"
   ]
  },
  {
   "cell_type": "markdown",
   "id": "b3f386bc",
   "metadata": {},
   "source": [
    "## 2. 데이터로더 구성\n",
    "- 데이터의 중복 제거\n",
    "- NaN 결측치 제거\n",
    "- 한국어 토크나이저로 토큰화\n",
    "- 불용어(Stopwords) 제거\n",
    "- 사전word_to_index 구성\n",
    "- 텍스트 스트링을 사전 인덱스 스트링으로 변환\n",
    "- X_train, y_train, X_test, y_test, word_to_index 리턴"
   ]
  },
  {
   "cell_type": "code",
   "execution_count": 4,
   "id": "b9bb7c69",
   "metadata": {},
   "outputs": [],
   "source": [
    "from konlpy.tag import Mecab\n",
    "import numpy as np\n",
    "from collections import Counter"
   ]
  },
  {
   "cell_type": "markdown",
   "id": "e17482e2",
   "metadata": {},
   "source": [
    "### Mecab\n",
    "- 한글 형태소 분석기\n",
    "- 형태소 분석이란 ? 형태소를 비롯하여, 어근, 접두사/접미사, 품사 등 다양한 언어적 속성의 구조를 파악하는 것"
   ]
  },
  {
   "cell_type": "code",
   "execution_count": 5,
   "id": "a5b7c21a",
   "metadata": {},
   "outputs": [],
   "source": [
    "tokenizer = Mecab()\n",
    "stopwords = ['의','가','이','은','들','는','좀','잘','걍','과','도','를','으로','자','에','와','한','하다']"
   ]
  },
  {
   "cell_type": "code",
   "execution_count": 6,
   "id": "55f9e585",
   "metadata": {},
   "outputs": [],
   "source": [
    "def load_data(train_data, test_data, num_words=10000):\n",
    "    \n",
    "    # train data 전처리\n",
    "    train_data.drop_duplicates(subset=['document'], inplace=True)\n",
    "    train_data = train_data.dropna(how = 'any') \n",
    "    \n",
    "    # test data 전처리\n",
    "    test_data.drop_duplicates(subset=['document'], inplace=True)\n",
    "    test_data = test_data.dropna(how = 'any') \n",
    "    \n",
    "    X_train = []\n",
    "    for sentence in train_data['document']:\n",
    "        temp_X = tokenizer.morphs(sentence) # 토큰화\n",
    "        temp_X = [word for word in temp_X if not word in stopwords] # 불용어 제거\n",
    "        X_train.append(temp_X)\n",
    "\n",
    "    X_test = []\n",
    "    for sentence in test_data['document']:\n",
    "        temp_X = tokenizer.morphs(sentence) # 토큰화\n",
    "        temp_X = [word for word in temp_X if not word in stopwords] # 불용어 제거\n",
    "        X_test.append(temp_X)\n",
    "    \n",
    "    # 단어 사전\n",
    "    words = np.concatenate(X_train).tolist()\n",
    "    counter = Counter(words)\n",
    "    counter = counter.most_common(10000-4)\n",
    "    vocab = ['<PAD>', '<BOS>', '<UNK>', '<UNUSED>'] + [key for key, _ in counter]\n",
    "    word_to_index = {word:index for index, word in enumerate(vocab)}\n",
    "        \n",
    "    def wordlist_to_indexlist(wordlist):\n",
    "        return [word_to_index[word] if word in word_to_index else word_to_index['<UNK>'] for word in wordlist]\n",
    "        \n",
    "    X_train = list(map(wordlist_to_indexlist, X_train))\n",
    "    X_test = list(map(wordlist_to_indexlist, X_test))\n",
    "        \n",
    "    return X_train, np.array(list(train_data['label'])), X_test, np.array(list(test_data['label'])), word_to_index "
   ]
  },
  {
   "cell_type": "markdown",
   "id": "f530c6ae",
   "metadata": {},
   "source": [
    "### DataFrame.drop_duplicates(subset=None, keep='first', inplace=False)\n",
    "- 중복 요소를 삭제하는 메서드\n",
    "- series, dataframe, index 객체에 적용이 가능\n",
    "- subset : 중복 데이터를 처리할 열을 입력받는다\n",
    "- keep : 중복데이터 발견시 어떤 데이터를 마크할지 혹은 삭제할지 여부를 결정하는 변수\n",
    "- inplace : 메서드가 적용되는 원본 데이터를 변경할지 여부를 결정"
   ]
  },
  {
   "cell_type": "markdown",
   "id": "95426ed5",
   "metadata": {},
   "source": [
    "### dropna(how = 'any')\n",
    "- NaN 값이 있는 데이터 제거\n",
    "- how \n",
    "    - any : 1개라도 NaN값이 존재시 drop\n",
    "    - all : 모두 NaN값이 존재시 drop"
   ]
  },
  {
   "cell_type": "code",
   "execution_count": 7,
   "id": "c1f4e132",
   "metadata": {},
   "outputs": [],
   "source": [
    "X_train, y_train, X_test, y_test, word_to_index = load_data(train_data, test_data) "
   ]
  },
  {
   "cell_type": "code",
   "execution_count": 8,
   "id": "f42b31ec",
   "metadata": {},
   "outputs": [],
   "source": [
    "index_to_word = {index:word for word, index in word_to_index.items()}"
   ]
  },
  {
   "cell_type": "code",
   "execution_count": 9,
   "id": "1b7a8a86",
   "metadata": {},
   "outputs": [],
   "source": [
    "# 문장 1개를 활용할 딕셔너리와 함께 주면, 단어 인덱스 리스트 벡터로 변환해 주는 함수입니다. \n",
    "# 단, 모든 문장은 <BOS>로 시작하는 것으로 합니다. \n",
    "def get_encoded_sentence(sentence, word_to_index):\n",
    "    return [word_to_index['<BOS>']]+[word_to_index[word] if word in word_to_index else word_to_index['<UNK>'] for word in sentence.split()]\n",
    "\n",
    "# 여러 개의 문장 리스트를 한꺼번에 단어 인덱스 리스트 벡터로 encode해 주는 함수입니다. \n",
    "def get_encoded_sentences(sentences, word_to_index):\n",
    "    return [get_encoded_sentence(sentence, word_to_index) for sentence in sentences]\n",
    "\n",
    "# 숫자 벡터로 encode된 문장을 원래대로 decode하는 함수입니다. \n",
    "def get_decoded_sentence(encoded_sentence, index_to_word):\n",
    "    return ' '.join(index_to_word[index] if index in index_to_word else '<UNK>' for index in encoded_sentence[1:])  #[1:]를 통해 <BOS>를 제외\n",
    "\n",
    "# 여러 개의 숫자 벡터로 encode된 문장을 한꺼번에 원래대로 decode하는 함수입니다. \n",
    "def get_decoded_sentences(encoded_sentences, index_to_word):\n",
    "    return [get_decoded_sentence(encoded_sentence, index_to_word) for encoded_sentence in encoded_sentences]"
   ]
  },
  {
   "cell_type": "markdown",
   "id": "e05603fb",
   "metadata": {},
   "source": [
    "---"
   ]
  },
  {
   "cell_type": "markdown",
   "id": "20653c9c",
   "metadata": {},
   "source": [
    "## 3. 모델 구성을 위한 데이터 분석 및 가공"
   ]
  },
  {
   "cell_type": "code",
   "execution_count": 10,
   "id": "90dbfd85",
   "metadata": {},
   "outputs": [
    {
     "name": "stdout",
     "output_type": "stream",
     "text": [
      "훈련 샘플 개수: 146182, 테스트 개수: 49157\n"
     ]
    }
   ],
   "source": [
    "print(\"훈련 샘플 개수: {}, 테스트 개수: {}\".format(len(X_train), len(X_test)))"
   ]
  },
  {
   "cell_type": "code",
   "execution_count": 11,
   "id": "6cbd56e2",
   "metadata": {},
   "outputs": [
    {
     "name": "stdout",
     "output_type": "stream",
     "text": [
      "더 빙 . . 진짜 짜증 나 네요 목소리\n",
      "라벨:  0\n"
     ]
    }
   ],
   "source": [
    "print(get_decoded_sentence(X_train[0], index_to_word))\n",
    "print('라벨: ', y_train[0])"
   ]
  },
  {
   "cell_type": "markdown",
   "id": "1b1df9f8",
   "metadata": {},
   "source": [
    "### 데이터셋 내 문장 길이 분포"
   ]
  },
  {
   "cell_type": "code",
   "execution_count": 12,
   "id": "13126e85",
   "metadata": {},
   "outputs": [
    {
     "name": "stdout",
     "output_type": "stream",
     "text": [
      "문장길이 평균 :  15.96940191154864\n",
      "문장길이 최대 :  116\n",
      "문장길이 표준편차 :  12.843571191092\n"
     ]
    }
   ],
   "source": [
    "total_data_text = list(X_train) + list(X_test)\n",
    "\n",
    "num_tokens = [len(tokens) for tokens in total_data_text]\n",
    "num_tokens = np.array(num_tokens)\n",
    "\n",
    "print('문장길이 평균 : ', np.mean(num_tokens))\n",
    "print('문장길이 최대 : ', np.max(num_tokens))\n",
    "print('문장길이 표준편차 : ', np.std(num_tokens))"
   ]
  },
  {
   "cell_type": "code",
   "execution_count": 13,
   "id": "edf7848d",
   "metadata": {},
   "outputs": [
    {
     "data": {
      "image/png": "[encoded data removed]",
      "text/plain": [
       "<Figure size 432x288 with 1 Axes>"
      ]
     },
     "metadata": {
      "needs_background": "light"
     },
     "output_type": "display_data"
    }
   ],
   "source": [
    "plt.clf()\n",
    "\n",
    "plt.hist([len(s) for s in total_data_text], bins=100)\n",
    "plt.xlabel('length')\n",
    "plt.ylabel('numbeR')\n",
    "plt.show()"
   ]
  },
  {
   "cell_type": "markdown",
   "id": "9a1a1dc7",
   "metadata": {},
   "source": [
    "### 적절한 최대 문장 길이 지정"
   ]
  },
  {
   "cell_type": "code",
   "execution_count": 14,
   "id": "42b6db47",
   "metadata": {},
   "outputs": [
    {
     "name": "stdout",
     "output_type": "stream",
     "text": [
      "pad_sequences maxlen :  41\n",
      "전체 문장의 0.9342988343341575%가 maxlen 설정값 이내에 포함됩니다. \n"
     ]
    }
   ],
   "source": [
    "max_tokens = np.mean(num_tokens) + 2 * np.std(num_tokens)\n",
    "maxlen = int(max_tokens)\n",
    "print('pad_sequences maxlen : ', maxlen)\n",
    "print('전체 문장의 {}%가 maxlen 설정값 이내에 포함됩니다. '.format(np.sum(num_tokens < max_tokens) / len(num_tokens)))"
   ]
  },
  {
   "cell_type": "markdown",
   "id": "a4635385",
   "metadata": {},
   "source": [
    "### 패딩 추가\n",
    "- 데이터셋 상의 문장의 길이를 통일해야한다"
   ]
  },
  {
   "cell_type": "code",
   "execution_count": 15,
   "id": "24cf43a7",
   "metadata": {},
   "outputs": [
    {
     "name": "stdout",
     "output_type": "stream",
     "text": [
      "(146182, 41)\n"
     ]
    }
   ],
   "source": [
    "X_train = tf.keras.preprocessing.sequence.pad_sequences(X_train,\n",
    "                                                        value=word_to_index[\"<PAD>\"],\n",
    "                                                        padding='post', # 혹은 'pre'\n",
    "                                                        maxlen=maxlen)\n",
    "\n",
    "X_test = tf.keras.preprocessing.sequence.pad_sequences(X_test,\n",
    "                                                       value=word_to_index[\"<PAD>\"],\n",
    "                                                       padding='post', # 혹은 'pre'\n",
    "                                                       maxlen=maxlen)\n",
    "\n",
    "print(X_train.shape)"
   ]
  },
  {
   "cell_type": "markdown",
   "id": "1a0ba939",
   "metadata": {},
   "source": [
    "### validation set 분리\n",
    "- 훈련데이터셋의 20% 정도를 분할했다"
   ]
  },
  {
   "cell_type": "code",
   "execution_count": 16,
   "id": "62446373",
   "metadata": {},
   "outputs": [],
   "source": [
    "# validation set 30000건 분리\n",
    "X_val = X_train[:30000]   \n",
    "y_val = y_train[:30000]\n",
    "\n",
    "# validation set을 제외한 나머지\n",
    "partial_X_train = X_train[30000:]  \n",
    "partial_y_train = y_train[30000:]"
   ]
  },
  {
   "cell_type": "code",
   "execution_count": 17,
   "id": "3035e083",
   "metadata": {},
   "outputs": [
    {
     "name": "stdout",
     "output_type": "stream",
     "text": [
      "(30000, 41)\n",
      "(30000,)\n",
      "(116182, 41)\n",
      "(116182,)\n",
      "(49157, 41)\n",
      "(49157,)\n"
     ]
    }
   ],
   "source": [
    "print(X_val.shape)\n",
    "print(y_val.shape)\n",
    "print(partial_X_train.shape)\n",
    "print(partial_y_train.shape)\n",
    "print(X_test.shape)\n",
    "print(y_test.shape)"
   ]
  },
  {
   "cell_type": "markdown",
   "id": "23e3be76",
   "metadata": {},
   "source": [
    "---"
   ]
  },
  {
   "cell_type": "markdown",
   "id": "981e1214",
   "metadata": {},
   "source": [
    "## 4. 모델 설계와 훈련"
   ]
  },
  {
   "cell_type": "code",
   "execution_count": 18,
   "id": "9882e00b",
   "metadata": {},
   "outputs": [],
   "source": [
    "vocab_size = 10000 \n",
    "word_vector_dim = 16"
   ]
  },
  {
   "cell_type": "markdown",
   "id": "190c1924",
   "metadata": {},
   "source": [
    "### (1) LSTM\n",
    "- Long Short -Term Memory\n",
    "- RNN 중에서 가장 널리 쓰이는 모델\n",
    "- 오래된 정보도 기억할 수 있는 long-term dependencies를 지니고 있다"
   ]
  },
  {
   "cell_type": "markdown",
   "id": "90c27d70",
   "metadata": {},
   "source": [
    "#### 설계"
   ]
  },
  {
   "cell_type": "code",
   "execution_count": 19,
   "id": "a58e4cb0",
   "metadata": {},
   "outputs": [
    {
     "name": "stdout",
     "output_type": "stream",
     "text": [
      "Model: \"sequential\"\n",
      "_________________________________________________________________\n",
      "Layer (type)                 Output Shape              Param #   \n",
      "=================================================================\n",
      "embedding (Embedding)        (None, None, 16)          160000    \n",
      "_________________________________________________________________\n",
      "lstm (LSTM)                  (None, 16)                2112      \n",
      "_________________________________________________________________\n",
      "dense (Dense)                (None, 8)                 136       \n",
      "_________________________________________________________________\n",
      "dense_1 (Dense)              (None, 1)                 9         \n",
      "=================================================================\n",
      "Total params: 162,257\n",
      "Trainable params: 162,257\n",
      "Non-trainable params: 0\n",
      "_________________________________________________________________\n"
     ]
    }
   ],
   "source": [
    "lstm_model = tf.keras.Sequential()\n",
    "lstm_model.add(tf.keras.layers.Embedding(vocab_size, word_vector_dim, input_shape=(None,)))\n",
    "lstm_model.add(tf.keras.layers.LSTM(16))   # 가장 널리 쓰이는 RNN인 LSTM 레이어를 사용하였습니다. \n",
    "lstm_model.add(tf.keras.layers.Dense(8, activation='relu'))\n",
    "lstm_model.add(tf.keras.layers.Dense(1, activation='sigmoid'))  # 최종 출력은 긍정/부정을 나타내는 1dim 입니다.\n",
    "\n",
    "lstm_model.summary()"
   ]
  },
  {
   "cell_type": "markdown",
   "id": "fa387473",
   "metadata": {},
   "source": [
    "#### 학습"
   ]
  },
  {
   "cell_type": "code",
   "execution_count": 20,
   "id": "e06c4fbe",
   "metadata": {},
   "outputs": [
    {
     "name": "stdout",
     "output_type": "stream",
     "text": [
      "Epoch 1/10\n",
      "227/227 [==============================] - 5s 7ms/step - loss: 0.5117 - accuracy: 0.7214 - val_loss: 0.3638 - val_accuracy: 0.8392\n",
      "Epoch 2/10\n",
      "227/227 [==============================] - 1s 5ms/step - loss: 0.3414 - accuracy: 0.8551 - val_loss: 0.3529 - val_accuracy: 0.8453\n",
      "Epoch 3/10\n",
      "227/227 [==============================] - 1s 5ms/step - loss: 0.3169 - accuracy: 0.8650 - val_loss: 0.3446 - val_accuracy: 0.8497\n",
      "Epoch 4/10\n",
      "227/227 [==============================] - 1s 5ms/step - loss: 0.3005 - accuracy: 0.8710 - val_loss: 0.3548 - val_accuracy: 0.8492\n",
      "Epoch 5/10\n",
      "227/227 [==============================] - 1s 6ms/step - loss: 0.2861 - accuracy: 0.8750 - val_loss: 0.3587 - val_accuracy: 0.8493\n",
      "Epoch 6/10\n",
      "227/227 [==============================] - 1s 5ms/step - loss: 0.2742 - accuracy: 0.8787 - val_loss: 0.3668 - val_accuracy: 0.8466\n",
      "Epoch 7/10\n",
      "227/227 [==============================] - 1s 6ms/step - loss: 0.2646 - accuracy: 0.8810 - val_loss: 0.3812 - val_accuracy: 0.8453\n",
      "Epoch 8/10\n",
      "227/227 [==============================] - 1s 5ms/step - loss: 0.2546 - accuracy: 0.8854 - val_loss: 0.4062 - val_accuracy: 0.8439\n",
      "Epoch 9/10\n",
      "227/227 [==============================] - 1s 5ms/step - loss: 0.2480 - accuracy: 0.8871 - val_loss: 0.4059 - val_accuracy: 0.8455\n",
      "Epoch 10/10\n",
      "227/227 [==============================] - 1s 5ms/step - loss: 0.2395 - accuracy: 0.8907 - val_loss: 0.4223 - val_accuracy: 0.8431\n"
     ]
    }
   ],
   "source": [
    "lstm_model.compile(optimizer='adam',\n",
    "              loss='binary_crossentropy',\n",
    "              metrics=['accuracy'])\n",
    "              \n",
    "epochs=10\n",
    "\n",
    "history = lstm_model.fit(partial_X_train,\n",
    "                    partial_y_train,\n",
    "                    epochs=epochs,\n",
    "                    batch_size=512,\n",
    "                    validation_data=(X_val, y_val),\n",
    "                    verbose=1)"
   ]
  },
  {
   "cell_type": "markdown",
   "id": "e68114a4",
   "metadata": {},
   "source": [
    "#### 결과"
   ]
  },
  {
   "cell_type": "code",
   "execution_count": 21,
   "id": "5fd36186",
   "metadata": {},
   "outputs": [
    {
     "name": "stdout",
     "output_type": "stream",
     "text": [
      "1537/1537 - 3s - loss: 0.4223 - accuracy: 0.8415\n",
      "[0.42232003808021545, 0.841548502445221]\n"
     ]
    }
   ],
   "source": [
    "results = lstm_model.evaluate(X_test,  y_test, verbose=2)\n",
    "\n",
    "print(results)"
   ]
  },
  {
   "cell_type": "markdown",
   "id": "f40b6c62",
   "metadata": {},
   "source": [
    "#### 그래프로 확인"
   ]
  },
  {
   "cell_type": "code",
   "execution_count": 22,
   "id": "5ce8933a",
   "metadata": {},
   "outputs": [
    {
     "data": {
      "image/png": "[encoded data removed]",
      "text/plain": [
       "<Figure size 432x288 with 1 Axes>"
      ]
     },
     "metadata": {
      "needs_background": "light"
     },
     "output_type": "display_data"
    }
   ],
   "source": [
    "history_dict = history.history\n",
    "\n",
    "acc = history_dict['accuracy']\n",
    "val_acc = history_dict['val_accuracy']\n",
    "loss = history_dict['loss']\n",
    "val_loss = history_dict['val_loss']\n",
    "\n",
    "epochs = range(1, len(acc) + 1)\n",
    "\n",
    "# \"bo\"는 \"파란색 점\"입니다\n",
    "plt.plot(epochs, loss, 'bo', label='Training loss')\n",
    "# b는 \"파란 실선\"입니다\n",
    "plt.plot(epochs, val_loss, 'b', label='Validation loss')\n",
    "plt.title('Training and validation loss')\n",
    "plt.xlabel('Epochs')\n",
    "plt.ylabel('Loss')\n",
    "plt.legend()\n",
    "\n",
    "plt.show()"
   ]
  },
  {
   "cell_type": "code",
   "execution_count": 23,
   "id": "67f70fc2",
   "metadata": {},
   "outputs": [
    {
     "data": {
      "image/png": "[encoded data removed]",
      "text/plain": [
       "<Figure size 432x288 with 1 Axes>"
      ]
     },
     "metadata": {
      "needs_background": "light"
     },
     "output_type": "display_data"
    }
   ],
   "source": [
    "plt.clf()   # 그림을 초기화합니다\n",
    "\n",
    "plt.plot(epochs, acc, 'bo', label='Training acc')\n",
    "plt.plot(epochs, val_acc, 'b', label='Validation acc')\n",
    "plt.title('Training and validation accuracy')\n",
    "plt.xlabel('Epochs')\n",
    "plt.ylabel('Accuracy')\n",
    "plt.legend()\n",
    "\n",
    "plt.show()"
   ]
  },
  {
   "cell_type": "markdown",
   "id": "385c149c",
   "metadata": {},
   "source": [
    "### Embedding layer"
   ]
  },
  {
   "cell_type": "code",
   "execution_count": 24,
   "id": "96b97f66",
   "metadata": {},
   "outputs": [
    {
     "name": "stdout",
     "output_type": "stream",
     "text": [
      "(10000, 16)\n"
     ]
    }
   ],
   "source": [
    "embedding_layer = lstm_model.layers[0]\n",
    "weights = embedding_layer.get_weights()[0]\n",
    "print(weights.shape) "
   ]
  },
  {
   "cell_type": "code",
   "execution_count": 25,
   "id": "b6ddfa37",
   "metadata": {},
   "outputs": [],
   "source": [
    "word2vec_file_path = os.getenv('HOME')+'/aiffel/sentiment_classification/data/word2vec.txt'\n",
    "f = open(word2vec_file_path, 'w')\n",
    "f.write('{} {}\\n'.format(vocab_size-4, word_vector_dim))  # 몇개의 벡터를 얼마 사이즈로 기재할지 타이틀을 씁니다.\n",
    "\n",
    "# 단어 개수(에서 특수문자 4개는 제외하고)만큼의 워드 벡터를 파일에 기록합니다. \n",
    "vectors = lstm_model.get_weights()[0]\n",
    "for i in range(4,vocab_size):\n",
    "    f.write('{} {}\\n'.format(index_to_word[i], ' '.join(map(str, list(vectors[i, :])))))\n",
    "f.close()"
   ]
  },
  {
   "cell_type": "code",
   "execution_count": 26,
   "id": "fa0908a0",
   "metadata": {},
   "outputs": [
    {
     "data": {
      "text/plain": [
       "[('10', 0.9772783517837524),\n",
       " ('멋졌', 0.9368650913238525),\n",
       " ('발견', 0.933087170124054),\n",
       " ('레고', 0.9279651641845703),\n",
       " ('존경', 0.9207555055618286),\n",
       " ('백제', 0.9185996651649475),\n",
       " ('깊', 0.9185388088226318),\n",
       " ('해골', 0.9177293181419373),\n",
       " ('싸대', 0.9159510731697083),\n",
       " ('오묘', 0.9140459299087524)]"
      ]
     },
     "execution_count": 26,
     "metadata": {},
     "output_type": "execute_result"
    }
   ],
   "source": [
    "word_vectors = Word2VecKeyedVectors.load_word2vec_format(word2vec_file_path, binary=False)\n",
    "\n",
    "word_vectors.similar_by_word(\"사랑\")"
   ]
  },
  {
   "cell_type": "markdown",
   "id": "4f13aea5",
   "metadata": {},
   "source": [
    "> 사랑이라는 단어랑 유사한 다른 단어들을 잘 찾았다고 생각되지 않는다"
   ]
  },
  {
   "cell_type": "markdown",
   "id": "93f9e5d1",
   "metadata": {},
   "source": [
    "### 한국어 Word2Vec"
   ]
  },
  {
   "cell_type": "code",
   "execution_count": 18,
   "id": "616cdd92",
   "metadata": {},
   "outputs": [
    {
     "data": {
      "text/plain": [
       "(200,)"
      ]
     },
     "execution_count": 18,
     "metadata": {},
     "output_type": "execute_result"
    }
   ],
   "source": [
    "word2vec_path = os.getenv('HOME')+'/aiffel/sentiment_classification/ko.bin'\n",
    "word2vec = gensim.models.Word2Vec.load(word2vec_path)\n",
    "vector = word2vec.wv['영화']\n",
    "vector.shape"
   ]
  },
  {
   "cell_type": "code",
   "execution_count": 19,
   "id": "0a991560",
   "metadata": {},
   "outputs": [
    {
     "data": {
      "text/plain": [
       "[('감명', 0.7177015542984009),\n",
       " ('감격', 0.6908231973648071),\n",
       " ('실망', 0.6267645359039307),\n",
       " ('감화', 0.6191877126693726),\n",
       " ('감탄', 0.6140128374099731),\n",
       " ('칭찬', 0.6059398055076599),\n",
       " ('존경', 0.6032299995422363),\n",
       " ('자극', 0.594598650932312),\n",
       " ('감복', 0.5902734994888306),\n",
       " ('호응', 0.5850393772125244)]"
      ]
     },
     "execution_count": 19,
     "metadata": {},
     "output_type": "execute_result"
    }
   ],
   "source": [
    "word2vec.wv.similar_by_word(\"감동\")"
   ]
  },
  {
   "cell_type": "code",
   "execution_count": 20,
   "id": "123cf0f3",
   "metadata": {},
   "outputs": [],
   "source": [
    "vocab_size = 10000\n",
    "word_vector_dim = 200\n",
    "\n",
    "embedding_matrix = np.random.rand(vocab_size, word_vector_dim)\n",
    "\n",
    "for i in range(4,vocab_size):\n",
    "    if index_to_word[i] in word2vec.wv:\n",
    "        embedding_matrix[i] = word2vec.wv[index_to_word[i]]"
   ]
  },
  {
   "cell_type": "code",
   "execution_count": 21,
   "id": "eb320725",
   "metadata": {},
   "outputs": [
    {
     "name": "stdout",
     "output_type": "stream",
     "text": [
      "Model: \"sequential\"\n",
      "_________________________________________________________________\n",
      "Layer (type)                 Output Shape              Param #   \n",
      "=================================================================\n",
      "embedding (Embedding)        (None, 41, 200)           2000000   \n",
      "_________________________________________________________________\n",
      "lstm (LSTM)                  (None, 64)                67840     \n",
      "_________________________________________________________________\n",
      "dense (Dense)                (None, 256)               16640     \n",
      "_________________________________________________________________\n",
      "dense_1 (Dense)              (None, 1)                 257       \n",
      "=================================================================\n",
      "Total params: 2,084,737\n",
      "Trainable params: 2,084,737\n",
      "Non-trainable params: 0\n",
      "_________________________________________________________________\n"
     ]
    }
   ],
   "source": [
    "vocab_size = 10000\n",
    "word_vector_dim = 200\n",
    "\n",
    "lstm_ko = keras.Sequential()\n",
    "lstm_ko.add(keras.layers.Embedding(vocab_size, \n",
    "                                 word_vector_dim, \n",
    "                                 embeddings_initializer=Constant(embedding_matrix),\n",
    "                                 input_length=maxlen, \n",
    "                                 trainable=True))\n",
    "lstm_ko.add(keras.layers.LSTM(64))\n",
    "lstm_ko.add(keras.layers.Dense(256, activation='relu'))\n",
    "lstm_ko.add(keras.layers.Dense(1, activation='sigmoid'))\n",
    "\n",
    "lstm_ko.summary()"
   ]
  },
  {
   "cell_type": "code",
   "execution_count": 23,
   "id": "66340907",
   "metadata": {},
   "outputs": [
    {
     "name": "stdout",
     "output_type": "stream",
     "text": [
      "Epoch 1/10\n",
      "227/227 [==============================] - 6s 11ms/step - loss: 0.5673 - accuracy: 0.6716 - val_loss: 0.4144 - val_accuracy: 0.8129\n",
      "Epoch 2/10\n",
      "227/227 [==============================] - 2s 8ms/step - loss: 0.3668 - accuracy: 0.8388 - val_loss: 0.3407 - val_accuracy: 0.8516\n",
      "Epoch 3/10\n",
      "227/227 [==============================] - 2s 8ms/step - loss: 0.3083 - accuracy: 0.8696 - val_loss: 0.3288 - val_accuracy: 0.8584\n",
      "Epoch 4/10\n",
      "227/227 [==============================] - 2s 8ms/step - loss: 0.2792 - accuracy: 0.8834 - val_loss: 0.3452 - val_accuracy: 0.8550\n",
      "Epoch 5/10\n",
      "227/227 [==============================] - 2s 8ms/step - loss: 0.2521 - accuracy: 0.8969 - val_loss: 0.3312 - val_accuracy: 0.8610\n",
      "Epoch 6/10\n",
      "227/227 [==============================] - 2s 8ms/step - loss: 0.2315 - accuracy: 0.9068 - val_loss: 0.3375 - val_accuracy: 0.8590\n",
      "Epoch 7/10\n",
      "227/227 [==============================] - 2s 8ms/step - loss: 0.2122 - accuracy: 0.9146 - val_loss: 0.3507 - val_accuracy: 0.8577\n",
      "Epoch 8/10\n",
      "227/227 [==============================] - 2s 8ms/step - loss: 0.1921 - accuracy: 0.9246 - val_loss: 0.3657 - val_accuracy: 0.8556\n",
      "Epoch 9/10\n",
      "227/227 [==============================] - 2s 8ms/step - loss: 0.1742 - accuracy: 0.9325 - val_loss: 0.3975 - val_accuracy: 0.8572\n",
      "Epoch 10/10\n",
      "227/227 [==============================] - 2s 9ms/step - loss: 0.1597 - accuracy: 0.9393 - val_loss: 0.4115 - val_accuracy: 0.8564\n"
     ]
    }
   ],
   "source": [
    "lstm_ko.compile(optimizer='adam',\n",
    "              loss='binary_crossentropy',\n",
    "              metrics=['accuracy'])\n",
    "              \n",
    "epochs=10\n",
    "\n",
    "history = lstm_ko.fit(partial_X_train,\n",
    "                    partial_y_train,\n",
    "                    epochs=epochs,\n",
    "                    batch_size=512,\n",
    "                    validation_data=(X_val, y_val),\n",
    "                    verbose=1)"
   ]
  },
  {
   "cell_type": "code",
   "execution_count": 24,
   "id": "d2e95a1e",
   "metadata": {},
   "outputs": [
    {
     "name": "stdout",
     "output_type": "stream",
     "text": [
      "1537/1537 - 3s - loss: 0.4176 - accuracy: 0.8520\n",
      "[0.41764751076698303, 0.8520251512527466]\n"
     ]
    }
   ],
   "source": [
    "results = lstm_ko.evaluate(X_test,  y_test, verbose=2)\n",
    "\n",
    "print(results)"
   ]
  },
  {
   "cell_type": "markdown",
   "id": "ee7ac5af",
   "metadata": {},
   "source": [
    "-------\n",
    "-------"
   ]
  },
  {
   "cell_type": "markdown",
   "id": "09350cab",
   "metadata": {},
   "source": [
    "### (2) 1-D CNN(1-D Convolution Neural Network)\n",
    "- 문장 전체를 한꺼번에 한 방향으로 길이 7짜리 필터로 스캐닝 하면서 7단어 이내에서 발견되는 특징을 추출하여 그것으로 문장을 분류하는 방식으로 사용\n",
    "- CNN계열은 RNN계열보다 병렬처리가 효율적이기 때문에 학습 속도도 훨씬 빠름"
   ]
  },
  {
   "cell_type": "markdown",
   "id": "9558afc4",
   "metadata": {},
   "source": [
    "#### 설계"
   ]
  },
  {
   "cell_type": "code",
   "execution_count": 25,
   "id": "54ccccd1",
   "metadata": {},
   "outputs": [
    {
     "name": "stdout",
     "output_type": "stream",
     "text": [
      "Model: \"sequential_1\"\n",
      "_________________________________________________________________\n",
      "Layer (type)                 Output Shape              Param #   \n",
      "=================================================================\n",
      "embedding_1 (Embedding)      (None, None, 200)         2000000   \n",
      "_________________________________________________________________\n",
      "conv1d (Conv1D)              (None, None, 16)          22416     \n",
      "_________________________________________________________________\n",
      "max_pooling1d (MaxPooling1D) (None, None, 16)          0         \n",
      "_________________________________________________________________\n",
      "conv1d_1 (Conv1D)            (None, None, 16)          1808      \n",
      "_________________________________________________________________\n",
      "global_max_pooling1d (Global (None, 16)                0         \n",
      "_________________________________________________________________\n",
      "dense_2 (Dense)              (None, 8)                 136       \n",
      "_________________________________________________________________\n",
      "dense_3 (Dense)              (None, 1)                 9         \n",
      "=================================================================\n",
      "Total params: 2,024,369\n",
      "Trainable params: 2,024,369\n",
      "Non-trainable params: 0\n",
      "_________________________________________________________________\n"
     ]
    }
   ],
   "source": [
    "dcnn_model = tf.keras.Sequential()\n",
    "dcnn_model.add(tf.keras.layers.Embedding(vocab_size, word_vector_dim, input_shape=(None,)))\n",
    "dcnn_model.add(tf.keras.layers.Conv1D(16, 7, activation='relu'))\n",
    "dcnn_model.add(tf.keras.layers.MaxPooling1D(5))\n",
    "dcnn_model.add(tf.keras.layers.Conv1D(16, 7, activation='relu'))\n",
    "dcnn_model.add(tf.keras.layers.GlobalMaxPooling1D())\n",
    "dcnn_model.add(tf.keras.layers.Dense(8, activation='relu'))\n",
    "dcnn_model.add(tf.keras.layers.Dense(1, activation='sigmoid')) \n",
    "\n",
    "dcnn_model.summary()"
   ]
  },
  {
   "cell_type": "markdown",
   "id": "53dca03a",
   "metadata": {},
   "source": [
    "#### 학습"
   ]
  },
  {
   "cell_type": "code",
   "execution_count": 26,
   "id": "6d6d8ca0",
   "metadata": {},
   "outputs": [
    {
     "name": "stdout",
     "output_type": "stream",
     "text": [
      "Epoch 1/10\n",
      "227/227 [==============================] - 4s 9ms/step - loss: 0.4497 - accuracy: 0.7859 - val_loss: 0.3437 - val_accuracy: 0.8507\n",
      "Epoch 2/10\n",
      "227/227 [==============================] - 1s 6ms/step - loss: 0.3088 - accuracy: 0.8703 - val_loss: 0.3343 - val_accuracy: 0.8534\n",
      "Epoch 3/10\n",
      "227/227 [==============================] - 1s 6ms/step - loss: 0.2567 - accuracy: 0.8974 - val_loss: 0.3464 - val_accuracy: 0.8521\n",
      "Epoch 4/10\n",
      "227/227 [==============================] - 1s 7ms/step - loss: 0.1944 - accuracy: 0.9271 - val_loss: 0.3751 - val_accuracy: 0.8510\n",
      "Epoch 5/10\n",
      "227/227 [==============================] - 1s 7ms/step - loss: 0.1334 - accuracy: 0.9533 - val_loss: 0.4378 - val_accuracy: 0.8454\n",
      "Epoch 6/10\n",
      "227/227 [==============================] - 1s 7ms/step - loss: 0.0885 - accuracy: 0.9704 - val_loss: 0.5130 - val_accuracy: 0.8402\n",
      "Epoch 7/10\n",
      "227/227 [==============================] - 1s 6ms/step - loss: 0.0593 - accuracy: 0.9812 - val_loss: 0.5804 - val_accuracy: 0.8406\n",
      "Epoch 8/10\n",
      "227/227 [==============================] - 1s 6ms/step - loss: 0.0431 - accuracy: 0.9863 - val_loss: 0.6543 - val_accuracy: 0.8324\n",
      "Epoch 9/10\n",
      "227/227 [==============================] - 1s 6ms/step - loss: 0.0332 - accuracy: 0.9895 - val_loss: 0.7333 - val_accuracy: 0.8353\n",
      "Epoch 10/10\n",
      "227/227 [==============================] - 1s 7ms/step - loss: 0.0271 - accuracy: 0.9909 - val_loss: 0.8271 - val_accuracy: 0.8354\n"
     ]
    }
   ],
   "source": [
    "dcnn_model.compile(optimizer='adam',\n",
    "              loss='binary_crossentropy',\n",
    "              metrics=['accuracy'])\n",
    "              \n",
    "epochs=10\n",
    "\n",
    "history = dcnn_model.fit(partial_X_train,\n",
    "                    partial_y_train,\n",
    "                    epochs=epochs,\n",
    "                    batch_size=512,\n",
    "                    validation_data=(X_val, y_val),\n",
    "                    verbose=1)"
   ]
  },
  {
   "cell_type": "markdown",
   "id": "a12ba7fe",
   "metadata": {},
   "source": [
    "#### 결과"
   ]
  },
  {
   "cell_type": "code",
   "execution_count": 27,
   "id": "5161dafc",
   "metadata": {},
   "outputs": [
    {
     "name": "stdout",
     "output_type": "stream",
     "text": [
      "1537/1537 - 3s - loss: 0.8437 - accuracy: 0.8312\n",
      "[0.8436775803565979, 0.8312142491340637]\n"
     ]
    }
   ],
   "source": [
    "results = dcnn_model.evaluate(X_test,  y_test, verbose=2)\n",
    "\n",
    "print(results)"
   ]
  },
  {
   "cell_type": "markdown",
   "id": "03c23f1b",
   "metadata": {},
   "source": [
    "#### 그래프로 확인"
   ]
  },
  {
   "cell_type": "code",
   "execution_count": 28,
   "id": "b1213076",
   "metadata": {},
   "outputs": [
    {
     "data": {
      "image/png": "[encoded data removed]",
      "text/plain": [
       "<Figure size 432x288 with 1 Axes>"
      ]
     },
     "metadata": {
      "needs_background": "light"
     },
     "output_type": "display_data"
    }
   ],
   "source": [
    "history_dict = history.history\n",
    "\n",
    "acc = history_dict['accuracy']\n",
    "val_acc = history_dict['val_accuracy']\n",
    "loss = history_dict['loss']\n",
    "val_loss = history_dict['val_loss']\n",
    "\n",
    "epochs = range(1, len(acc) + 1)\n",
    "\n",
    "# \"bo\"는 \"파란색 점\"입니다\n",
    "plt.plot(epochs, loss, 'bo', label='Training loss')\n",
    "# b는 \"파란 실선\"입니다\n",
    "plt.plot(epochs, val_loss, 'b', label='Validation loss')\n",
    "plt.title('Training and validation loss')\n",
    "plt.xlabel('Epochs')\n",
    "plt.ylabel('Loss')\n",
    "plt.legend()\n",
    "\n",
    "plt.show()"
   ]
  },
  {
   "cell_type": "code",
   "execution_count": 29,
   "id": "8e6d8298",
   "metadata": {},
   "outputs": [
    {
     "data": {
      "image/png": "[encoded data removed]",
      "text/plain": [
       "<Figure size 432x288 with 1 Axes>"
      ]
     },
     "metadata": {
      "needs_background": "light"
     },
     "output_type": "display_data"
    }
   ],
   "source": [
    "plt.clf()   # 그림을 초기화합니다\n",
    "\n",
    "plt.plot(epochs, acc, 'bo', label='Training acc')\n",
    "plt.plot(epochs, val_acc, 'b', label='Validation acc')\n",
    "plt.title('Training and validation accuracy')\n",
    "plt.xlabel('Epochs')\n",
    "plt.ylabel('Accuracy')\n",
    "plt.legend()\n",
    "\n",
    "plt.show()"
   ]
  },
  {
   "cell_type": "markdown",
   "id": "dc5a2e6e",
   "metadata": {},
   "source": [
    "### Embedding"
   ]
  },
  {
   "cell_type": "code",
   "execution_count": 30,
   "id": "e87361c6",
   "metadata": {},
   "outputs": [
    {
     "name": "stdout",
     "output_type": "stream",
     "text": [
      "(10000, 200)\n"
     ]
    },
    {
     "data": {
      "text/plain": [
       "[('-)', 0.672283411026001),\n",
       " ('빠져서', 0.6626576781272888),\n",
       " ('♥♥♥', 0.6477638483047485),\n",
       " ('탁월', 0.644749641418457),\n",
       " ('진진', 0.643276572227478),\n",
       " ('나무랄', 0.6425375938415527),\n",
       " ('쵝오', 0.6403668522834778),\n",
       " ('♥♥', 0.6400318145751953),\n",
       " ('넘사벽', 0.6384033560752869),\n",
       " ('예뻐요', 0.6353152990341187)]"
      ]
     },
     "execution_count": 30,
     "metadata": {},
     "output_type": "execute_result"
    }
   ],
   "source": [
    "embedding_layer = dcnn_model.layers[0]\n",
    "weights = embedding_layer.get_weights()[0]\n",
    "print(weights.shape) \n",
    "\n",
    "word2vec_file_path = os.getenv('HOME')+'/aiffel/sentiment_classification/data/word2vec.txt'\n",
    "f = open(word2vec_file_path, 'w')\n",
    "f.write('{} {}\\n'.format(vocab_size-4, word_vector_dim))  # 몇개의 벡터를 얼마 사이즈로 기재할지 타이틀을 씁니다.\n",
    "\n",
    "# 단어 개수(에서 특수문자 4개는 제외하고)만큼의 워드 벡터를 파일에 기록합니다. \n",
    "vectors = dcnn_model.get_weights()[0]\n",
    "for i in range(4,vocab_size):\n",
    "    f.write('{} {}\\n'.format(index_to_word[i], ' '.join(map(str, list(vectors[i, :])))))\n",
    "f.close()\n",
    "\n",
    "word_vectors = Word2VecKeyedVectors.load_word2vec_format(word2vec_file_path, binary=False)\n",
    "\n",
    "word_vectors.similar_by_word(\"사랑\")"
   ]
  },
  {
   "cell_type": "markdown",
   "id": "59436a2e",
   "metadata": {},
   "source": [
    "> lstm보다는 '사랑'이라는 단어와 비슷한 단어들이 몇개 나온 것 같다"
   ]
  },
  {
   "cell_type": "markdown",
   "id": "7ebd8564",
   "metadata": {},
   "source": [
    "### 한국어 Word2Vec"
   ]
  },
  {
   "cell_type": "code",
   "execution_count": 31,
   "id": "b058e93e",
   "metadata": {},
   "outputs": [
    {
     "data": {
      "text/plain": [
       "[('감명', 0.7177015542984009),\n",
       " ('감격', 0.6908231973648071),\n",
       " ('실망', 0.6267645359039307),\n",
       " ('감화', 0.6191877126693726),\n",
       " ('감탄', 0.6140128374099731),\n",
       " ('칭찬', 0.6059398055076599),\n",
       " ('존경', 0.6032299995422363),\n",
       " ('자극', 0.594598650932312),\n",
       " ('감복', 0.5902734994888306),\n",
       " ('호응', 0.5850393772125244)]"
      ]
     },
     "execution_count": 31,
     "metadata": {},
     "output_type": "execute_result"
    }
   ],
   "source": [
    "word2vec_path = os.getenv('HOME')+'/aiffel/sentiment_classification/ko.bin'\n",
    "word2vec = gensim.models.Word2Vec.load(word2vec_path)\n",
    "\n",
    "word2vec.wv.similar_by_word(\"감동\")"
   ]
  },
  {
   "cell_type": "code",
   "execution_count": 32,
   "id": "a0657d74",
   "metadata": {},
   "outputs": [],
   "source": [
    "vocab_size = 10000\n",
    "word_vector_dim = 200\n",
    "\n",
    "embedding_matrix = np.random.rand(vocab_size, word_vector_dim)\n",
    "\n",
    "for i in range(4,vocab_size):\n",
    "    if index_to_word[i] in word2vec.wv:\n",
    "        embedding_matrix[i] = word2vec.wv[index_to_word[i]]"
   ]
  },
  {
   "cell_type": "code",
   "execution_count": 33,
   "id": "62db3efc",
   "metadata": {},
   "outputs": [
    {
     "name": "stdout",
     "output_type": "stream",
     "text": [
      "Model: \"sequential_2\"\n",
      "_________________________________________________________________\n",
      "Layer (type)                 Output Shape              Param #   \n",
      "=================================================================\n",
      "embedding_2 (Embedding)      (None, 41, 200)           2000000   \n",
      "_________________________________________________________________\n",
      "conv1d_2 (Conv1D)            (None, 35, 16)            22416     \n",
      "_________________________________________________________________\n",
      "max_pooling1d_1 (MaxPooling1 (None, 7, 16)             0         \n",
      "_________________________________________________________________\n",
      "conv1d_3 (Conv1D)            (None, 1, 16)             1808      \n",
      "_________________________________________________________________\n",
      "global_max_pooling1d_1 (Glob (None, 16)                0         \n",
      "_________________________________________________________________\n",
      "dense_4 (Dense)              (None, 8)                 136       \n",
      "_________________________________________________________________\n",
      "dense_5 (Dense)              (None, 1)                 9         \n",
      "=================================================================\n",
      "Total params: 2,024,369\n",
      "Trainable params: 2,024,369\n",
      "Non-trainable params: 0\n",
      "_________________________________________________________________\n"
     ]
    }
   ],
   "source": [
    "vocab_size = 10000\n",
    "word_vector_dim = 200\n",
    "\n",
    "conv1d_ko = keras.Sequential()\n",
    "conv1d_ko.add(keras.layers.Embedding(vocab_size, \n",
    "                                 word_vector_dim, \n",
    "                                 embeddings_initializer=Constant(embedding_matrix),\n",
    "                                 input_length=maxlen, \n",
    "                                 trainable=True))\n",
    "conv1d_ko.add(keras.layers.Conv1D(16, 7, activation='relu'))\n",
    "conv1d_ko.add(keras.layers.MaxPooling1D(5))\n",
    "conv1d_ko.add(keras.layers.Conv1D(16, 7, activation='relu'))\n",
    "conv1d_ko.add(keras.layers.GlobalMaxPooling1D())\n",
    "conv1d_ko.add(keras.layers.Dense(8, activation='relu'))\n",
    "conv1d_ko.add(keras.layers.Dense(1, activation='sigmoid'))\n",
    "\n",
    "conv1d_ko.summary()\n"
   ]
  },
  {
   "cell_type": "code",
   "execution_count": 34,
   "id": "200f45bb",
   "metadata": {},
   "outputs": [
    {
     "name": "stdout",
     "output_type": "stream",
     "text": [
      "Epoch 1/10\n",
      "227/227 [==============================] - 2s 7ms/step - loss: 0.5422 - accuracy: 0.7159 - val_loss: 0.4366 - val_accuracy: 0.7972\n",
      "Epoch 2/10\n",
      "227/227 [==============================] - 1s 6ms/step - loss: 0.3867 - accuracy: 0.8280 - val_loss: 0.3687 - val_accuracy: 0.8369\n",
      "Epoch 3/10\n",
      "227/227 [==============================] - 1s 6ms/step - loss: 0.3277 - accuracy: 0.8603 - val_loss: 0.3510 - val_accuracy: 0.8460\n",
      "Epoch 4/10\n",
      "227/227 [==============================] - 1s 6ms/step - loss: 0.2934 - accuracy: 0.8781 - val_loss: 0.3606 - val_accuracy: 0.8441\n",
      "Epoch 5/10\n",
      "227/227 [==============================] - 1s 6ms/step - loss: 0.2660 - accuracy: 0.8922 - val_loss: 0.3532 - val_accuracy: 0.8495\n",
      "Epoch 6/10\n",
      "227/227 [==============================] - 1s 7ms/step - loss: 0.2427 - accuracy: 0.9033 - val_loss: 0.3666 - val_accuracy: 0.8465\n",
      "Epoch 7/10\n",
      "227/227 [==============================] - 1s 6ms/step - loss: 0.2216 - accuracy: 0.9128 - val_loss: 0.3781 - val_accuracy: 0.8472\n",
      "Epoch 8/10\n",
      "227/227 [==============================] - 2s 7ms/step - loss: 0.1989 - accuracy: 0.9244 - val_loss: 0.3974 - val_accuracy: 0.8442\n",
      "Epoch 9/10\n",
      "227/227 [==============================] - 1s 7ms/step - loss: 0.1789 - accuracy: 0.9328 - val_loss: 0.4336 - val_accuracy: 0.8397\n",
      "Epoch 10/10\n",
      "227/227 [==============================] - 1s 7ms/step - loss: 0.1603 - accuracy: 0.9419 - val_loss: 0.4541 - val_accuracy: 0.8396\n"
     ]
    }
   ],
   "source": [
    "conv1d_ko.compile(optimizer='adam',\n",
    "              loss='binary_crossentropy',\n",
    "              metrics=['accuracy'])\n",
    "              \n",
    "epochs=10\n",
    "\n",
    "history = conv1d_ko.fit(partial_X_train,\n",
    "                    partial_y_train,\n",
    "                    epochs=epochs,\n",
    "                    batch_size=512,\n",
    "                    validation_data=(X_val, y_val),\n",
    "                    verbose=1)"
   ]
  },
  {
   "cell_type": "code",
   "execution_count": 35,
   "id": "c59bc627",
   "metadata": {},
   "outputs": [
    {
     "name": "stdout",
     "output_type": "stream",
     "text": [
      "1537/1537 - 3s - loss: 0.4718 - accuracy: 0.8345\n",
      "[0.4718053936958313, 0.8345301747322083]\n"
     ]
    }
   ],
   "source": [
    "results = conv1d_ko.evaluate(X_test,  y_test, verbose=2)\n",
    "\n",
    "print(results)"
   ]
  },
  {
   "cell_type": "markdown",
   "id": "fb7b2974",
   "metadata": {},
   "source": [
    "----\n",
    "----"
   ]
  },
  {
   "cell_type": "markdown",
   "id": "47296435",
   "metadata": {},
   "source": [
    "### (3) GlobalMaxPooling\n",
    "- 이 방식은 전체 문장 중에서 단 하나의 가장 중요한 단어만 피처로 추출하여 그것으로 문장의 긍정/부정을 평가하는 방식"
   ]
  },
  {
   "cell_type": "markdown",
   "id": "60794dce",
   "metadata": {},
   "source": [
    "#### 설계"
   ]
  },
  {
   "cell_type": "code",
   "execution_count": 29,
   "id": "31a87316",
   "metadata": {},
   "outputs": [
    {
     "name": "stdout",
     "output_type": "stream",
     "text": [
      "Model: \"sequential_2\"\n",
      "_________________________________________________________________\n",
      "Layer (type)                 Output Shape              Param #   \n",
      "=================================================================\n",
      "embedding_2 (Embedding)      (None, None, 16)          160000    \n",
      "_________________________________________________________________\n",
      "global_max_pooling1d_1 (Glob (None, 16)                0         \n",
      "_________________________________________________________________\n",
      "dense_4 (Dense)              (None, 8)                 136       \n",
      "_________________________________________________________________\n",
      "dense_5 (Dense)              (None, 1)                 9         \n",
      "=================================================================\n",
      "Total params: 160,145\n",
      "Trainable params: 160,145\n",
      "Non-trainable params: 0\n",
      "_________________________________________________________________\n"
     ]
    }
   ],
   "source": [
    "gmp_model = tf.keras.Sequential()\n",
    "gmp_model.add(tf.keras.layers.Embedding(vocab_size, word_vector_dim, input_shape=(None,)))\n",
    "gmp_model.add(tf.keras.layers.GlobalMaxPooling1D())\n",
    "gmp_model.add(tf.keras.layers.Dense(8, activation='relu'))\n",
    "gmp_model.add(tf.keras.layers.Dense(1, activation='sigmoid'))  # 최종 출력은 긍정/부정을 나타내는 1dim 입니다.\n",
    "\n",
    "gmp_model.summary()"
   ]
  },
  {
   "cell_type": "markdown",
   "id": "fae8460d",
   "metadata": {},
   "source": [
    "#### 학습"
   ]
  },
  {
   "cell_type": "code",
   "execution_count": 30,
   "id": "b05ffc6f",
   "metadata": {},
   "outputs": [
    {
     "name": "stdout",
     "output_type": "stream",
     "text": [
      "Epoch 1/10\n",
      "227/227 [==============================] - 1s 4ms/step - loss: 0.5952 - accuracy: 0.7573 - val_loss: 0.4480 - val_accuracy: 0.8195\n",
      "Epoch 2/10\n",
      "227/227 [==============================] - 1s 3ms/step - loss: 0.3882 - accuracy: 0.8380 - val_loss: 0.3639 - val_accuracy: 0.8408\n",
      "Epoch 3/10\n",
      "227/227 [==============================] - 1s 3ms/step - loss: 0.3301 - accuracy: 0.8615 - val_loss: 0.3494 - val_accuracy: 0.8467\n",
      "Epoch 4/10\n",
      "227/227 [==============================] - 1s 4ms/step - loss: 0.3001 - accuracy: 0.8758 - val_loss: 0.3476 - val_accuracy: 0.8491\n",
      "Epoch 5/10\n",
      "227/227 [==============================] - 1s 3ms/step - loss: 0.2782 - accuracy: 0.8863 - val_loss: 0.3508 - val_accuracy: 0.8498\n",
      "Epoch 6/10\n",
      "227/227 [==============================] - 1s 3ms/step - loss: 0.2602 - accuracy: 0.8952 - val_loss: 0.3572 - val_accuracy: 0.8487\n",
      "Epoch 7/10\n",
      "227/227 [==============================] - 1s 3ms/step - loss: 0.2451 - accuracy: 0.9029 - val_loss: 0.3648 - val_accuracy: 0.8473\n",
      "Epoch 8/10\n",
      "227/227 [==============================] - 1s 3ms/step - loss: 0.2319 - accuracy: 0.9092 - val_loss: 0.3738 - val_accuracy: 0.8466\n",
      "Epoch 9/10\n",
      "227/227 [==============================] - 1s 3ms/step - loss: 0.2203 - accuracy: 0.9146 - val_loss: 0.3839 - val_accuracy: 0.8450\n",
      "Epoch 10/10\n",
      "227/227 [==============================] - 1s 3ms/step - loss: 0.2093 - accuracy: 0.9199 - val_loss: 0.3966 - val_accuracy: 0.8440\n"
     ]
    }
   ],
   "source": [
    "gmp_model.compile(optimizer='adam',\n",
    "              loss='binary_crossentropy',\n",
    "              metrics=['accuracy'])\n",
    "              \n",
    "epochs=10\n",
    "\n",
    "history = gmp_model.fit(partial_X_train,\n",
    "                    partial_y_train,\n",
    "                    epochs=epochs,\n",
    "                    batch_size=512,\n",
    "                    validation_data=(X_val, y_val),\n",
    "                    verbose=1)"
   ]
  },
  {
   "cell_type": "markdown",
   "id": "09a310cc",
   "metadata": {},
   "source": [
    "#### 결과"
   ]
  },
  {
   "cell_type": "code",
   "execution_count": 31,
   "id": "a87964a9",
   "metadata": {},
   "outputs": [
    {
     "name": "stdout",
     "output_type": "stream",
     "text": [
      "1537/1537 - 2s - loss: 0.4125 - accuracy: 0.8365\n",
      "[0.41248372197151184, 0.8364831209182739]\n"
     ]
    }
   ],
   "source": [
    "results = gmp_model.evaluate(X_test,  y_test, verbose=2)\n",
    "\n",
    "print(results)"
   ]
  },
  {
   "cell_type": "markdown",
   "id": "62746d1e",
   "metadata": {},
   "source": [
    "#### 그래프로 확인"
   ]
  },
  {
   "cell_type": "code",
   "execution_count": 32,
   "id": "65cbb0d6",
   "metadata": {},
   "outputs": [
    {
     "data": {
      "image/png": "[encoded data removed]",
      "text/plain": [
       "<Figure size 432x288 with 1 Axes>"
      ]
     },
     "metadata": {
      "needs_background": "light"
     },
     "output_type": "display_data"
    }
   ],
   "source": [
    "history_dict = history.history\n",
    "\n",
    "acc = history_dict['accuracy']\n",
    "val_acc = history_dict['val_accuracy']\n",
    "loss = history_dict['loss']\n",
    "val_loss = history_dict['val_loss']\n",
    "\n",
    "epochs = range(1, len(acc) + 1)\n",
    "\n",
    "# \"bo\"는 \"파란색 점\"입니다\n",
    "plt.plot(epochs, loss, 'bo', label='Training loss')\n",
    "# b는 \"파란 실선\"입니다\n",
    "plt.plot(epochs, val_loss, 'b', label='Validation loss')\n",
    "plt.title('Training and validation loss')\n",
    "plt.xlabel('Epochs')\n",
    "plt.ylabel('Loss')\n",
    "plt.legend()\n",
    "\n",
    "plt.show()"
   ]
  },
  {
   "cell_type": "code",
   "execution_count": 33,
   "id": "b19aa9d7",
   "metadata": {},
   "outputs": [
    {
     "data": {
      "image/png": "[encoded data removed]",
      "text/plain": [
       "<Figure size 432x288 with 1 Axes>"
      ]
     },
     "metadata": {
      "needs_background": "light"
     },
     "output_type": "display_data"
    }
   ],
   "source": [
    "plt.clf()   # 그림을 초기화합니다\n",
    "\n",
    "plt.plot(epochs, acc, 'bo', label='Training acc')\n",
    "plt.plot(epochs, val_acc, 'b', label='Validation acc')\n",
    "plt.title('Training and validation accuracy')\n",
    "plt.xlabel('Epochs')\n",
    "plt.ylabel('Accuracy')\n",
    "plt.legend()\n",
    "\n",
    "plt.show()"
   ]
  },
  {
   "cell_type": "markdown",
   "id": "7897a8c5",
   "metadata": {},
   "source": [
    "### 한국어 Word2Vec"
   ]
  },
  {
   "cell_type": "code",
   "execution_count": 36,
   "id": "f7db006f",
   "metadata": {},
   "outputs": [],
   "source": [
    "word2vec_path = os.getenv('HOME')+'/aiffel/sentiment_classification/ko.bin'\n",
    "word2vec = gensim.models.Word2Vec.load(word2vec_path)"
   ]
  },
  {
   "cell_type": "code",
   "execution_count": 37,
   "id": "a42de6fa",
   "metadata": {},
   "outputs": [],
   "source": [
    "vocab_size = 10000\n",
    "word_vector_dim = 200\n",
    "\n",
    "embedding_matrix = np.random.rand(vocab_size, word_vector_dim)\n",
    "\n",
    "for i in range(4,vocab_size):\n",
    "    if index_to_word[i] in word2vec.wv:\n",
    "        embedding_matrix[i] = word2vec.wv[index_to_word[i]]"
   ]
  },
  {
   "cell_type": "code",
   "execution_count": 38,
   "id": "95ed5097",
   "metadata": {},
   "outputs": [
    {
     "name": "stdout",
     "output_type": "stream",
     "text": [
      "Model: \"sequential_3\"\n",
      "_________________________________________________________________\n",
      "Layer (type)                 Output Shape              Param #   \n",
      "=================================================================\n",
      "embedding_3 (Embedding)      (None, 41, 200)           2000000   \n",
      "_________________________________________________________________\n",
      "global_max_pooling1d_2 (Glob (None, 200)               0         \n",
      "_________________________________________________________________\n",
      "dense_6 (Dense)              (None, 8)                 1608      \n",
      "_________________________________________________________________\n",
      "dense_7 (Dense)              (None, 1)                 9         \n",
      "=================================================================\n",
      "Total params: 2,001,617\n",
      "Trainable params: 2,001,617\n",
      "Non-trainable params: 0\n",
      "_________________________________________________________________\n"
     ]
    }
   ],
   "source": [
    "vocab_size = 10000\n",
    "word_vector_dim = 200\n",
    "\n",
    "gmp_ko = keras.Sequential()\n",
    "gmp_ko.add(keras.layers.Embedding(vocab_size, \n",
    "                                 word_vector_dim, \n",
    "                                 embeddings_initializer=Constant(embedding_matrix),\n",
    "                                 input_length=maxlen, \n",
    "                                 trainable=True))\n",
    "gmp_ko.add(keras.layers.GlobalMaxPooling1D())\n",
    "gmp_ko.add(keras.layers.Dense(8, activation='relu'))\n",
    "gmp_ko.add(keras.layers.Dense(1, activation='sigmoid'))\n",
    "\n",
    "gmp_ko.summary()"
   ]
  },
  {
   "cell_type": "code",
   "execution_count": 39,
   "id": "ffe7f4b9",
   "metadata": {},
   "outputs": [
    {
     "name": "stdout",
     "output_type": "stream",
     "text": [
      "Epoch 1/10\n",
      "227/227 [==============================] - 2s 5ms/step - loss: 0.7265 - accuracy: 0.5799 - val_loss: 0.6140 - val_accuracy: 0.6635\n",
      "Epoch 2/10\n",
      "227/227 [==============================] - 1s 5ms/step - loss: 0.5739 - accuracy: 0.7022 - val_loss: 0.5417 - val_accuracy: 0.7250\n",
      "Epoch 3/10\n",
      "227/227 [==============================] - 1s 4ms/step - loss: 0.5109 - accuracy: 0.7513 - val_loss: 0.4954 - val_accuracy: 0.7594\n",
      "Epoch 4/10\n",
      "227/227 [==============================] - 1s 4ms/step - loss: 0.4678 - accuracy: 0.7795 - val_loss: 0.4634 - val_accuracy: 0.7807\n",
      "Epoch 5/10\n",
      "227/227 [==============================] - 1s 4ms/step - loss: 0.4355 - accuracy: 0.8005 - val_loss: 0.4425 - val_accuracy: 0.7938\n",
      "Epoch 6/10\n",
      "227/227 [==============================] - 1s 4ms/step - loss: 0.4091 - accuracy: 0.8154 - val_loss: 0.4278 - val_accuracy: 0.8018\n",
      "Epoch 7/10\n",
      "227/227 [==============================] - 1s 4ms/step - loss: 0.3891 - accuracy: 0.8256 - val_loss: 0.4171 - val_accuracy: 0.8092\n",
      "Epoch 8/10\n",
      "227/227 [==============================] - 1s 5ms/step - loss: 0.3703 - accuracy: 0.8372 - val_loss: 0.4086 - val_accuracy: 0.8137\n",
      "Epoch 9/10\n",
      "227/227 [==============================] - 1s 4ms/step - loss: 0.3545 - accuracy: 0.8453 - val_loss: 0.4036 - val_accuracy: 0.8181\n",
      "Epoch 10/10\n",
      "227/227 [==============================] - 1s 4ms/step - loss: 0.3401 - accuracy: 0.8539 - val_loss: 0.4004 - val_accuracy: 0.8213\n"
     ]
    }
   ],
   "source": [
    "gmp_ko.compile(optimizer='adam',\n",
    "              loss='binary_crossentropy',\n",
    "              metrics=['accuracy'])\n",
    "              \n",
    "epochs=10\n",
    "\n",
    "history = gmp_ko.fit(partial_X_train,\n",
    "                    partial_y_train,\n",
    "                    epochs=epochs,\n",
    "                    batch_size=512,\n",
    "                    validation_data=(X_val, y_val),\n",
    "                    verbose=1)"
   ]
  },
  {
   "cell_type": "code",
   "execution_count": 40,
   "id": "a14b24fa",
   "metadata": {},
   "outputs": [
    {
     "name": "stdout",
     "output_type": "stream",
     "text": [
      "1537/1537 - 2s - loss: 0.4123 - accuracy: 0.8135\n",
      "[0.4123106598854065, 0.8134751915931702]\n"
     ]
    }
   ],
   "source": [
    "results = gmp_ko.evaluate(X_test,  y_test, verbose=2)\n",
    "\n",
    "print(results)"
   ]
  },
  {
   "cell_type": "markdown",
   "id": "9df0a515",
   "metadata": {},
   "source": [
    "----\n",
    "----"
   ]
  },
  {
   "cell_type": "markdown",
   "id": "97fb2b29",
   "metadata": {},
   "source": [
    "### (4) 양방향 LSTM\n",
    "- 양방향 LSTM 또는 BiLSTM은 두 개의 LSTM으로 구성된 시퀀스 처리 모델\n",
    "- 하나는 입력을 순방향으로, 다른 하나는 역방향으로 사용\n",
    "- BiLSTM은 네트워크에서 사용할 수 있는 정보의 양을 효과적으로 증가시켜 알고리즘에서 사용할 수 있는 컨텍스트를 개선"
   ]
  },
  {
   "cell_type": "code",
   "execution_count": 48,
   "id": "0705e6fa",
   "metadata": {},
   "outputs": [],
   "source": [
    "from keras.models import Sequential\n",
    "from keras.layers import Embedding, Dense, TimeDistributed, Dropout, Bidirectional"
   ]
  },
  {
   "cell_type": "markdown",
   "id": "78876edf",
   "metadata": {},
   "source": [
    "#### 설계"
   ]
  },
  {
   "cell_type": "code",
   "execution_count": 50,
   "id": "8e8d9cd8",
   "metadata": {},
   "outputs": [
    {
     "name": "stdout",
     "output_type": "stream",
     "text": [
      "Model: \"sequential_5\"\n",
      "_________________________________________________________________\n",
      "Layer (type)                 Output Shape              Param #   \n",
      "=================================================================\n",
      "embedding_5 (Embedding)      (None, None, 16)          160000    \n",
      "_________________________________________________________________\n",
      "bidirectional_1 (Bidirection (None, 256)               148480    \n",
      "_________________________________________________________________\n",
      "dense_10 (Dense)             (None, 64)                16448     \n",
      "_________________________________________________________________\n",
      "dense_11 (Dense)             (None, 1)                 65        \n",
      "=================================================================\n",
      "Total params: 324,993\n",
      "Trainable params: 324,993\n",
      "Non-trainable params: 0\n",
      "_________________________________________________________________\n"
     ]
    }
   ],
   "source": [
    "vocab_size = 10000\n",
    "word_vector_dim = 16\n",
    "\n",
    "bilstm_model = keras.Sequential()\n",
    "bilstm_model.add(keras.layers.Embedding(vocab_size, word_vector_dim, input_shape=(None,)))\n",
    "bilstm_model.add(keras.layers.Bidirectional(keras.layers.LSTM(128, return_sequences = False), input_shape = (49,1)))\n",
    "bilstm_model.add(keras.layers.Dense(64, activation='relu'))\n",
    "bilstm_model.add(keras.layers.Dense(1, activation='sigmoid'))\n",
    "\n",
    "bilstm_model.summary()"
   ]
  },
  {
   "cell_type": "markdown",
   "id": "9ee84589",
   "metadata": {},
   "source": [
    "#### 학습"
   ]
  },
  {
   "cell_type": "code",
   "execution_count": 51,
   "id": "b0a4f8a3",
   "metadata": {},
   "outputs": [
    {
     "name": "stdout",
     "output_type": "stream",
     "text": [
      "Epoch 1/10\n",
      "227/227 [==============================] - 7s 19ms/step - loss: 0.4537 - accuracy: 0.7801 - val_loss: 0.3502 - val_accuracy: 0.8463\n",
      "Epoch 2/10\n",
      "227/227 [==============================] - 4s 16ms/step - loss: 0.3378 - accuracy: 0.8564 - val_loss: 0.3567 - val_accuracy: 0.8427\n",
      "Epoch 3/10\n",
      "227/227 [==============================] - 4s 16ms/step - loss: 0.3189 - accuracy: 0.8645 - val_loss: 0.3471 - val_accuracy: 0.8491\n",
      "Epoch 4/10\n",
      "227/227 [==============================] - 4s 17ms/step - loss: 0.3030 - accuracy: 0.8708 - val_loss: 0.3501 - val_accuracy: 0.8493\n",
      "Epoch 5/10\n",
      "227/227 [==============================] - 4s 17ms/step - loss: 0.2870 - accuracy: 0.8767 - val_loss: 0.3496 - val_accuracy: 0.8493\n",
      "Epoch 6/10\n",
      "227/227 [==============================] - 4s 17ms/step - loss: 0.2678 - accuracy: 0.8838 - val_loss: 0.3646 - val_accuracy: 0.8502\n",
      "Epoch 7/10\n",
      "227/227 [==============================] - 4s 16ms/step - loss: 0.2491 - accuracy: 0.8926 - val_loss: 0.3592 - val_accuracy: 0.8507\n",
      "Epoch 8/10\n",
      "227/227 [==============================] - 4s 16ms/step - loss: 0.2302 - accuracy: 0.9016 - val_loss: 0.3926 - val_accuracy: 0.8455\n",
      "Epoch 9/10\n",
      "227/227 [==============================] - 4s 16ms/step - loss: 0.2153 - accuracy: 0.9077 - val_loss: 0.4005 - val_accuracy: 0.8501\n",
      "Epoch 10/10\n",
      "227/227 [==============================] - 4s 16ms/step - loss: 0.2009 - accuracy: 0.9156 - val_loss: 0.4133 - val_accuracy: 0.8480\n"
     ]
    }
   ],
   "source": [
    "bilstm_model.compile(optimizer='adam',\n",
    "              loss='binary_crossentropy',\n",
    "              metrics=['accuracy'])\n",
    "              \n",
    "epochs=10\n",
    "\n",
    "history = bilstm_model.fit(partial_X_train,\n",
    "                    partial_y_train,\n",
    "                    epochs=epochs,\n",
    "                    batch_size=512,\n",
    "                    validation_data=(X_val, y_val),\n",
    "                    verbose=1)"
   ]
  },
  {
   "cell_type": "markdown",
   "id": "eea02e0b",
   "metadata": {},
   "source": [
    "#### 결과"
   ]
  },
  {
   "cell_type": "code",
   "execution_count": 52,
   "id": "6d7da8ca",
   "metadata": {},
   "outputs": [
    {
     "name": "stdout",
     "output_type": "stream",
     "text": [
      "1537/1537 - 5s - loss: 0.4237 - accuracy: 0.8438\n",
      "[0.42365485429763794, 0.843765914440155]\n"
     ]
    }
   ],
   "source": [
    "results = bilstm_model.evaluate(X_test,  y_test, verbose=2)\n",
    "\n",
    "print(results)"
   ]
  },
  {
   "cell_type": "markdown",
   "id": "a2fe5ef0",
   "metadata": {},
   "source": [
    "#### 그래프로 확인"
   ]
  },
  {
   "cell_type": "code",
   "execution_count": 53,
   "id": "0b043598",
   "metadata": {},
   "outputs": [
    {
     "data": {
      "image/png": "[encoded data removed]",
      "text/plain": [
       "<Figure size 432x288 with 1 Axes>"
      ]
     },
     "metadata": {
      "needs_background": "light"
     },
     "output_type": "display_data"
    }
   ],
   "source": [
    "history_dict = history.history\n",
    "\n",
    "acc = history_dict['accuracy']\n",
    "val_acc = history_dict['val_accuracy']\n",
    "loss = history_dict['loss']\n",
    "val_loss = history_dict['val_loss']\n",
    "\n",
    "epochs = range(1, len(acc) + 1)\n",
    "\n",
    "# \"bo\"는 \"파란색 점\"입니다\n",
    "plt.plot(epochs, loss, 'bo', label='Training loss')\n",
    "# b는 \"파란 실선\"입니다\n",
    "plt.plot(epochs, val_loss, 'b', label='Validation loss')\n",
    "plt.title('Training and validation loss')\n",
    "plt.xlabel('Epochs')\n",
    "plt.ylabel('Loss')\n",
    "plt.legend()\n",
    "\n",
    "plt.show()"
   ]
  },
  {
   "cell_type": "code",
   "execution_count": 54,
   "id": "a1af2e01",
   "metadata": {},
   "outputs": [
    {
     "data": {
      "image/png": "[encoded data removed]",
      "text/plain": [
       "<Figure size 432x288 with 1 Axes>"
      ]
     },
     "metadata": {
      "needs_background": "light"
     },
     "output_type": "display_data"
    }
   ],
   "source": [
    "plt.clf()   # 그림을 초기화합니다\n",
    "\n",
    "plt.plot(epochs, acc, 'bo', label='Training acc')\n",
    "plt.plot(epochs, val_acc, 'b', label='Validation acc')\n",
    "plt.title('Training and validation accuracy')\n",
    "plt.xlabel('Epochs')\n",
    "plt.ylabel('Accuracy')\n",
    "plt.legend()\n",
    "\n",
    "plt.show()"
   ]
  },
  {
   "cell_type": "markdown",
   "id": "71479d76",
   "metadata": {},
   "source": [
    "---"
   ]
  },
  {
   "cell_type": "markdown",
   "id": "322903f8",
   "metadata": {},
   "source": [
    "## 5. 정리"
   ]
  },
  {
   "cell_type": "markdown",
   "id": "4d098a3e",
   "metadata": {},
   "source": [
    "### (1) 85% 이상\n",
    "- 정확도를 85% 이상으로 올리기 위해서 LSTM, 1-D CONV, GlobalMaxPooling, BiLSTM 모델에서 하이퍼파라미터를 이것저것 변화시켜 보았지만 85%를 넘는건 생각보다 어려웠다. \n",
    "- Word2Vec Embedding 모델을 사용했을 때 LSTM에서만 85%를 간당하게 넘을 수 있었다"
   ]
  },
  {
   "cell_type": "markdown",
   "id": "a04a187f",
   "metadata": {},
   "source": [
    "![](https://img1.daumcdn.net/thumb/R1280x0/?scode=mtistory2&fname=https%3A%2F%2Fblog.kakaocdn.net%2Fdn%2FZOlTl%2FbtrrB5WFz29%2F54Bt4O3WCZDx8bYKQcaKxk%2Fimg.png)"
   ]
  },
  {
   "cell_type": "markdown",
   "id": "78df6bba",
   "metadata": {},
   "source": [
    "### (2) Warning 해결\n",
    "- 4.0.x 버전부터는 vocab이라는 코드가 gensim 패키지 안에서 사라졌기 때문에 gensim의 버전은 3.8.3 으로 다운그레이드 해주었다\n",
    "- 그러고 사용하니 ' DeprecationWarning: Call to deprecated \\`similar_by_word\\' '이라는 경고가 떴다\n",
    "- 일부 버전에서는 사용이 중단되었다 그런내용의 경고라는데 스택오버플로우 덕분에 경고를 해결 할 수 있었다\n",
    "- https://stackoverflow.com/questions/51791964/deprecationwarning-in-gensim-most-similar"
   ]
  },
  {
   "cell_type": "markdown",
   "id": "e78fb807",
   "metadata": {},
   "source": [
    "### (3) 느낀점\n",
    "- 정확도는 대부분 83~84%로 큰 차이가 없었다. 1-D CNN의 validation loss의 경우 갑자기 증가하는걸 볼 수 있는데 그 이유는 잘 모르겠다.. 하이퍼파라미터의 문제인가 싶다..! 모델들의 하이퍼파라미터를 아무리 변화시켜도 85%를 넘기기는 쉽지 않았다. 언어의 문제인가 싶기도 하다. 요즘 부쩍이나 줄임말이나 은어를 많이 사용해서 아무래도 한국어가 영어보다 더 어렵지 않을까 생각한다. \n",
    "- 이번 프로젝트가 NLP를 2번째로 접한 프로젝트인데 처음에 접했을 때 보다는 재미있었던 프로젝트인것 같다. 초반보다는 딥러닝 설계가 익숙하지만 아직도 하이퍼파라미터 값을 어떻게 얼마나 넣어야하는지는 잘 몰라서 이것저것 막 넣어본다. 가끔은 이렇게 넣어도 되나 싶을 정도로 넣어보는데 경험이 쌓이면 좀 달라질거라 생각한다.\n",
    "- 네이버 영화리뷰 자체도 믿을만한 데이터인지 의심이 된다. 조원분이 알려주셔서 알았는데 망작에 일부로 평점과 평을 좋게 써주는 영화들이 있다고 한다. 이런 리뷰가 긍정으로 들어가면 안되는게 아닌가.. 한국어의 반어법이나 비꼬는 말들.. 언어가 문제인것같다 :)"
   ]
  }
 ],
 "metadata": {
  "kernelspec": {
   "display_name": "Python 3 (ipykernel)",
   "language": "python",
   "name": "python3"
  },
  "language_info": {
   "codemirror_mode": {
    "name": "ipython",
    "version": 3
   },
   "file_extension": ".py",
   "mimetype": "text/x-python",
   "name": "python",
   "nbconvert_exporter": "python",
   "pygments_lexer": "ipython3",
   "version": "3.9.7"
  }
 },
 "nbformat": 4,
 "nbformat_minor": 5
}
