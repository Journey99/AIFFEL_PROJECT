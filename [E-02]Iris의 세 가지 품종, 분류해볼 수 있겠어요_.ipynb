{
 "cells": [
  {
   "cell_type": "markdown",
   "id": "3a72e5d5",
   "metadata": {},
   "source": [
    "# 1. load_digits : 손글씨 분류"
   ]
  },
  {
   "cell_type": "markdown",
   "id": "c7e8908a",
   "metadata": {},
   "source": [
    "## (1) 필요한 모듈 import"
   ]
  },
  {
   "cell_type": "code",
   "execution_count": 1,
   "id": "5f450db9",
   "metadata": {},
   "outputs": [],
   "source": [
    "# 손글씨 데이터\n",
    "from sklearn.datasets import load_digits \n",
    "# 와인 데이터\n",
    "from sklearn.datasets import load_wine \n",
    " # 유방암 데이터\n",
    "from sklearn.datasets import load_breast_cancer            \n",
    "\n",
    "from sklearn.model_selection import train_test_split        \n",
    "from sklearn.metrics import classification_report\n",
    "from sklearn.metrics import confusion_matrix\n",
    "from sklearn.metrics import accuracy_score\n",
    "from sklearn.tree import DecisionTreeClassifier\n",
    "from sklearn.ensemble import RandomForestClassifier\n",
    "from sklearn import svm\n",
    "from sklearn.linear_model import SGDClassifier\n",
    "from sklearn.linear_model import LogisticRegression\n",
    "from sklearn.preprocessing import StandardScaler"
   ]
  },
  {
   "cell_type": "markdown",
   "id": "3b216de1",
   "metadata": {},
   "source": [
    "## (2) 데이터 준비"
   ]
  },
  {
   "cell_type": "code",
   "execution_count": 2,
   "id": "6974650a",
   "metadata": {},
   "outputs": [
    {
     "data": {
      "text/plain": [
       "['DESCR', 'data', 'feature_names', 'frame', 'images', 'target', 'target_names']"
      ]
     },
     "execution_count": 2,
     "metadata": {},
     "output_type": "execute_result"
    }
   ],
   "source": [
    "digits = load_digits()\n",
    "\n",
    "dir(digits)"
   ]
  },
  {
   "cell_type": "markdown",
   "id": "7e5ba364",
   "metadata": {},
   "source": [
    "## (3) 데이터 이해하기\n",
    "- Feature Data 지정하기\n",
    "- Label Data 지정하기\n",
    "- Target Names 출력해 보기\n",
    "- 데이터 Describe 해 보기"
   ]
  },
  {
   "cell_type": "code",
   "execution_count": 3,
   "id": "46054d9a",
   "metadata": {},
   "outputs": [
    {
     "name": "stdout",
     "output_type": "stream",
     "text": [
      "[[ 0.  0.  5. ...  0.  0.  0.]\n",
      " [ 0.  0.  0. ... 10.  0.  0.]\n",
      " [ 0.  0.  0. ... 16.  9.  0.]\n",
      " ...\n",
      " [ 0.  0.  1. ...  6.  0.  0.]\n",
      " [ 0.  0.  2. ... 12.  0.  0.]\n",
      " [ 0.  0. 10. ... 12.  1.  0.]]\n",
      "------------------------------------------------------------\n",
      "[0 1 2 ... 8 9 8]\n",
      "------------------------------------------------------------\n",
      "[0 1 2 3 4 5 6 7 8 9]\n",
      "------------------------------------------------------------\n",
      ".. _digits_dataset:\n",
      "\n",
      "Optical recognition of handwritten digits dataset\n",
      "--------------------------------------------------\n",
      "\n",
      "**Data Set Characteristics:**\n",
      "\n",
      "    :Number of Instances: 1797\n",
      "    :Number of Attributes: 64\n",
      "    :Attribute Information: 8x8 image of integer pixels in the range 0..16.\n",
      "    :Missing Attribute Values: None\n",
      "    :Creator: E. Alpaydin (alpaydin '@' boun.edu.tr)\n",
      "    :Date: July; 1998\n",
      "\n",
      "This is a copy of the test set of the UCI ML hand-written digits datasets\n",
      "https://archive.ics.uci.edu/ml/datasets/Optical+Recognition+of+Handwritten+Digits\n",
      "\n",
      "The data set contains images of hand-written digits: 10 classes where\n",
      "each class refers to a digit.\n",
      "\n",
      "Preprocessing programs made available by NIST were used to extract\n",
      "normalized bitmaps of handwritten digits from a preprinted form. From a\n",
      "total of 43 people, 30 contributed to the training set and different 13\n",
      "to the test set. 32x32 bitmaps are divided into nonoverlapping blocks of\n",
      "4x4 and the number of on pixels are counted in each block. This generates\n",
      "an input matrix of 8x8 where each element is an integer in the range\n",
      "0..16. This reduces dimensionality and gives invariance to small\n",
      "distortions.\n",
      "\n",
      "For info on NIST preprocessing routines, see M. D. Garris, J. L. Blue, G.\n",
      "T. Candela, D. L. Dimmick, J. Geist, P. J. Grother, S. A. Janet, and C.\n",
      "L. Wilson, NIST Form-Based Handprint Recognition System, NISTIR 5469,\n",
      "1994.\n",
      "\n",
      ".. topic:: References\n",
      "\n",
      "  - C. Kaynak (1995) Methods of Combining Multiple Classifiers and Their\n",
      "    Applications to Handwritten Digit Recognition, MSc Thesis, Institute of\n",
      "    Graduate Studies in Science and Engineering, Bogazici University.\n",
      "  - E. Alpaydin, C. Kaynak (1998) Cascading Classifiers, Kybernetika.\n",
      "  - Ken Tang and Ponnuthurai N. Suganthan and Xi Yao and A. Kai Qin.\n",
      "    Linear dimensionalityreduction using relevance weighted LDA. School of\n",
      "    Electrical and Electronic Engineering Nanyang Technological University.\n",
      "    2005.\n",
      "  - Claudio Gentile. A New Approximate Maximal Margin Classification\n",
      "    Algorithm. NIPS. 2000.\n",
      "\n"
     ]
    }
   ],
   "source": [
    "# Feature Date 지정\n",
    "digits_features = digits.data\n",
    "print(digits_features)\n",
    "print(\"------------------------------------------------------------\")\n",
    "\n",
    "# Label Data 지정\n",
    "digits_labels = digits.target\n",
    "print(digits_labels)\n",
    "print(\"------------------------------------------------------------\")\n",
    "\n",
    "# Target Names 출력\n",
    "print(digits.target_names)\n",
    "print(\"------------------------------------------------------------\")\n",
    "\n",
    "# 데이터 Describe\n",
    "print(digits.DESCR)"
   ]
  },
  {
   "cell_type": "markdown",
   "id": "845f37a6",
   "metadata": {},
   "source": [
    "## (4) train, test 데이터 분리\n",
    "- train_test_split() : scikit-learn 패키지 중 model_selection에 들어있는 데이터 분할을 위한 함수\n",
    "- train_test_split(arrays, test_size, train_size, random_state, shuffle, stratify)\n",
    "    - arrays : 분할시킬 데이터를 입력\n",
    "    - test_size : 학습 데이터셋의 비율(float)이나 갯수(int)\n",
    "    - random_state : 데이터 분할시 셔플이 이루어지는데 이를 위한 시드값\n",
    "    - shuffle : 셔플여부결정(default = True)\n",
    "    - stratify : 지정한 Data의 비율을 유지"
   ]
  },
  {
   "cell_type": "code",
   "execution_count": 4,
   "id": "843a014c",
   "metadata": {},
   "outputs": [
    {
     "name": "stdout",
     "output_type": "stream",
     "text": [
      "X_train 개수:  1437 , X_test 개수:  360\n"
     ]
    }
   ],
   "source": [
    "X_train, X_test, y_train, y_test = train_test_split(digits_features, digits_labels, test_size=0.2, random_state=42 )\n",
    "\n",
    "print('X_train 개수: ', len(X_train),', X_test 개수: ', len(X_test))"
   ]
  },
  {
   "cell_type": "markdown",
   "id": "9d0dce03",
   "metadata": {},
   "source": [
    "## (5) 다양한 모델로 학습 및 평가\n",
    "- Decision Tree 사용해 보기\n",
    "- Random Forest 사용해 보기\n",
    "- SVM 사용해 보기\n",
    "- SGD Classifier 사용해 보기\n",
    "- Logistic Regression 사용해 보기"
   ]
  },
  {
   "cell_type": "code",
   "execution_count": 8,
   "id": "9809f695",
   "metadata": {},
   "outputs": [],
   "source": [
    "# Decision Tree\n",
    "decision_tree = DecisionTreeClassifier(random_state=32)\n",
    "\n",
    "# Random Forest \n",
    "random_forest = RandomForestClassifier(random_state=32)\n",
    "\n",
    "# SVM\n",
    "svm_model = svm.SVC()\n",
    "\n",
    "# SGD Classifier\n",
    "sgd = SGDClassifier()\n",
    "\n",
    "# Logistic Regression\n",
    "logistic_regression = LogisticRegression()"
   ]
  },
  {
   "cell_type": "markdown",
   "id": "d6788d91",
   "metadata": {},
   "source": [
    "### 1. Decision Tree"
   ]
  },
  {
   "cell_type": "code",
   "execution_count": 9,
   "id": "3435fb9d",
   "metadata": {},
   "outputs": [],
   "source": [
    "# 모델 학습\n",
    "decision_tree.fit(X_train, y_train)\n",
    "\n",
    "# 예측\n",
    "y_pred_decision_tree = decision_tree.predict(X_test)"
   ]
  },
  {
   "cell_type": "code",
   "execution_count": 11,
   "id": "611e6aaa",
   "metadata": {},
   "outputs": [
    {
     "name": "stdout",
     "output_type": "stream",
     "text": [
      "              precision    recall  f1-score   support\n",
      "\n",
      "           0       0.97      0.88      0.92        33\n",
      "           1       0.81      0.79      0.80        28\n",
      "           2       0.87      0.82      0.84        33\n",
      "           3       0.79      0.91      0.85        34\n",
      "           4       0.81      0.85      0.83        46\n",
      "           5       0.91      0.83      0.87        47\n",
      "           6       0.94      0.94      0.94        35\n",
      "           7       0.81      0.85      0.83        34\n",
      "           8       0.85      0.77      0.81        30\n",
      "           9       0.80      0.88      0.83        40\n",
      "\n",
      "    accuracy                           0.85       360\n",
      "   macro avg       0.86      0.85      0.85       360\n",
      "weighted avg       0.86      0.85      0.85       360\n",
      "\n",
      "[[29  0  0  0  2  1  0  0  0  1]\n",
      " [ 0 22  1  0  1  0  1  1  1  1]\n",
      " [ 1  1 27  2  1  1  0  0  0  0]\n",
      " [ 0  0  0 31  0  0  0  0  2  1]\n",
      " [ 0  2  0  0 39  0  0  5  0  0]\n",
      " [ 0  0  3  0  1 39  1  1  0  2]\n",
      " [ 0  0  0  0  2  0 33  0  0  0]\n",
      " [ 0  0  0  2  2  0  0 29  0  1]\n",
      " [ 0  2  0  1  0  1  0  0 23  3]\n",
      " [ 0  0  0  3  0  1  0  0  1 35]]\n"
     ]
    }
   ],
   "source": [
    "# accuracy 확인\n",
    "print(classification_report(y_test, y_pred_decision_tree))\n",
    "\n",
    "# confusion_matrix\n",
    "\n",
    "print(confusion_matrix(y_test, y_pred_decision_tree))"
   ]
  },
  {
   "cell_type": "markdown",
   "id": "f96cd032",
   "metadata": {},
   "source": [
    "### accuracy = 85%\n",
    "- 모든 숫자를 잘 맞추는게 중요한데 Decision Tree는 정확도가 낮은편이다\n",
    "- precision을 보면 평균보다 낮은 값이 6개나 된다\n",
    "- recall을 보면 평균보다 낮은 값이 4개가 있다\n",
    "- confusion matrix를 보면 실제 5인데 세개가 2로 분류되었다는걸 알 수 있다"
   ]
  },
  {
   "cell_type": "markdown",
   "id": "c1671994",
   "metadata": {},
   "source": [
    "### 2. Random Forest"
   ]
  },
  {
   "cell_type": "code",
   "execution_count": 22,
   "id": "501d38a9",
   "metadata": {},
   "outputs": [],
   "source": [
    "# 모델 학습\n",
    "random_forest.fit(X_train, y_train)\n",
    "\n",
    "# 예측\n",
    "y_pred_random_forest = random_forest.predict(X_test)"
   ]
  },
  {
   "cell_type": "code",
   "execution_count": 23,
   "id": "2730c5b3",
   "metadata": {},
   "outputs": [
    {
     "name": "stdout",
     "output_type": "stream",
     "text": [
      "              precision    recall  f1-score   support\n",
      "\n",
      "           0       1.00      1.00      1.00        33\n",
      "           1       0.93      1.00      0.97        28\n",
      "           2       1.00      1.00      1.00        33\n",
      "           3       1.00      1.00      1.00        34\n",
      "           4       1.00      1.00      1.00        46\n",
      "           5       0.96      0.98      0.97        47\n",
      "           6       0.97      0.97      0.97        35\n",
      "           7       0.97      0.97      0.97        34\n",
      "           8       1.00      0.93      0.97        30\n",
      "           9       0.97      0.95      0.96        40\n",
      "\n",
      "    accuracy                           0.98       360\n",
      "   macro avg       0.98      0.98      0.98       360\n",
      "weighted avg       0.98      0.98      0.98       360\n",
      "\n",
      "[[33  0  0  0  0  0  0  0  0  0]\n",
      " [ 0 28  0  0  0  0  0  0  0  0]\n",
      " [ 0  0 33  0  0  0  0  0  0  0]\n",
      " [ 0  0  0 34  0  0  0  0  0  0]\n",
      " [ 0  0  0  0 46  0  0  0  0  0]\n",
      " [ 0  0  0  0  0 46  1  0  0  0]\n",
      " [ 0  0  0  0  0  1 34  0  0  0]\n",
      " [ 0  0  0  0  0  0  0 33  0  1]\n",
      " [ 0  2  0  0  0  0  0  0 28  0]\n",
      " [ 0  0  0  0  0  1  0  1  0 38]]\n"
     ]
    }
   ],
   "source": [
    "# accuracy 확인\n",
    "print(classification_report(y_test,y_pred_random_forest))\n",
    "\n",
    "# confusion_matrix\n",
    "\n",
    "print(confusion_matrix(y_test, y_pred_random_forest))"
   ]
  },
  {
   "cell_type": "markdown",
   "id": "142b3262",
   "metadata": {},
   "source": [
    "### accuracy = 98%\n",
    "- Random Forest는 앞에 있는 Decision Tree보다 훨씬 높은 정확도를 보인다\n",
    "- 그치만 precision을 보면 평균보다 낮은 값이 5개나 있다\n",
    "- confusion matrix에서 보면 실제 8인 데이터의 분류가 가장 안된걸로 보인다"
   ]
  },
  {
   "cell_type": "markdown",
   "id": "55280cc5",
   "metadata": {},
   "source": [
    "### 3. SVM"
   ]
  },
  {
   "cell_type": "code",
   "execution_count": 24,
   "id": "e1e30edc",
   "metadata": {},
   "outputs": [],
   "source": [
    "# 모델 학습\n",
    "svm_model.fit(X_train, y_train)\n",
    "\n",
    "# 예측\n",
    "y_pred_svm_model = svm_model.predict(X_test)"
   ]
  },
  {
   "cell_type": "code",
   "execution_count": 25,
   "id": "20f6995d",
   "metadata": {},
   "outputs": [
    {
     "name": "stdout",
     "output_type": "stream",
     "text": [
      "              precision    recall  f1-score   support\n",
      "\n",
      "           0       1.00      1.00      1.00        33\n",
      "           1       1.00      1.00      1.00        28\n",
      "           2       1.00      1.00      1.00        33\n",
      "           3       1.00      1.00      1.00        34\n",
      "           4       1.00      1.00      1.00        46\n",
      "           5       0.98      0.98      0.98        47\n",
      "           6       0.97      1.00      0.99        35\n",
      "           7       0.97      0.97      0.97        34\n",
      "           8       1.00      0.97      0.98        30\n",
      "           9       0.95      0.95      0.95        40\n",
      "\n",
      "    accuracy                           0.99       360\n",
      "   macro avg       0.99      0.99      0.99       360\n",
      "weighted avg       0.99      0.99      0.99       360\n",
      "\n",
      "[[33  0  0  0  0  0  0  0  0  0]\n",
      " [ 0 28  0  0  0  0  0  0  0  0]\n",
      " [ 0  0 33  0  0  0  0  0  0  0]\n",
      " [ 0  0  0 34  0  0  0  0  0  0]\n",
      " [ 0  0  0  0 46  0  0  0  0  0]\n",
      " [ 0  0  0  0  0 46  1  0  0  0]\n",
      " [ 0  0  0  0  0  0 35  0  0  0]\n",
      " [ 0  0  0  0  0  0  0 33  0  1]\n",
      " [ 0  0  0  0  0  0  0  0 29  1]\n",
      " [ 0  0  0  0  0  1  0  1  0 38]]\n"
     ]
    }
   ],
   "source": [
    "# accuracy 확인\n",
    "print(classification_report(y_test,y_pred_svm_model))\n",
    "\n",
    "# confusion_matrix\n",
    "\n",
    "print(confusion_matrix(y_test, y_pred_svm_model))"
   ]
  },
  {
   "cell_type": "markdown",
   "id": "b1a032c8",
   "metadata": {},
   "source": [
    "### accuracy = 99%\n",
    "- 정확도는 99%로 분류를 거의 완벽하게 했다고 볼 수 있다\n",
    "- precision을 보면 평균보다 낮은 값이 2개 존재한다\n",
    "- confusion matrix를 보면 5개 데이터를 제외하고는 분류를 잘 했다고 볼 수 있다"
   ]
  },
  {
   "cell_type": "markdown",
   "id": "ef1a7185",
   "metadata": {},
   "source": [
    "### 4. SGD Classifier"
   ]
  },
  {
   "cell_type": "code",
   "execution_count": 26,
   "id": "900438c8",
   "metadata": {},
   "outputs": [],
   "source": [
    "# 모델 학습\n",
    "sgd.fit(X_train, y_train)\n",
    "\n",
    "# 예측\n",
    "y_pred_sgd = sgd.predict(X_test)"
   ]
  },
  {
   "cell_type": "code",
   "execution_count": 27,
   "id": "690a94ae",
   "metadata": {},
   "outputs": [
    {
     "name": "stdout",
     "output_type": "stream",
     "text": [
      "              precision    recall  f1-score   support\n",
      "\n",
      "           0       1.00      0.97      0.98        33\n",
      "           1       1.00      0.79      0.88        28\n",
      "           2       0.97      1.00      0.99        33\n",
      "           3       1.00      0.91      0.95        34\n",
      "           4       1.00      0.98      0.99        46\n",
      "           5       0.92      0.98      0.95        47\n",
      "           6       0.97      0.97      0.97        35\n",
      "           7       0.97      0.97      0.97        34\n",
      "           8       0.67      0.97      0.79        30\n",
      "           9       1.00      0.85      0.92        40\n",
      "\n",
      "    accuracy                           0.94       360\n",
      "   macro avg       0.95      0.94      0.94       360\n",
      "weighted avg       0.95      0.94      0.94       360\n",
      "\n",
      "[[32  0  0  0  0  0  0  1  0  0]\n",
      " [ 0 22  1  0  0  0  0  0  5  0]\n",
      " [ 0  0 33  0  0  0  0  0  0  0]\n",
      " [ 0  0  0 31  0  1  0  0  2  0]\n",
      " [ 0  0  0  0 45  0  1  0  0  0]\n",
      " [ 0  0  0  0  0 46  0  0  1  0]\n",
      " [ 0  0  0  0  0  1 34  0  0  0]\n",
      " [ 0  0  0  0  0  0  0 33  1  0]\n",
      " [ 0  0  0  0  0  1  0  0 29  0]\n",
      " [ 0  0  0  0  0  1  0  0  5 34]]\n"
     ]
    }
   ],
   "source": [
    "# accuracy 확인\n",
    "print(classification_report(y_test,y_pred_sgd))\n",
    "\n",
    "# confusion_matrix\n",
    "\n",
    "print(confusion_matrix(y_test, y_pred_sgd))"
   ]
  },
  {
   "cell_type": "markdown",
   "id": "dba97b93",
   "metadata": {},
   "source": [
    "### accuracy = 94%\n",
    "- 정확도는 94%로 낮지 않은 값이다\n",
    "- precision을 보면 1인값도 있는 반면에 0.67으로 현저하게 낮은 값도 있다\n",
    "- precision과 recall의 편차가 큰편이다\n",
    "- confusion_matrix를 보면 실제 9인 데이터 5개를 8로 분류한 것을 볼 수 있다"
   ]
  },
  {
   "cell_type": "markdown",
   "id": "b17960df",
   "metadata": {},
   "source": [
    "### 5. Logistic Regression"
   ]
  },
  {
   "cell_type": "code",
   "execution_count": 18,
   "id": "d183b29f",
   "metadata": {},
   "outputs": [
    {
     "name": "stderr",
     "output_type": "stream",
     "text": [
      "/opt/conda/lib/python3.9/site-packages/sklearn/linear_model/_logistic.py:814: ConvergenceWarning: lbfgs failed to converge (status=1):\n",
      "STOP: TOTAL NO. of ITERATIONS REACHED LIMIT.\n",
      "\n",
      "Increase the number of iterations (max_iter) or scale the data as shown in:\n",
      "    https://scikit-learn.org/stable/modules/preprocessing.html\n",
      "Please also refer to the documentation for alternative solver options:\n",
      "    https://scikit-learn.org/stable/modules/linear_model.html#logistic-regression\n",
      "  n_iter_i = _check_optimize_result(\n"
     ]
    }
   ],
   "source": [
    "# 모델 학습\n",
    "logistic_regression.fit(X_train, y_train)\n",
    "\n",
    "# 예측\n",
    "y_pred_logistic_regression = logistic_regression.predict(X_test)"
   ]
  },
  {
   "cell_type": "markdown",
   "id": "97e4a6be",
   "metadata": {},
   "source": [
    "####  * default max_iter 100으로는 converged가 되지 않아서 반복 횟수의 max를 크게 해줘서 경고 해결"
   ]
  },
  {
   "cell_type": "code",
   "execution_count": 19,
   "id": "0d667030",
   "metadata": {},
   "outputs": [],
   "source": [
    "logistic_regression = LogisticRegression(max_iter=5000)"
   ]
  },
  {
   "cell_type": "code",
   "execution_count": 20,
   "id": "96a5ee9e",
   "metadata": {},
   "outputs": [],
   "source": [
    "# 모델 학습\n",
    "logistic_regression.fit(X_train, y_train)\n",
    "\n",
    "# 예측\n",
    "y_pred_logistic_regression = logistic_regression.predict(X_test)"
   ]
  },
  {
   "cell_type": "code",
   "execution_count": 21,
   "id": "26bfe8c2",
   "metadata": {},
   "outputs": [
    {
     "name": "stdout",
     "output_type": "stream",
     "text": [
      "              precision    recall  f1-score   support\n",
      "\n",
      "           0       1.00      1.00      1.00        33\n",
      "           1       0.97      1.00      0.98        28\n",
      "           2       0.97      1.00      0.99        33\n",
      "           3       0.97      0.97      0.97        34\n",
      "           4       1.00      0.98      0.99        46\n",
      "           5       0.92      0.94      0.93        47\n",
      "           6       0.97      0.97      0.97        35\n",
      "           7       1.00      0.97      0.99        34\n",
      "           8       0.97      0.97      0.97        30\n",
      "           9       0.97      0.95      0.96        40\n",
      "\n",
      "    accuracy                           0.97       360\n",
      "   macro avg       0.97      0.97      0.97       360\n",
      "weighted avg       0.97      0.97      0.97       360\n",
      "\n",
      "[[33  0  0  0  0  0  0  0  0  0]\n",
      " [ 0 28  0  0  0  0  0  0  0  0]\n",
      " [ 0  0 33  0  0  0  0  0  0  0]\n",
      " [ 0  0  0 33  0  1  0  0  0  0]\n",
      " [ 0  1  0  0 45  0  0  0  0  0]\n",
      " [ 0  0  1  0  0 44  1  0  0  1]\n",
      " [ 0  0  0  0  0  1 34  0  0  0]\n",
      " [ 0  0  0  0  0  1  0 33  0  0]\n",
      " [ 0  0  0  0  0  1  0  0 29  0]\n",
      " [ 0  0  0  1  0  0  0  0  1 38]]\n"
     ]
    }
   ],
   "source": [
    "# accuracy 확인\n",
    "print(classification_report(y_test,y_pred_logistic_regression))\n",
    "\n",
    "# confusion_matrix\n",
    "\n",
    "print(confusion_matrix(y_test, y_pred_logistic_regression))"
   ]
  },
  {
   "cell_type": "markdown",
   "id": "53676a0f",
   "metadata": {},
   "source": [
    "### accuracy = 97%\n",
    "- 정확도는 높은 편이다\n",
    "- precision과 recall을 보면 평균에 거의 모여있는 것 같다(편차가 작음)\n",
    "- confusion_matrix를 보면 5개의 데이터를 제외하고는 잘 분류했다고 볼 수 있다"
   ]
  },
  {
   "cell_type": "markdown",
   "id": "2db6859b",
   "metadata": {},
   "source": [
    "## (6) 결론\n",
    "- 손글씨 데이터의 경우에는 모든 숫자를 정확하게 맞추는게 중요하다. 즉, accuracy와 F1-score가 높을 수록 좋은 모델이다\n",
    "- accuracy와 confusion matrix를 확인했을 때, 손글씨 데이터의 경우 SVM을 사용하는 것이 가장 좋다고 판단한다"
   ]
  },
  {
   "cell_type": "markdown",
   "id": "7b52316b",
   "metadata": {},
   "source": [
    "# 2. load_wine : 와인 분류"
   ]
  },
  {
   "cell_type": "markdown",
   "id": "d8678e88",
   "metadata": {},
   "source": [
    "## (1) 데이터 준비"
   ]
  },
  {
   "cell_type": "code",
   "execution_count": 5,
   "id": "cacd0619",
   "metadata": {},
   "outputs": [
    {
     "data": {
      "text/plain": [
       "['DESCR', 'data', 'feature_names', 'frame', 'target', 'target_names']"
      ]
     },
     "execution_count": 5,
     "metadata": {},
     "output_type": "execute_result"
    }
   ],
   "source": [
    "wine = load_wine()\n",
    "\n",
    "dir(wine)"
   ]
  },
  {
   "cell_type": "markdown",
   "id": "541d595d",
   "metadata": {},
   "source": [
    "## (2) 데이터 이해하기"
   ]
  },
  {
   "cell_type": "code",
   "execution_count": 6,
   "id": "0cc2604d",
   "metadata": {},
   "outputs": [
    {
     "name": "stdout",
     "output_type": "stream",
     "text": [
      "['class_0' 'class_1' 'class_2']\n",
      "\n",
      ".. _wine_dataset:\n",
      "\n",
      "Wine recognition dataset\n",
      "------------------------\n",
      "\n",
      "**Data Set Characteristics:**\n",
      "\n",
      "    :Number of Instances: 178 (50 in each of three classes)\n",
      "    :Number of Attributes: 13 numeric, predictive attributes and the class\n",
      "    :Attribute Information:\n",
      " \t\t- Alcohol\n",
      " \t\t- Malic acid\n",
      " \t\t- Ash\n",
      "\t\t- Alcalinity of ash  \n",
      " \t\t- Magnesium\n",
      "\t\t- Total phenols\n",
      " \t\t- Flavanoids\n",
      " \t\t- Nonflavanoid phenols\n",
      " \t\t- Proanthocyanins\n",
      "\t\t- Color intensity\n",
      " \t\t- Hue\n",
      " \t\t- OD280/OD315 of diluted wines\n",
      " \t\t- Proline\n",
      "\n",
      "    - class:\n",
      "            - class_0\n",
      "            - class_1\n",
      "            - class_2\n",
      "\t\t\n",
      "    :Summary Statistics:\n",
      "    \n",
      "    ============================= ==== ===== ======= =====\n",
      "                                   Min   Max   Mean     SD\n",
      "    ============================= ==== ===== ======= =====\n",
      "    Alcohol:                      11.0  14.8    13.0   0.8\n",
      "    Malic Acid:                   0.74  5.80    2.34  1.12\n",
      "    Ash:                          1.36  3.23    2.36  0.27\n",
      "    Alcalinity of Ash:            10.6  30.0    19.5   3.3\n",
      "    Magnesium:                    70.0 162.0    99.7  14.3\n",
      "    Total Phenols:                0.98  3.88    2.29  0.63\n",
      "    Flavanoids:                   0.34  5.08    2.03  1.00\n",
      "    Nonflavanoid Phenols:         0.13  0.66    0.36  0.12\n",
      "    Proanthocyanins:              0.41  3.58    1.59  0.57\n",
      "    Colour Intensity:              1.3  13.0     5.1   2.3\n",
      "    Hue:                          0.48  1.71    0.96  0.23\n",
      "    OD280/OD315 of diluted wines: 1.27  4.00    2.61  0.71\n",
      "    Proline:                       278  1680     746   315\n",
      "    ============================= ==== ===== ======= =====\n",
      "\n",
      "    :Missing Attribute Values: None\n",
      "    :Class Distribution: class_0 (59), class_1 (71), class_2 (48)\n",
      "    :Creator: R.A. Fisher\n",
      "    :Donor: Michael Marshall (MARSHALL%PLU@io.arc.nasa.gov)\n",
      "    :Date: July, 1988\n",
      "\n",
      "This is a copy of UCI ML Wine recognition datasets.\n",
      "https://archive.ics.uci.edu/ml/machine-learning-databases/wine/wine.data\n",
      "\n",
      "The data is the results of a chemical analysis of wines grown in the same\n",
      "region in Italy by three different cultivators. There are thirteen different\n",
      "measurements taken for different constituents found in the three types of\n",
      "wine.\n",
      "\n",
      "Original Owners: \n",
      "\n",
      "Forina, M. et al, PARVUS - \n",
      "An Extendible Package for Data Exploration, Classification and Correlation. \n",
      "Institute of Pharmaceutical and Food Analysis and Technologies,\n",
      "Via Brigata Salerno, 16147 Genoa, Italy.\n",
      "\n",
      "Citation:\n",
      "\n",
      "Lichman, M. (2013). UCI Machine Learning Repository\n",
      "[https://archive.ics.uci.edu/ml]. Irvine, CA: University of California,\n",
      "School of Information and Computer Science. \n",
      "\n",
      ".. topic:: References\n",
      "\n",
      "  (1) S. Aeberhard, D. Coomans and O. de Vel, \n",
      "  Comparison of Classifiers in High Dimensional Settings, \n",
      "  Tech. Rep. no. 92-02, (1992), Dept. of Computer Science and Dept. of  \n",
      "  Mathematics and Statistics, James Cook University of North Queensland. \n",
      "  (Also submitted to Technometrics). \n",
      "\n",
      "  The data was used with many others for comparing various \n",
      "  classifiers. The classes are separable, though only RDA \n",
      "  has achieved 100% correct classification. \n",
      "  (RDA : 100%, QDA 99.4%, LDA 98.9%, 1NN 96.1% (z-transformed data)) \n",
      "  (All results using the leave-one-out technique) \n",
      "\n",
      "  (2) S. Aeberhard, D. Coomans and O. de Vel, \n",
      "  \"THE CLASSIFICATION PERFORMANCE OF RDA\" \n",
      "  Tech. Rep. no. 92-01, (1992), Dept. of Computer Science and Dept. of \n",
      "  Mathematics and Statistics, James Cook University of North Queensland. \n",
      "  (Also submitted to Journal of Chemometrics).\n",
      "\n"
     ]
    }
   ],
   "source": [
    "# Feature Date 지정\n",
    "wine_features = wine.data\n",
    "\n",
    "# Label Data 지정\n",
    "wine_labels = wine.target\n",
    "\n",
    "# Target Names 출력\n",
    "print(wine.target_names)\n",
    "print()\n",
    "\n",
    "# 데이터 Describe\n",
    "print(wine.DESCR)"
   ]
  },
  {
   "cell_type": "markdown",
   "id": "f5ec1b9f",
   "metadata": {},
   "source": [
    "## (3) train,test 데이터 분리"
   ]
  },
  {
   "cell_type": "code",
   "execution_count": 25,
   "id": "29d2b31f",
   "metadata": {},
   "outputs": [
    {
     "name": "stdout",
     "output_type": "stream",
     "text": [
      "X_train 개수:  142 , X_test 개수:  36\n"
     ]
    }
   ],
   "source": [
    "X_train, X_test, y_train, y_test = train_test_split(wine_features, wine_labels, test_size=0.2, random_state=32 )\n",
    "\n",
    "print('X_train 개수: ', len(X_train),', X_test 개수: ', len(X_test))"
   ]
  },
  {
   "cell_type": "markdown",
   "id": "650aefa1",
   "metadata": {},
   "source": [
    "## (4) 다양한 모델로 학습 및 평가"
   ]
  },
  {
   "cell_type": "code",
   "execution_count": 26,
   "id": "e7d3dc9c",
   "metadata": {},
   "outputs": [],
   "source": [
    "# Decision Tree\n",
    "decision_tree = DecisionTreeClassifier(random_state=32)\n",
    "\n",
    "# Random Forest \n",
    "random_forest = RandomForestClassifier(random_state=32)\n",
    "\n",
    "# SVM\n",
    "svm_model = svm.SVC()\n",
    "\n",
    "# SGD Classifier\n",
    "sgd = SGDClassifier()\n",
    "\n",
    "# Logistic Regression\n",
    "logistic_regression = LogisticRegression(max_iter=5000)"
   ]
  },
  {
   "cell_type": "markdown",
   "id": "72e55cec",
   "metadata": {},
   "source": [
    "### 1. Decision Tree"
   ]
  },
  {
   "cell_type": "code",
   "execution_count": 9,
   "id": "6734ada9",
   "metadata": {},
   "outputs": [
    {
     "name": "stdout",
     "output_type": "stream",
     "text": [
      "[1 1 0 1 2 0 0 2 0 0 0 2 0 0 0 2 1 1 0 0 1 2 2 2 1 2 0 0 0 0 2 0 2 1 0 1]\n",
      "[1 1 0 2 2 0 0 2 0 0 1 2 0 0 0 2 1 1 0 0 1 2 2 2 1 2 0 0 0 0 1 0 2 1 0 1]\n"
     ]
    }
   ],
   "source": [
    "# 모델 학습\n",
    "decision_tree.fit(X_train, y_train)\n",
    "\n",
    "# 예측\n",
    "y_pred_decision_tree = decision_tree.predict(X_test)\n",
    "\n",
    "\n",
    "print(y_pred_decision_tree)\n",
    "print(y_test)"
   ]
  },
  {
   "cell_type": "code",
   "execution_count": 10,
   "id": "bcc347b4",
   "metadata": {},
   "outputs": [
    {
     "name": "stdout",
     "output_type": "stream",
     "text": [
      "              precision    recall  f1-score   support\n",
      "\n",
      "           0       0.94      1.00      0.97        16\n",
      "           1       0.89      0.80      0.84        10\n",
      "           2       0.90      0.90      0.90        10\n",
      "\n",
      "    accuracy                           0.92        36\n",
      "   macro avg       0.91      0.90      0.90        36\n",
      "weighted avg       0.92      0.92      0.91        36\n",
      "\n",
      "[[16  0  0]\n",
      " [ 1  8  1]\n",
      " [ 0  1  9]]\n"
     ]
    }
   ],
   "source": [
    "# accuracy 확인\n",
    "print(classification_report(y_test, y_pred_decision_tree))\n",
    "\n",
    "# confusion_matrix\n",
    "\n",
    "print(confusion_matrix(y_test, y_pred_decision_tree))"
   ]
  },
  {
   "cell_type": "markdown",
   "id": "f652c2ba",
   "metadata": {},
   "source": [
    "### accuracy = 92%\n",
    "- 정확도는 92%\n",
    "- 와인 데이터는 모든 클래스를 잘 맞추는 것이 중요한데 f1-score를 보면 평균보다 많이 낮은 값이 존재한다\n",
    "- confusion matrix 를 보면 3개의 데이터를 빼고는 전부 잘 맞췄다고 볼 수 있다"
   ]
  },
  {
   "cell_type": "markdown",
   "id": "ec5ff88c",
   "metadata": {},
   "source": [
    "### 2. Random Forest"
   ]
  },
  {
   "cell_type": "code",
   "execution_count": 11,
   "id": "ab658271",
   "metadata": {},
   "outputs": [],
   "source": [
    "# 모델 학습\n",
    "random_forest.fit(X_train, y_train)\n",
    "\n",
    "# 예측\n",
    "y_pred_random_forest = random_forest.predict(X_test)"
   ]
  },
  {
   "cell_type": "code",
   "execution_count": 12,
   "id": "29afcd43",
   "metadata": {},
   "outputs": [
    {
     "name": "stdout",
     "output_type": "stream",
     "text": [
      "              precision    recall  f1-score   support\n",
      "\n",
      "           0       1.00      1.00      1.00        16\n",
      "           1       1.00      0.90      0.95        10\n",
      "           2       0.91      1.00      0.95        10\n",
      "\n",
      "    accuracy                           0.97        36\n",
      "   macro avg       0.97      0.97      0.97        36\n",
      "weighted avg       0.97      0.97      0.97        36\n",
      "\n",
      "[[16  0  0]\n",
      " [ 0  9  1]\n",
      " [ 0  0 10]]\n"
     ]
    }
   ],
   "source": [
    "# accuracy 확인\n",
    "print(classification_report(y_test,y_pred_random_forest))\n",
    "\n",
    "# confusion_matrix\n",
    "\n",
    "print(confusion_matrix(y_test, y_pred_random_forest))"
   ]
  },
  {
   "cell_type": "markdown",
   "id": "81cc27e9",
   "metadata": {},
   "source": [
    "### accuracy = 97%\n",
    "- 정확도는 97%로 높은 편이다\n",
    "- precision과 recall을 보면 1인 클래스가 두개 존재한다\n",
    "- confusion matrix를 보면 실제 class1인 데이터를 한개를 class2로 분류한 것을 알 수 있다"
   ]
  },
  {
   "cell_type": "markdown",
   "id": "797ac3af",
   "metadata": {},
   "source": [
    "### 3. SVM"
   ]
  },
  {
   "cell_type": "code",
   "execution_count": 17,
   "id": "f7261d6b",
   "metadata": {},
   "outputs": [],
   "source": [
    "# 모델 학습\n",
    "svm_model.fit(X_train, y_train)\n",
    "\n",
    "# 예측\n",
    "y_pred_svm_model = svm_model.predict(X_test)"
   ]
  },
  {
   "cell_type": "code",
   "execution_count": 18,
   "id": "946a4351",
   "metadata": {},
   "outputs": [
    {
     "name": "stdout",
     "output_type": "stream",
     "text": [
      "              precision    recall  f1-score   support\n",
      "\n",
      "           0       0.93      0.81      0.87        16\n",
      "           1       0.41      0.90      0.56        10\n",
      "           2       1.00      0.00      0.00        10\n",
      "\n",
      "    accuracy                           0.61        36\n",
      "   macro avg       0.78      0.57      0.48        36\n",
      "weighted avg       0.80      0.61      0.54        36\n",
      "\n",
      "[[13  3  0]\n",
      " [ 1  9  0]\n",
      " [ 0 10  0]]\n"
     ]
    }
   ],
   "source": [
    "# accuracy 확인\n",
    "print(classification_report(y_test,y_pred_svm_model, zero_division=1))\n",
    "\n",
    "# confusion_matrix\n",
    "\n",
    "print(confusion_matrix(y_test, y_pred_svm_model))"
   ]
  },
  {
   "cell_type": "markdown",
   "id": "ea5c016a",
   "metadata": {},
   "source": [
    "### accuracy = 61%\n",
    "- 정확도가 상당히 낮은 편이다\n",
    "- 특히 재현율을 나타내는 recall을 보면 class2는 0으로 아예 맞추지 못했다\n",
    "- confusion matrix를 보면 실제 class2인데 class1이라고 분류한 데이터가 10개가 존재하는 것을 알 수 있다"
   ]
  },
  {
   "cell_type": "markdown",
   "id": "42a2b242",
   "metadata": {},
   "source": [
    "### 4. SGD Classifier"
   ]
  },
  {
   "cell_type": "code",
   "execution_count": 19,
   "id": "9d266397",
   "metadata": {},
   "outputs": [],
   "source": [
    "# 모델 학습\n",
    "sgd.fit(X_train, y_train)\n",
    "\n",
    "# 예측\n",
    "y_pred_sgd = sgd.predict(X_test)"
   ]
  },
  {
   "cell_type": "code",
   "execution_count": 20,
   "id": "bd9dff96",
   "metadata": {},
   "outputs": [
    {
     "name": "stdout",
     "output_type": "stream",
     "text": [
      "              precision    recall  f1-score   support\n",
      "\n",
      "           0       0.62      1.00      0.76        16\n",
      "           1       0.75      0.60      0.67        10\n",
      "           2       0.50      0.10      0.17        10\n",
      "\n",
      "    accuracy                           0.64        36\n",
      "   macro avg       0.62      0.57      0.53        36\n",
      "weighted avg       0.62      0.64      0.57        36\n",
      "\n",
      "[[16  0  0]\n",
      " [ 3  6  1]\n",
      " [ 7  2  1]]\n"
     ]
    }
   ],
   "source": [
    "# accuracy 확인\n",
    "print(classification_report(y_test,y_pred_sgd, zero_division=1))\n",
    "\n",
    "# confusion_matrix\n",
    "\n",
    "print(confusion_matrix(y_test, y_pred_sgd))"
   ]
  },
  {
   "cell_type": "markdown",
   "id": "212b21e1",
   "metadata": {},
   "source": [
    "### accuracy = 64%\n",
    "- 정확도가 64%로 낮다\n",
    "- precision과 recall 또한 평균이 0.62, 0.57인걸로 보아 분류가 잘 안됐음을 알 수 있다\n",
    "- confusion matrix를 보면 실제 class2인 데이터를 7개를 class0으로 분류한 것을 알 수 있다"
   ]
  },
  {
   "cell_type": "markdown",
   "id": "3f3b84e2",
   "metadata": {},
   "source": [
    "### 5. Logistic Regression"
   ]
  },
  {
   "cell_type": "code",
   "execution_count": 27,
   "id": "a373a801",
   "metadata": {},
   "outputs": [],
   "source": [
    "# 모델 학습\n",
    "logistic_regression.fit(X_train, y_train)\n",
    "\n",
    "# 예측\n",
    "y_pred_logistic_regression = logistic_regression.predict(X_test)"
   ]
  },
  {
   "cell_type": "code",
   "execution_count": 28,
   "id": "eb30d813",
   "metadata": {},
   "outputs": [
    {
     "name": "stdout",
     "output_type": "stream",
     "text": [
      "              precision    recall  f1-score   support\n",
      "\n",
      "           0       0.94      1.00      0.97        16\n",
      "           1       0.89      0.80      0.84        10\n",
      "           2       0.90      0.90      0.90        10\n",
      "\n",
      "    accuracy                           0.92        36\n",
      "   macro avg       0.91      0.90      0.90        36\n",
      "weighted avg       0.92      0.92      0.91        36\n",
      "\n",
      "[[16  0  0]\n",
      " [ 1  8  1]\n",
      " [ 0  1  9]]\n"
     ]
    }
   ],
   "source": [
    "# accuracy 확인\n",
    "print(classification_report(y_test,y_pred_logistic_regression))\n",
    "\n",
    "# confusion_matrix\n",
    "\n",
    "print(confusion_matrix(y_test, y_pred_logistic_regression))"
   ]
  },
  {
   "cell_type": "markdown",
   "id": "5373d5bb",
   "metadata": {},
   "source": [
    "### accuracy = 92%\n",
    "- 정확도는 92%로 앞에 SGD Classifier에 비교하면 훨씬 높은 값이다\n",
    "- recall을 보면 실제 class0인 데이터의 분류가 잘 됐음을 알 수 있다\n",
    "- confusion matrix를 보면 3개의 데이터를 제외하고는 분류가 잘 됐음을 알 수 있다"
   ]
  },
  {
   "cell_type": "markdown",
   "id": "6b6e6037",
   "metadata": {},
   "source": [
    "## (5) 결론\n",
    "- 와인 데이터의 경우에는 모든 클래스를 정확하게 맞추는게 중요하다. 즉, accuracy와 F1-score가 높을 수록 좋은 모델이다\n",
    "- accuracy가 97%이고 한개의 데이터를 제외하고 정확히 분류한 Random Forest을 사용하는 것이 가장 좋다고 판단한다"
   ]
  },
  {
   "cell_type": "markdown",
   "id": "e9002474",
   "metadata": {},
   "source": [
    "# 3. load_breast_cancer : 유방암 여부 진단"
   ]
  },
  {
   "cell_type": "markdown",
   "id": "a8e121d0",
   "metadata": {},
   "source": [
    "## (1) 데이터 준비"
   ]
  },
  {
   "cell_type": "code",
   "execution_count": 29,
   "id": "78385bb4",
   "metadata": {},
   "outputs": [
    {
     "data": {
      "text/plain": [
       "['DESCR',\n",
       " 'data',\n",
       " 'data_module',\n",
       " 'feature_names',\n",
       " 'filename',\n",
       " 'frame',\n",
       " 'target',\n",
       " 'target_names']"
      ]
     },
     "execution_count": 29,
     "metadata": {},
     "output_type": "execute_result"
    }
   ],
   "source": [
    "breast_cancer = load_breast_cancer()\n",
    "\n",
    "dir(breast_cancer)"
   ]
  },
  {
   "cell_type": "markdown",
   "id": "98406ccd",
   "metadata": {},
   "source": [
    "## (2) 데이터 이해하기"
   ]
  },
  {
   "cell_type": "code",
   "execution_count": 31,
   "id": "f6544aae",
   "metadata": {},
   "outputs": [
    {
     "name": "stdout",
     "output_type": "stream",
     "text": [
      "['malignant' 'benign']\n",
      "\n",
      ".. _breast_cancer_dataset:\n",
      "\n",
      "Breast cancer wisconsin (diagnostic) dataset\n",
      "--------------------------------------------\n",
      "\n",
      "**Data Set Characteristics:**\n",
      "\n",
      "    :Number of Instances: 569\n",
      "\n",
      "    :Number of Attributes: 30 numeric, predictive attributes and the class\n",
      "\n",
      "    :Attribute Information:\n",
      "        - radius (mean of distances from center to points on the perimeter)\n",
      "        - texture (standard deviation of gray-scale values)\n",
      "        - perimeter\n",
      "        - area\n",
      "        - smoothness (local variation in radius lengths)\n",
      "        - compactness (perimeter^2 / area - 1.0)\n",
      "        - concavity (severity of concave portions of the contour)\n",
      "        - concave points (number of concave portions of the contour)\n",
      "        - symmetry\n",
      "        - fractal dimension (\"coastline approximation\" - 1)\n",
      "\n",
      "        The mean, standard error, and \"worst\" or largest (mean of the three\n",
      "        worst/largest values) of these features were computed for each image,\n",
      "        resulting in 30 features.  For instance, field 0 is Mean Radius, field\n",
      "        10 is Radius SE, field 20 is Worst Radius.\n",
      "\n",
      "        - class:\n",
      "                - WDBC-Malignant\n",
      "                - WDBC-Benign\n",
      "\n",
      "    :Summary Statistics:\n",
      "\n",
      "    ===================================== ====== ======\n",
      "                                           Min    Max\n",
      "    ===================================== ====== ======\n",
      "    radius (mean):                        6.981  28.11\n",
      "    texture (mean):                       9.71   39.28\n",
      "    perimeter (mean):                     43.79  188.5\n",
      "    area (mean):                          143.5  2501.0\n",
      "    smoothness (mean):                    0.053  0.163\n",
      "    compactness (mean):                   0.019  0.345\n",
      "    concavity (mean):                     0.0    0.427\n",
      "    concave points (mean):                0.0    0.201\n",
      "    symmetry (mean):                      0.106  0.304\n",
      "    fractal dimension (mean):             0.05   0.097\n",
      "    radius (standard error):              0.112  2.873\n",
      "    texture (standard error):             0.36   4.885\n",
      "    perimeter (standard error):           0.757  21.98\n",
      "    area (standard error):                6.802  542.2\n",
      "    smoothness (standard error):          0.002  0.031\n",
      "    compactness (standard error):         0.002  0.135\n",
      "    concavity (standard error):           0.0    0.396\n",
      "    concave points (standard error):      0.0    0.053\n",
      "    symmetry (standard error):            0.008  0.079\n",
      "    fractal dimension (standard error):   0.001  0.03\n",
      "    radius (worst):                       7.93   36.04\n",
      "    texture (worst):                      12.02  49.54\n",
      "    perimeter (worst):                    50.41  251.2\n",
      "    area (worst):                         185.2  4254.0\n",
      "    smoothness (worst):                   0.071  0.223\n",
      "    compactness (worst):                  0.027  1.058\n",
      "    concavity (worst):                    0.0    1.252\n",
      "    concave points (worst):               0.0    0.291\n",
      "    symmetry (worst):                     0.156  0.664\n",
      "    fractal dimension (worst):            0.055  0.208\n",
      "    ===================================== ====== ======\n",
      "\n",
      "    :Missing Attribute Values: None\n",
      "\n",
      "    :Class Distribution: 212 - Malignant, 357 - Benign\n",
      "\n",
      "    :Creator:  Dr. William H. Wolberg, W. Nick Street, Olvi L. Mangasarian\n",
      "\n",
      "    :Donor: Nick Street\n",
      "\n",
      "    :Date: November, 1995\n",
      "\n",
      "This is a copy of UCI ML Breast Cancer Wisconsin (Diagnostic) datasets.\n",
      "https://goo.gl/U2Uwz2\n",
      "\n",
      "Features are computed from a digitized image of a fine needle\n",
      "aspirate (FNA) of a breast mass.  They describe\n",
      "characteristics of the cell nuclei present in the image.\n",
      "\n",
      "Separating plane described above was obtained using\n",
      "Multisurface Method-Tree (MSM-T) [K. P. Bennett, \"Decision Tree\n",
      "Construction Via Linear Programming.\" Proceedings of the 4th\n",
      "Midwest Artificial Intelligence and Cognitive Science Society,\n",
      "pp. 97-101, 1992], a classification method which uses linear\n",
      "programming to construct a decision tree.  Relevant features\n",
      "were selected using an exhaustive search in the space of 1-4\n",
      "features and 1-3 separating planes.\n",
      "\n",
      "The actual linear program used to obtain the separating plane\n",
      "in the 3-dimensional space is that described in:\n",
      "[K. P. Bennett and O. L. Mangasarian: \"Robust Linear\n",
      "Programming Discrimination of Two Linearly Inseparable Sets\",\n",
      "Optimization Methods and Software 1, 1992, 23-34].\n",
      "\n",
      "This database is also available through the UW CS ftp server:\n",
      "\n",
      "ftp ftp.cs.wisc.edu\n",
      "cd math-prog/cpo-dataset/machine-learn/WDBC/\n",
      "\n",
      ".. topic:: References\n",
      "\n",
      "   - W.N. Street, W.H. Wolberg and O.L. Mangasarian. Nuclear feature extraction \n",
      "     for breast tumor diagnosis. IS&T/SPIE 1993 International Symposium on \n",
      "     Electronic Imaging: Science and Technology, volume 1905, pages 861-870,\n",
      "     San Jose, CA, 1993.\n",
      "   - O.L. Mangasarian, W.N. Street and W.H. Wolberg. Breast cancer diagnosis and \n",
      "     prognosis via linear programming. Operations Research, 43(4), pages 570-577, \n",
      "     July-August 1995.\n",
      "   - W.H. Wolberg, W.N. Street, and O.L. Mangasarian. Machine learning techniques\n",
      "     to diagnose breast cancer from fine-needle aspirates. Cancer Letters 77 (1994) \n",
      "     163-171.\n"
     ]
    }
   ],
   "source": [
    "# Feature Date 지정\n",
    "breast_cancer_features = breast_cancer.data\n",
    "\n",
    "# Label Data 지정\n",
    "breast_cancer_labels = breast_cancer.target\n",
    "\n",
    "# Target Names 출력\n",
    "print(breast_cancer.target_names)\n",
    "print()\n",
    "\n",
    "# 데이터 Describe\n",
    "print(breast_cancer.DESCR)"
   ]
  },
  {
   "cell_type": "markdown",
   "id": "7a2d4627",
   "metadata": {},
   "source": [
    "## (3) train, test 데이터 분리"
   ]
  },
  {
   "cell_type": "code",
   "execution_count": 56,
   "id": "079e096f",
   "metadata": {},
   "outputs": [
    {
     "name": "stdout",
     "output_type": "stream",
     "text": [
      "X_train 개수:  455 , X_test 개수:  114\n"
     ]
    }
   ],
   "source": [
    "X_train, X_test, y_train, y_test = train_test_split(breast_cancer_features, breast_cancer_labels, test_size=0.2, random_state=42 )\n",
    "\n",
    "print('X_train 개수: ', len(X_train),', X_test 개수: ', len(X_test))"
   ]
  },
  {
   "cell_type": "markdown",
   "id": "5ef5c3cf",
   "metadata": {},
   "source": [
    "## (4) 다양한 모델로 학습 및 평가"
   ]
  },
  {
   "cell_type": "code",
   "execution_count": 57,
   "id": "ff73672c",
   "metadata": {},
   "outputs": [],
   "source": [
    "# Decision Tree\n",
    "decision_tree = DecisionTreeClassifier(random_state=32)\n",
    "\n",
    "# Random Forest \n",
    "random_forest = RandomForestClassifier(random_state=32)\n",
    "\n",
    "# SVM\n",
    "svm_model = svm.SVC()\n",
    "\n",
    "# SGD Classifier\n",
    "sgd = SGDClassifier()\n",
    "\n",
    "# Logistic Regression\n",
    "logistic_regression = LogisticRegression(max_iter=5000)"
   ]
  },
  {
   "cell_type": "markdown",
   "id": "3baaa2ac",
   "metadata": {},
   "source": [
    "### 1. Decision Tree"
   ]
  },
  {
   "cell_type": "code",
   "execution_count": 46,
   "id": "22a81a26",
   "metadata": {},
   "outputs": [],
   "source": [
    "# 모델 학습\n",
    "decision_tree.fit(X_train, y_train)\n",
    "\n",
    "# 예측\n",
    "y_pred_decision_tree = decision_tree.predict(X_test)"
   ]
  },
  {
   "cell_type": "code",
   "execution_count": 47,
   "id": "59824829",
   "metadata": {},
   "outputs": [
    {
     "name": "stdout",
     "output_type": "stream",
     "text": [
      "              precision    recall  f1-score   support\n",
      "\n",
      "           0       0.93      0.93      0.93        43\n",
      "           1       0.96      0.96      0.96        71\n",
      "\n",
      "    accuracy                           0.95       114\n",
      "   macro avg       0.94      0.94      0.94       114\n",
      "weighted avg       0.95      0.95      0.95       114\n",
      "\n",
      "[[40  3]\n",
      " [ 3 68]]\n"
     ]
    }
   ],
   "source": [
    "# accuracy 확인\n",
    "print(classification_report(y_test, y_pred_decision_tree))\n",
    "\n",
    "# confusion_matrix\n",
    "\n",
    "print(confusion_matrix(y_test, y_pred_decision_tree))"
   ]
  },
  {
   "cell_type": "markdown",
   "id": "90ad6216",
   "metadata": {},
   "source": [
    "### accuracy = 92% / class 0의 recall = 0.93\n",
    "- 정확도는 92%\n",
    "- breast_cancer 데이터의 경우 유방암인 환자를 잘 찾아내는게 중요한데 그래서 recall도 중요한 지표가 된다 (malignant == 0)\n",
    "- confusion matrix를 보면 실제 유방암인 환자 3명을 정상으로 분류한 것을 알 수 있다"
   ]
  },
  {
   "cell_type": "markdown",
   "id": "54a1d18d",
   "metadata": {},
   "source": [
    "### 2. Random Forest"
   ]
  },
  {
   "cell_type": "code",
   "execution_count": 58,
   "id": "71b7f06f",
   "metadata": {},
   "outputs": [],
   "source": [
    "# 모델 학습\n",
    "random_forest.fit(X_train, y_train)\n",
    "\n",
    "# 예측\n",
    "y_pred_random_forest = random_forest.predict(X_test)"
   ]
  },
  {
   "cell_type": "code",
   "execution_count": 59,
   "id": "1b2f0905",
   "metadata": {},
   "outputs": [
    {
     "name": "stdout",
     "output_type": "stream",
     "text": [
      "              precision    recall  f1-score   support\n",
      "\n",
      "           0       0.98      0.93      0.95        43\n",
      "           1       0.96      0.99      0.97        71\n",
      "\n",
      "    accuracy                           0.96       114\n",
      "   macro avg       0.97      0.96      0.96       114\n",
      "weighted avg       0.97      0.96      0.96       114\n",
      "\n",
      "[[40  3]\n",
      " [ 1 70]]\n"
     ]
    }
   ],
   "source": [
    "# accuracy 확인\n",
    "print(classification_report(y_test,y_pred_random_forest))\n",
    "\n",
    "# confusion_matrix\n",
    "\n",
    "print(confusion_matrix(y_test, y_pred_random_forest))"
   ]
  },
  {
   "cell_type": "markdown",
   "id": "86c09f83",
   "metadata": {},
   "source": [
    "### accuracy = 96% / class 0의 recall = 0.93\n",
    "- 정확도는 96%으로 높은 편이다.\n",
    "- confusion matrix를 보면 실제 유방암인 환자 3명을 정상으로 분류했음을 알 수 있다"
   ]
  },
  {
   "cell_type": "markdown",
   "id": "952f6b01",
   "metadata": {},
   "source": [
    "### 3. SVM"
   ]
  },
  {
   "cell_type": "code",
   "execution_count": 50,
   "id": "ad4f149c",
   "metadata": {},
   "outputs": [],
   "source": [
    "# 모델 학습\n",
    "svm_model.fit(X_train, y_train)\n",
    "\n",
    "# 예측\n",
    "y_pred_svm_model = svm_model.predict(X_test)"
   ]
  },
  {
   "cell_type": "code",
   "execution_count": 51,
   "id": "d97723c8",
   "metadata": {},
   "outputs": [
    {
     "name": "stdout",
     "output_type": "stream",
     "text": [
      "              precision    recall  f1-score   support\n",
      "\n",
      "           0       1.00      0.86      0.92        43\n",
      "           1       0.92      1.00      0.96        71\n",
      "\n",
      "    accuracy                           0.95       114\n",
      "   macro avg       0.96      0.93      0.94       114\n",
      "weighted avg       0.95      0.95      0.95       114\n",
      "\n",
      "[[37  6]\n",
      " [ 0 71]]\n"
     ]
    }
   ],
   "source": [
    "# accuracy 확인\n",
    "print(classification_report(y_test,y_pred_svm_model))\n",
    "\n",
    "# confusion_matrix\n",
    "\n",
    "print(confusion_matrix(y_test, y_pred_svm_model))"
   ]
  },
  {
   "cell_type": "markdown",
   "id": "d9e8d2cb",
   "metadata": {},
   "source": [
    "### accuracy = 95% / class 0의 recall = 0.86\n",
    "- class 0의 recall을 보면 0.86으로 낮다\n",
    "- confusion matrix를 확인해보면 실제 유방암인 환자 6명을 정상으로 분류했음을 알 수 있다"
   ]
  },
  {
   "cell_type": "markdown",
   "id": "aa9d183f",
   "metadata": {},
   "source": [
    "### 4. SGD Classifier"
   ]
  },
  {
   "cell_type": "code",
   "execution_count": 60,
   "id": "266940d2",
   "metadata": {},
   "outputs": [],
   "source": [
    "# 모델 학습\n",
    "sgd.fit(X_train, y_train)\n",
    "\n",
    "# 예측\n",
    "y_pred_sgd = sgd.predict(X_test)"
   ]
  },
  {
   "cell_type": "code",
   "execution_count": 61,
   "id": "05832ace",
   "metadata": {},
   "outputs": [
    {
     "name": "stdout",
     "output_type": "stream",
     "text": [
      "              precision    recall  f1-score   support\n",
      "\n",
      "           0       0.95      0.93      0.94        43\n",
      "           1       0.96      0.97      0.97        71\n",
      "\n",
      "    accuracy                           0.96       114\n",
      "   macro avg       0.96      0.95      0.95       114\n",
      "weighted avg       0.96      0.96      0.96       114\n",
      "\n",
      "[[40  3]\n",
      " [ 2 69]]\n"
     ]
    }
   ],
   "source": [
    "# accuracy 확인\n",
    "print(classification_report(y_test,y_pred_sgd))\n",
    "\n",
    "# confusion_matrix\n",
    "\n",
    "print(confusion_matrix(y_test, y_pred_sgd))"
   ]
  },
  {
   "cell_type": "markdown",
   "id": "2d642bcb",
   "metadata": {},
   "source": [
    "### accuracy = 96% / class 0의 recall = 0.93\n",
    "- 정확도는 96%으로 높은 편이다\n",
    "- 실제 유방암인 환자 3명을 정상으로 분류했으며, 정상인 2명을 유방암 환자로 분류했음을 confusion matrix를 통해 알 수 있다"
   ]
  },
  {
   "cell_type": "markdown",
   "id": "b13f17fe",
   "metadata": {},
   "source": [
    "### 5. Logistic Regression"
   ]
  },
  {
   "cell_type": "code",
   "execution_count": 54,
   "id": "33cad0c6",
   "metadata": {},
   "outputs": [],
   "source": [
    "# 모델 학습\n",
    "logistic_regression.fit(X_train, y_train)\n",
    "\n",
    "# 예측\n",
    "y_pred_logistic_regression = logistic_regression.predict(X_test)"
   ]
  },
  {
   "cell_type": "code",
   "execution_count": 55,
   "id": "c1fa7c2d",
   "metadata": {},
   "outputs": [
    {
     "name": "stdout",
     "output_type": "stream",
     "text": [
      "              precision    recall  f1-score   support\n",
      "\n",
      "           0       0.97      0.91      0.94        43\n",
      "           1       0.95      0.99      0.97        71\n",
      "\n",
      "    accuracy                           0.96       114\n",
      "   macro avg       0.96      0.95      0.95       114\n",
      "weighted avg       0.96      0.96      0.96       114\n",
      "\n",
      "[[39  4]\n",
      " [ 1 70]]\n"
     ]
    }
   ],
   "source": [
    "# accuracy 확인\n",
    "print(classification_report(y_test,y_pred_logistic_regression))\n",
    "\n",
    "# confusion_matrix\n",
    "\n",
    "print(confusion_matrix(y_test, y_pred_logistic_regression))"
   ]
  },
  {
   "cell_type": "markdown",
   "id": "aee5223a",
   "metadata": {},
   "source": [
    "### accuracy = 96% / class 0의 recall = 0.91\n",
    "- 정확도는 96%으로 높은 편이다\n",
    "- 실제 유방암인 환자 4명을 정상으로 분류했음을 알 수 있다"
   ]
  },
  {
   "cell_type": "markdown",
   "id": "ad96abe5",
   "metadata": {},
   "source": [
    "## (5) 결론\n",
    "- breast_cancer 데이터의 경우, 유방암인 환자를 잘 찾아내는 것이 무엇보다 중요하다. \n",
    "- 그래서 accuracy도 중요하지만 유방암에 대한 recall도 중요한 지표가 된다\n",
    "- Random Forest와  SGD Classifier 둘다 accuracy가 96%이고 유방암에 대한 recall이 0.93으로 동일한데 confusion matrix를 보면 실제 유방암이 아닌사람을 유방암으로 분류한 수가 SGD Classifier가 1명 더 많다.\n",
    "- 무엇보다 유방암인 환자를 잘 찾아내는 것이 중요하므로, accuracy와 유방암에 대한 recall이 높은 Random Forest와  SGD Classifier 둘다 성능이 좋다고 결론을 낼 수 있다"
   ]
  }
 ],
 "metadata": {
  "kernelspec": {
   "display_name": "Python 3 (ipykernel)",
   "language": "python",
   "name": "python3"
  },
  "language_info": {
   "codemirror_mode": {
    "name": "ipython",
    "version": 3
   },
   "file_extension": ".py",
   "mimetype": "text/x-python",
   "name": "python",
   "nbconvert_exporter": "python",
   "pygments_lexer": "ipython3",
   "version": "3.9.7"
  }
 },
 "nbformat": 4,
 "nbformat_minor": 5
}
