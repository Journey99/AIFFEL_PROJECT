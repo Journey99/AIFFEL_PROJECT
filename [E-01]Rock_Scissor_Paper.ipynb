{
 "cells": [
  {
   "cell_type": "markdown",
   "id": "2b38b5f9",
   "metadata": {},
   "source": [
    "# 가위바위보 분류기를 만들자"
   ]
  },
  {
   "cell_type": "code",
   "execution_count": 1,
   "id": "a7ee28bc",
   "metadata": {},
   "outputs": [],
   "source": [
    "import tensorflow as tf\n",
    "from tensorflow import keras\n",
    "\n",
    "import numpy as np\n",
    "import matplotlib.pyplot as plt\n",
    "import os\n",
    "\n",
    "from PIL import Image\n",
    "import glob"
   ]
  },
  {
   "cell_type": "markdown",
   "id": "f569a7b2",
   "metadata": {},
   "source": [
    "### matplotlib\n",
    "- 파이썬에서 제공하는 시각화(Visualization) 라이브러리로 이 프로젝트에서는 training 이미지의 resize가 잘 이루어졌는지 확인하기 위해 사용된다\n",
    "---\n",
    "### os\n",
    "- 운영체제에서 제공되는 여러기능을 파이썬에서 사용할 수 있도록 하는 모듈로 현재 작업하고 있는 디렉토리의 경로를 얻는다\n",
    "---\n",
    "### PIL\n",
    "- 다양한 이미지 파일 형식을 지원하고 강력한 이미지 처리와 그래픽 기능을 제공하는 라이브러리로 이 프로젝트에서는 데이터 이미지의 크기를 줄이기 위해 사용된다\n",
    "---\n",
    "### glob\n",
    "- 파일들의 리스트를 뽑을 때 사용된다"
   ]
  },
  {
   "cell_type": "markdown",
   "id": "76220809",
   "metadata": {},
   "source": [
    "## (1) training set 만들기"
   ]
  },
  {
   "cell_type": "markdown",
   "id": "c7ebef36",
   "metadata": {},
   "source": [
    "### resize_images()\n",
    "- 224x224 사이즈의 이미지를 28x28 사이즈의 이미지로 변환\n",
    "- ANTIALIAS : 안티엘리어싱은 한국어로 위신호 제거라는 용어로 높은 해상도의 사진 또는 영상을 낮은 해상도로 변환하거나 나타낼때 깨진 패턴의 형태로 나타나게 되는데 이를 최소화 시켜주는 방법"
   ]
  },
  {
   "cell_type": "code",
   "execution_count": 2,
   "id": "4e2f8552",
   "metadata": {},
   "outputs": [],
   "source": [
    "def resize_images(img_path):\n",
    "    images=glob.glob(img_path + \"/*.jpg\")  \n",
    "    \n",
    "    print(len(images), \" images to be resized.\")\n",
    "\n",
    "    # 파일마다 모두 28x28 사이즈로 바꾸어 저장합니다.\n",
    "    target_size=(28,28)\n",
    "    for img in images:\n",
    "        old_img=Image.open(img)\n",
    "        new_img=old_img.resize(target_size,Image.ANTIALIAS)\n",
    "        new_img.save(img, \"JPEG\")\n",
    "    \n",
    "    print(len(images), \" images resized.\")"
   ]
  },
  {
   "cell_type": "code",
   "execution_count": 3,
   "id": "6d335bcf",
   "metadata": {},
   "outputs": [
    {
     "name": "stdout",
     "output_type": "stream",
     "text": [
      "1500  images to be resized.\n",
      "1500  images resized.\n",
      "가위 이미지 resize 완료!\n",
      " \n",
      "1500  images to be resized.\n",
      "1500  images resized.\n",
      "바위 이미지 resize 완료\n",
      " \n",
      "1500  images to be resized.\n",
      "1500  images resized.\n",
      "보 이미지 resize 완료!\n",
      " \n"
     ]
    }
   ],
   "source": [
    "# 가위 이미지가 저장된 디렉토리 아래의 모든 jpg 파일을 읽어들여서\n",
    "image_dir_path = os.getenv(\"HOME\") + \"/aiffel/rock_scissor_paper/scissor1\"\n",
    "resize_images(image_dir_path)\n",
    "\n",
    "print(\"가위 이미지 resize 완료!\")\n",
    "print(\" \")\n",
    "\n",
    "# 바위 이미지가 저장된 디렉토리 아래의 모든 jpg 파일을 읽어들여서\n",
    "image_dir_path = os.getenv(\"HOME\") + \"/aiffel/rock_scissor_paper/rock1\"\n",
    "resize_images(image_dir_path)\n",
    "\n",
    "print(\"바위 이미지 resize 완료\")\n",
    "print(\" \")\n",
    "\n",
    "# 보 이미지 변환\n",
    "\n",
    "image_dir_path = os.getenv(\"HOME\") + \"/aiffel/rock_scissor_paper/paper1\"\n",
    "resize_images(image_dir_path)\n",
    "\n",
    "print(\"보 이미지 resize 완료!\")\n",
    "print(\" \")"
   ]
  },
  {
   "cell_type": "markdown",
   "id": "eb412b57",
   "metadata": {},
   "source": [
    "### load_data()\n",
    "- numpy를 이용해서 이미지 데이터와 라벨을 행렬에 저장\n",
    "- dtype=np.int32 : 정수 단일 값을 32bits 메모리에 저장"
   ]
  },
  {
   "cell_type": "code",
   "execution_count": 4,
   "id": "62b10f77",
   "metadata": {},
   "outputs": [
    {
     "name": "stdout",
     "output_type": "stream",
     "text": [
      "학습데이터(x_train)의 이미지 개수는 4500 입니다.\n",
      "x_train shape: (4500, 28, 28, 3)\n",
      "y_train shape: (4500,)\n"
     ]
    }
   ],
   "source": [
    "import numpy as np\n",
    "\n",
    "def load_data(img_path, number_of_data=4500):  # 가위바위보 이미지 개수 총합에 주의하세요.\n",
    "    # 가위 : 0, 바위 : 1, 보 : 2\n",
    "    img_size=28\n",
    "    color=3\n",
    "    #이미지 데이터와 라벨(가위 : 0, 바위 : 1, 보 : 2) 데이터를 담을 행렬(matrix) 영역을 생성합니다.\n",
    "    imgs=np.zeros(number_of_data*img_size*img_size*color,dtype=np.int32).reshape(number_of_data,img_size,img_size,color)\n",
    "    labels=np.zeros(number_of_data,dtype=np.int32)\n",
    "\n",
    "    idx=0\n",
    "    for file in glob.iglob(img_path+'/scissor1/*.jpg'):\n",
    "        img = np.array(Image.open(file),dtype=np.int32)\n",
    "        imgs[idx,:,:,:]=img    # 데이터 영역에 이미지 행렬을 복사\n",
    "        labels[idx]=0   # 가위 : 0\n",
    "        idx=idx+1\n",
    "\n",
    "    for file in glob.iglob(img_path+'/rock1/*.jpg'):\n",
    "        img = np.array(Image.open(file),dtype=np.int32)\n",
    "        imgs[idx,:,:,:]=img    # 데이터 영역에 이미지 행렬을 복사\n",
    "        labels[idx]=1   # 바위 : 1\n",
    "        idx=idx+1  \n",
    "    \n",
    "    for file in glob.iglob(img_path+'/paper1/*.jpg'):\n",
    "        img = np.array(Image.open(file),dtype=np.int32)\n",
    "        imgs[idx,:,:,:]=img    # 데이터 영역에 이미지 행렬을 복사\n",
    "        labels[idx]=2   # 보 : 2\n",
    "        idx=idx+1\n",
    "        \n",
    "    print(\"학습데이터(x_train)의 이미지 개수는\", idx,\"입니다.\")\n",
    "    return imgs, labels\n",
    "\n",
    "image_dir_path = os.getenv(\"HOME\") + \"/aiffel/rock_scissor_paper\"\n",
    "(x_train, y_train)=load_data(image_dir_path)\n",
    "x_train_norm = x_train/255.0   # 입력은 0~1 사이의 값으로 정규화\n",
    "\n",
    "print(\"x_train shape: {}\".format(x_train.shape))\n",
    "print(\"y_train shape: {}\".format(y_train.shape))"
   ]
  },
  {
   "cell_type": "markdown",
   "id": "b6c3d180",
   "metadata": {},
   "source": [
    "### 이미지와 라벨 확인"
   ]
  },
  {
   "cell_type": "code",
   "execution_count": 5,
   "id": "8446d455",
   "metadata": {},
   "outputs": [
    {
     "name": "stdout",
     "output_type": "stream",
     "text": [
      "라벨:  0\n"
     ]
    },
    {
     "data": {
      "image/png": "[encoded data removed]",
      "text/plain": [
       "<Figure size 432x288 with 1 Axes>"
      ]
     },
     "metadata": {
      "needs_background": "light"
     },
     "output_type": "display_data"
    }
   ],
   "source": [
    "# 확인\n",
    "plt.imshow(x_train[15])\n",
    "print('라벨: ', y_train[15])"
   ]
  },
  {
   "cell_type": "markdown",
   "id": "31187267",
   "metadata": {},
   "source": [
    "## (2) 딥러닝 네트워크 설계"
   ]
  },
  {
   "cell_type": "markdown",
   "id": "9b5bec7e",
   "metadata": {},
   "source": [
    "###  LeNet\n",
    "- tf.keras의 Sequential API를 이용한 딥러닝 네트워크\n",
    "- Conv2D 레이어\n",
    "    - 첫 번째 인자: 사용하는 이미지 특징의 수. 여기서는 가장 먼저 32개의 이미지 특성을, 그 뒤에는 64개의 이미지 특징을 고려\n",
    "    - 두 번째 인자: 컨볼루션 커널의 (행,열)\n",
    "    - activation : 활성화 함수 설정. 여기서는 'relu' 함수가 쓰였다\n",
    "- Dense 레이어\n",
    "    - 첫 번째 인자: 분류기에 사용되는 뉴런의 숫자. 이 값이 클수록 보다 복잡한 분류기를 만들 수 있다\n",
    "- 마지막 Dense 레이어\n",
    "    - 뉴런 숫자는 결과적으로 분류해 내야 하는 클래스 수로 여기서는 3(가위,바위,보)"
   ]
  },
  {
   "cell_type": "code",
   "execution_count": 6,
   "id": "160b9357",
   "metadata": {},
   "outputs": [],
   "source": [
    "n_channel_1=32\n",
    "n_channel_2=64\n",
    "\n",
    "model=keras.models.Sequential()\n",
    "model.add(keras.layers.Conv2D(n_channel_1, (3,3), activation='relu', input_shape=(28,28,3)))\n",
    "model.add(keras.layers.MaxPool2D(2,2))\n",
    "model.add(keras.layers.Conv2D(n_channel_2, (3,3), activation='relu'))\n",
    "model.add(keras.layers.MaxPooling2D((2,2)))\n",
    "\n",
    "model.add(keras.layers.Flatten())\n",
    "model.add(keras.layers.Dense(64, activation='relu'))\n",
    "model.add(keras.layers.Dense(3, activation='softmax'))"
   ]
  },
  {
   "cell_type": "code",
   "execution_count": 7,
   "id": "a8a2b86a",
   "metadata": {},
   "outputs": [
    {
     "name": "stdout",
     "output_type": "stream",
     "text": [
      "Model: \"sequential\"\n",
      "_________________________________________________________________\n",
      "Layer (type)                 Output Shape              Param #   \n",
      "=================================================================\n",
      "conv2d (Conv2D)              (None, 26, 26, 32)        896       \n",
      "_________________________________________________________________\n",
      "max_pooling2d (MaxPooling2D) (None, 13, 13, 32)        0         \n",
      "_________________________________________________________________\n",
      "conv2d_1 (Conv2D)            (None, 11, 11, 64)        18496     \n",
      "_________________________________________________________________\n",
      "max_pooling2d_1 (MaxPooling2 (None, 5, 5, 64)          0         \n",
      "_________________________________________________________________\n",
      "flatten (Flatten)            (None, 1600)              0         \n",
      "_________________________________________________________________\n",
      "dense (Dense)                (None, 64)                102464    \n",
      "_________________________________________________________________\n",
      "dense_1 (Dense)              (None, 3)                 195       \n",
      "=================================================================\n",
      "Total params: 122,051\n",
      "Trainable params: 122,051\n",
      "Non-trainable params: 0\n",
      "_________________________________________________________________\n"
     ]
    }
   ],
   "source": [
    "model.summary()"
   ]
  },
  {
   "cell_type": "markdown",
   "id": "a5e9be51",
   "metadata": {},
   "source": [
    "## (3) 딥러닝 네트워크 학습"
   ]
  },
  {
   "cell_type": "code",
   "execution_count": 8,
   "id": "6afa3ac4",
   "metadata": {},
   "outputs": [
    {
     "name": "stdout",
     "output_type": "stream",
     "text": [
      "Epoch 1/10\n",
      "141/141 [==============================] - 3s 4ms/step - loss: 1.0589 - accuracy: 0.4700\n",
      "Epoch 2/10\n",
      "141/141 [==============================] - 0s 3ms/step - loss: 0.6315 - accuracy: 0.7542\n",
      "Epoch 3/10\n",
      "141/141 [==============================] - 0s 3ms/step - loss: 0.3737 - accuracy: 0.8764\n",
      "Epoch 4/10\n",
      "141/141 [==============================] - 0s 3ms/step - loss: 0.2318 - accuracy: 0.9327\n",
      "Epoch 5/10\n",
      "141/141 [==============================] - 0s 3ms/step - loss: 0.1646 - accuracy: 0.9518\n",
      "Epoch 6/10\n",
      "141/141 [==============================] - 0s 3ms/step - loss: 0.1183 - accuracy: 0.9667\n",
      "Epoch 7/10\n",
      "141/141 [==============================] - 0s 3ms/step - loss: 0.0853 - accuracy: 0.9778\n",
      "Epoch 8/10\n",
      "141/141 [==============================] - 0s 3ms/step - loss: 0.0643 - accuracy: 0.9833\n",
      "Epoch 9/10\n",
      "141/141 [==============================] - 0s 3ms/step - loss: 0.0455 - accuracy: 0.9889\n",
      "Epoch 10/10\n",
      "141/141 [==============================] - 0s 3ms/step - loss: 0.0348 - accuracy: 0.9922\n"
     ]
    },
    {
     "data": {
      "text/plain": [
       "<keras.callbacks.History at 0x7f36385004c0>"
      ]
     },
     "execution_count": 8,
     "metadata": {},
     "output_type": "execute_result"
    }
   ],
   "source": [
    "model.compile(optimizer='adam',\n",
    "             loss='sparse_categorical_crossentropy',\n",
    "             metrics=['accuracy'])\n",
    "\n",
    "model.fit(x_train_norm, y_train, epochs=10)  "
   ]
  },
  {
   "cell_type": "markdown",
   "id": "0d45370c",
   "metadata": {},
   "source": [
    "## (4) test set 만들기"
   ]
  },
  {
   "cell_type": "code",
   "execution_count": 9,
   "id": "a9793aba",
   "metadata": {},
   "outputs": [
    {
     "name": "stdout",
     "output_type": "stream",
     "text": [
      "100  images to be resized.\n",
      "100  images resized.\n",
      "가위 테스트 이미지 resize 완료!\n",
      " \n",
      "100  images to be resized.\n",
      "100  images resized.\n",
      "바위 테스트 이미지 resize 완료!\n",
      " \n",
      "100  images to be resized.\n",
      "100  images resized.\n",
      "보 테스트 이미지 resize 완료!\n"
     ]
    }
   ],
   "source": [
    "# 가위 테스트 이미지가 저장된 디렉토리 아래의 모든 jpg 파일을 읽어들여서\n",
    "image_dir_path = os.getenv(\"HOME\") + \"/aiffel/rock_scissor_paper/test2/scissor\"\n",
    "resize_images(image_dir_path)\n",
    "\n",
    "print(\"가위 테스트 이미지 resize 완료!\")\n",
    "print(\" \")\n",
    "\n",
    "# 바위 테스트 이미지가 저장된 디렉토리 아래의 모든 jpg 파일을 읽어들여서\n",
    "image_dir_path = os.getenv(\"HOME\") + \"/aiffel/rock_scissor_paper/test2/rock\"\n",
    "resize_images(image_dir_path)\n",
    "\n",
    "print(\"바위 테스트 이미지 resize 완료!\")\n",
    "print(\" \")\n",
    "\n",
    "# 보 테스트 이미지가 저장된 디렉토리 아래의 모든 jpg 파일을 읽어들여서\n",
    "image_dir_path = os.getenv(\"HOME\") + \"/aiffel/rock_scissor_paper/test2/paper\"\n",
    "resize_images(image_dir_path)\n",
    "\n",
    "print(\"보 테스트 이미지 resize 완료!\")"
   ]
  },
  {
   "cell_type": "code",
   "execution_count": 10,
   "id": "5c34b600",
   "metadata": {},
   "outputs": [
    {
     "name": "stdout",
     "output_type": "stream",
     "text": [
      "테스트데이터(x_test)의 이미지 개수는 300 입니다.\n",
      "x_test shape: (300, 28, 28, 3)\n",
      "y_test shape: (300,)\n"
     ]
    }
   ],
   "source": [
    "def load_data(img_path, number_of_data=300):  # 가위바위보 이미지 개수 총합에 주의하세요.\n",
    "    # 가위 : 0, 바위 : 1, 보 : 2\n",
    "    img_size=28\n",
    "    color=3\n",
    "    #이미지 데이터와 라벨(가위 : 0, 바위 : 1, 보 : 2) 데이터를 담을 행렬(matrix) 영역을 생성합니다.\n",
    "    imgs=np.zeros(number_of_data*img_size*img_size*color,dtype=np.int32).reshape(number_of_data,img_size,img_size,color)\n",
    "    labels=np.zeros(number_of_data,dtype=np.int32)\n",
    "\n",
    "    idx=0\n",
    "    for file in glob.iglob(img_path+'/scissor/*.jpg'):\n",
    "        img = np.array(Image.open(file),dtype=np.int32)\n",
    "        imgs[idx,:,:,:]=img    # 데이터 영역에 이미지 행렬을 복사\n",
    "        labels[idx]=0   # 가위 : 0\n",
    "        idx=idx+1\n",
    "\n",
    "    for file in glob.iglob(img_path+'/rock/*.jpg'):\n",
    "        img = np.array(Image.open(file),dtype=np.int32)\n",
    "        imgs[idx,:,:,:]=img    # 데이터 영역에 이미지 행렬을 복사\n",
    "        labels[idx]=1   # 바위 : 1\n",
    "        idx=idx+1  \n",
    "    \n",
    "    for file in glob.iglob(img_path+'/paper/*.jpg'):\n",
    "        img = np.array(Image.open(file),dtype=np.int32)\n",
    "        imgs[idx,:,:,:]=img    # 데이터 영역에 이미지 행렬을 복사\n",
    "        labels[idx]=2   # 보 : 2\n",
    "        idx=idx+1\n",
    "        \n",
    "    print(\"테스트데이터(x_test)의 이미지 개수는\", idx,\"입니다.\")\n",
    "    return imgs, labels\n",
    "\n",
    "image_dir_path = os.getenv(\"HOME\") + \"/aiffel/rock_scissor_paper/test2\"\n",
    "(x_test, y_test)=load_data(image_dir_path)\n",
    "x_test_norm = x_test/255.0   # 입력은 0~1 사이의 값으로 정규화\n",
    "\n",
    "print(\"x_test shape: {}\".format(x_test.shape))\n",
    "print(\"y_test shape: {}\".format(y_test.shape))"
   ]
  },
  {
   "cell_type": "markdown",
   "id": "551ccf25",
   "metadata": {},
   "source": [
    "## (5) Accuracy 측정"
   ]
  },
  {
   "cell_type": "code",
   "execution_count": 11,
   "id": "a0f9bf5e",
   "metadata": {},
   "outputs": [
    {
     "name": "stdout",
     "output_type": "stream",
     "text": [
      "10/10 - 0s - loss: 2.1816 - accuracy: 0.7300\n",
      "test_loss: 2.1816039085388184 \n",
      "test_accuracy: 0.7300000190734863\n"
     ]
    }
   ],
   "source": [
    "test_loss, test_accuracy = model.evaluate(x_test_norm, y_test, verbose=2)\n",
    "print(\"test_loss: {} \".format(test_loss))\n",
    "print(\"test_accuracy: {}\".format(test_accuracy))"
   ]
  },
  {
   "cell_type": "markdown",
   "id": "9c5a54fa",
   "metadata": {},
   "source": [
    "## (6) 고찰"
   ]
  },
  {
   "cell_type": "markdown",
   "id": "d6f6d78d",
   "metadata": {},
   "source": [
    "### 결과"
   ]
  },
  {
   "cell_type": "markdown",
   "id": "fc8c70e1",
   "metadata": {},
   "source": [
    "- 훈련 데이터 4500개로 이미지 분류기 모델을 만들고 테스트 데이터 300개로 테스트를 한 결과 test accuracy가 약 0.73이 나왔다\n",
    "- 하지만 test loss가 2.18이 나온 것은 꽤 많이 나온 값인데 이는 모델이 너무 복잡해서 과대적합(Overfitting)이 발생한 걸로 보인다.\n",
    "    - 과대적합 : epoch가 진행되면서 train loss는 계속 감소하지만 test loss가 증가하기 시작함. 모델이 너무 복잡하면 발생하고 좀 더 단순한 모델을 사용하는 것을 생각해 봐야 함. 훈련 데이터에 특화된 패턴을 학습하기 시작하여 새로운 데이터에 대해 잘못된 판단을 함\n",
    "    - 과대적합을 방지하기 위한 방법\n",
    "        - 더 많은 data를 수집\n",
    "        - 모델을 간단하게 바꾼다\n",
    "- 과대적합을 해결하기 위하여 네트워크의 하이퍼파라미터를 n_channel_1=16, n_channel_2=32, Dense의 뉴런 개수=32로 변경하였다.\n",
    "- 변경한 후 결과는 test_loss = 1.55508, test_accuracy = 0.6777으로 test loss는 감소하였지만 test accuracy는 조금 감소했다\n"
   ]
  },
  {
   "cell_type": "markdown",
   "id": "b7e4ba2f",
   "metadata": {},
   "source": [
    "---\n",
    "### 과정"
   ]
  },
  {
   "cell_type": "markdown",
   "id": "cdd4fe8e",
   "metadata": {},
   "source": [
    "1. train data : 900 / test data : 300 / n_chann1_1 : 16 / n_channel_2 : 32 일 때 0.33\n",
    "2. train data : 900 / test data : 300 / n_chann1_1 : 64 / n_channel_2 : 128 일 때 0.36\n",
    "3. train data : 900 / test data : 300 / n_chann1_1 : 128 / n_channel_2 : 256 일 때 0.31\n",
    "- 하이퍼파라미터의 문제가 아닌것 같아서 데이터의 양을 늘려보았다\n",
    "4. train data : 3138 / test data : 300 / n_channel_1 : 32 / n_channel_2 : 64 일 때 0.33\n",
    "5. train data : 3138 / test data : 300 / n_channel_1 : 128 / n_channel_2 : 256 일 때 0.43\n",
    "- 데이터의 양을 늘려도 개선이 되지 않아서 데이터의 질을 바꾸려고 노력했다. 정확하게 찍힌 사진들로 선정하여 데이터의 질을 좀 더 높이고 양을 조금 늘렸다\n",
    "6. train data : 4500 / test data : 300 / n_channel_1 : 32 / n_channel_2 : 64 드디어 0.73!"
   ]
  },
  {
   "cell_type": "markdown",
   "id": "cf63188e",
   "metadata": {},
   "source": [
    "---"
   ]
  },
  {
   "cell_type": "markdown",
   "id": "7aa0755b",
   "metadata": {},
   "source": [
    "### 정리\n",
    "- 데이터의 질이 중요하다고 생각이 들었다. 아무리 많은 양의 데이터가 있어도 도움이 되지 못하는 데이터라면 양이 많은게 좋은게 아니다.\n",
    "- 사진마다 배경과 빛 등 다양한 부분에서 차이가 있는데 이런 부분들도 학습이 됐기 때문에 과대적합이 발생한 것 같다 \n",
    "- 테스트할게 많아도 정확도가 떨어진다\n",
    "- 하이퍼파라미터가 너무 커도 너무 많은 특징을 잡아서 좋지 않다\n",
    "- resize를 왜 할까 생각했는데 이미지 사이즈가 크면 학습시간이 오래걸리고 기대했던 것 보다 정확도가 좋지 않았다 \n",
    "- Conv2D레이어와 Maxpooling2D 레이어를 추가하면 정확도가 더 올라간다고 해서 한 쌍, 두 쌍 점점 추가를 해보았지만 너무 많이 추가했을 경우에 오히려 정확도가 떨어졌다. 이 부분은 공부를 더 해야할 것 같다"
   ]
  }
 ],
 "metadata": {
  "kernelspec": {
   "display_name": "Python 3 (ipykernel)",
   "language": "python",
   "name": "python3"
  },
  "language_info": {
   "codemirror_mode": {
    "name": "ipython",
    "version": 3
   },
   "file_extension": ".py",
   "mimetype": "text/x-python",
   "name": "python",
   "nbconvert_exporter": "python",
   "pygments_lexer": "ipython3",
   "version": "3.9.7"
  }
 },
 "nbformat": 4,
 "nbformat_minor": 5
}
