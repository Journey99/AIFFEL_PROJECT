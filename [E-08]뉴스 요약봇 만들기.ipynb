{
 "cells": [
  {
   "cell_type": "markdown",
   "id": "ebc75495",
   "metadata": {},
   "source": [
    "# < 8. 뉴스 요약봇 만들기 >"
   ]
  },
  {
   "cell_type": "markdown",
   "id": "f0131b8e",
   "metadata": {},
   "source": [
    "## [루브릭]\n",
    "1. Abstractive 모델 구성을 위한 텍스트 전처리 단계가 체계적으로 진행되었다.\n",
    "2. 텍스트 요약모델이 성공적으로 학습되었음을 확인하였다.\n",
    "3. Extractive 요약을 시도해 보고 Abstractive 요약 결과과 함께 비교해 보았다."
   ]
  },
  {
   "cell_type": "code",
   "execution_count": 2,
   "id": "df5d002e",
   "metadata": {},
   "outputs": [],
   "source": [
    "import nltk\n",
    "\n",
    "import numpy as np\n",
    "import pandas as pd\n",
    "import os\n",
    "import re\n",
    "import matplotlib.pyplot as plt\n",
    "from nltk.corpus import stopwords\n",
    "from bs4 import BeautifulSoup \n",
    "from tensorflow.keras.preprocessing.text import Tokenizer \n",
    "from tensorflow.keras.preprocessing.sequence import pad_sequences\n",
    "import urllib.request\n",
    "import warnings\n",
    "warnings.filterwarnings(\"ignore\", category=UserWarning, module='bs4')"
   ]
  },
  {
   "cell_type": "markdown",
   "id": "47e2396e",
   "metadata": {},
   "source": [
    "---"
   ]
  },
  {
   "cell_type": "markdown",
   "id": "89a2a7f9",
   "metadata": {},
   "source": [
    "## Step1. 데이터 수집하기"
   ]
  },
  {
   "cell_type": "code",
   "execution_count": 3,
   "id": "65cbf0e4",
   "metadata": {},
   "outputs": [],
   "source": [
    "import urllib.request\n",
    "urllib.request.urlretrieve(\"https://raw.githubusercontent.com/sunnysai12345/News_Summary/master/news_summary_more.csv\", filename=\"news_summary_more.csv\")\n",
    "data = pd.read_csv('news_summary_more.csv', encoding='iso-8859-1')"
   ]
  },
  {
   "cell_type": "code",
   "execution_count": 4,
   "id": "d74d3370",
   "metadata": {},
   "outputs": [
    {
     "name": "stdout",
     "output_type": "stream",
     "text": [
      "전체 샘플수 :  98401\n"
     ]
    }
   ],
   "source": [
    "print('전체 샘플수 : ', len(data))"
   ]
  },
  {
   "cell_type": "code",
   "execution_count": 6,
   "id": "1dac42d5",
   "metadata": {},
   "outputs": [
    {
     "data": {
      "text/html": [
       "<div>\n",
       "<style scoped>\n",
       "    .dataframe tbody tr th:only-of-type {\n",
       "        vertical-align: middle;\n",
       "    }\n",
       "\n",
       "    .dataframe tbody tr th {\n",
       "        vertical-align: top;\n",
       "    }\n",
       "\n",
       "    .dataframe thead th {\n",
       "        text-align: right;\n",
       "    }\n",
       "</style>\n",
       "<table border=\"1\" class=\"dataframe\">\n",
       "  <thead>\n",
       "    <tr style=\"text-align: right;\">\n",
       "      <th></th>\n",
       "      <th>headlines</th>\n",
       "      <th>text</th>\n",
       "    </tr>\n",
       "  </thead>\n",
       "  <tbody>\n",
       "    <tr>\n",
       "      <th>18535</th>\n",
       "      <td>Want babies with Katrina as I have a thing for...</td>\n",
       "      <td>Actor Kartik Aaryan named Katrina Kaif when as...</td>\n",
       "    </tr>\n",
       "    <tr>\n",
       "      <th>84325</th>\n",
       "      <td>Aus cafe forces Indian worker to return wage, ...</td>\n",
       "      <td>The Indian-origin owners of a former coffee sh...</td>\n",
       "    </tr>\n",
       "    <tr>\n",
       "      <th>20705</th>\n",
       "      <td>Putin expresses condolences over Kerala flood ...</td>\n",
       "      <td>In a letter addressed to Indian President Ram ...</td>\n",
       "    </tr>\n",
       "    <tr>\n",
       "      <th>67901</th>\n",
       "      <td>Delhi government school rented out at night, t...</td>\n",
       "      <td>Delhi Education Minister Manish Sisodia said t...</td>\n",
       "    </tr>\n",
       "    <tr>\n",
       "      <th>85054</th>\n",
       "      <td>St Stephen's bar highest for Eng, Eco at 98.5%...</td>\n",
       "      <td>Delhi University's St Stephen's on Thursday re...</td>\n",
       "    </tr>\n",
       "    <tr>\n",
       "      <th>74735</th>\n",
       "      <td>14 staff members suspended in Rajdhani Express...</td>\n",
       "      <td>As many as 14 staff members, including seven h...</td>\n",
       "    </tr>\n",
       "    <tr>\n",
       "      <th>34875</th>\n",
       "      <td>BJP MLC 'expelled' from Islam for visiting temple</td>\n",
       "      <td>BJP MLC Bukkal Nawab in Uttar Pradesh has been...</td>\n",
       "    </tr>\n",
       "    <tr>\n",
       "      <th>2315</th>\n",
       "      <td>20 Indian fishermen held for allegedly fishing...</td>\n",
       "      <td>At least 20 fishermen from Tamil Nadu have bee...</td>\n",
       "    </tr>\n",
       "    <tr>\n",
       "      <th>14040</th>\n",
       "      <td>Depends on players if they take wives on tour ...</td>\n",
       "      <td>Reacting to Virat Kohli's alleged plea to allo...</td>\n",
       "    </tr>\n",
       "    <tr>\n",
       "      <th>37250</th>\n",
       "      <td>70-yr-old travels to Russia from Germany in tr...</td>\n",
       "      <td>Hubert Wirth, a 70-year-old German football fa...</td>\n",
       "    </tr>\n",
       "  </tbody>\n",
       "</table>\n",
       "</div>"
      ],
      "text/plain": [
       "                                               headlines  \\\n",
       "18535  Want babies with Katrina as I have a thing for...   \n",
       "84325  Aus cafe forces Indian worker to return wage, ...   \n",
       "20705  Putin expresses condolences over Kerala flood ...   \n",
       "67901  Delhi government school rented out at night, t...   \n",
       "85054  St Stephen's bar highest for Eng, Eco at 98.5%...   \n",
       "74735  14 staff members suspended in Rajdhani Express...   \n",
       "34875  BJP MLC 'expelled' from Islam for visiting temple   \n",
       "2315   20 Indian fishermen held for allegedly fishing...   \n",
       "14040  Depends on players if they take wives on tour ...   \n",
       "37250  70-yr-old travels to Russia from Germany in tr...   \n",
       "\n",
       "                                                    text  \n",
       "18535  Actor Kartik Aaryan named Katrina Kaif when as...  \n",
       "84325  The Indian-origin owners of a former coffee sh...  \n",
       "20705  In a letter addressed to Indian President Ram ...  \n",
       "67901  Delhi Education Minister Manish Sisodia said t...  \n",
       "85054  Delhi University's St Stephen's on Thursday re...  \n",
       "74735  As many as 14 staff members, including seven h...  \n",
       "34875  BJP MLC Bukkal Nawab in Uttar Pradesh has been...  \n",
       "2315   At least 20 fishermen from Tamil Nadu have bee...  \n",
       "14040  Reacting to Virat Kohli's alleged plea to allo...  \n",
       "37250  Hubert Wirth, a 70-year-old German football fa...  "
      ]
     },
     "execution_count": 6,
     "metadata": {},
     "output_type": "execute_result"
    }
   ],
   "source": [
    "data.sample(10)"
   ]
  },
  {
   "cell_type": "markdown",
   "id": "bb8df05d",
   "metadata": {},
   "source": [
    "> 추상적 요약의 경우 text를 본문, headlines를 요약된 데이터로\n",
    "> <br> 추출적 요약의 경우 오직 text열만 사용"
   ]
  },
  {
   "cell_type": "markdown",
   "id": "d506468a",
   "metadata": {},
   "source": [
    "---"
   ]
  },
  {
   "cell_type": "markdown",
   "id": "8e44b3c5",
   "metadata": {},
   "source": [
    "## Step2. 데이터 전처리하기"
   ]
  },
  {
   "cell_type": "markdown",
   "id": "fc48eaf1",
   "metadata": {},
   "source": [
    "### (1) 중복 샘플과 NULL 값이 존재하는 샘플 제거"
   ]
  },
  {
   "cell_type": "code",
   "execution_count": 7,
   "id": "71b77695",
   "metadata": {},
   "outputs": [
    {
     "name": "stdout",
     "output_type": "stream",
     "text": [
      "text 열에서 중복을 배제한 유일한 샘플의 수 : 98360\n",
      "headlines 열에서 중복을 배제한 유일한 샘플의 수 :  98280\n"
     ]
    }
   ],
   "source": [
    "print('text 열에서 중복을 배제한 유일한 샘플의 수 :', data['text'].nunique())\n",
    "print('headlines 열에서 중복을 배제한 유일한 샘플의 수 : ', data['headlines'].nunique())"
   ]
  },
  {
   "cell_type": "markdown",
   "id": "e0e4a73f",
   "metadata": {},
   "source": [
    "▶ text 자체가 중복이 된 경우에는 중복 샘플이므로 제거한다"
   ]
  },
  {
   "cell_type": "code",
   "execution_count": 8,
   "id": "e6c2d2be",
   "metadata": {},
   "outputs": [
    {
     "name": "stdout",
     "output_type": "stream",
     "text": [
      "전체 샘플수 ;  98360\n"
     ]
    }
   ],
   "source": [
    "data.drop_duplicates(subset=['text'], inplace=True)\n",
    "print('전체 샘플수 ; ', len(data))"
   ]
  },
  {
   "cell_type": "markdown",
   "id": "36ce3719",
   "metadata": {},
   "source": [
    "▶ Null 개수 확인"
   ]
  },
  {
   "cell_type": "code",
   "execution_count": 9,
   "id": "74dcadb9",
   "metadata": {},
   "outputs": [
    {
     "data": {
      "text/plain": [
       "headlines    0\n",
       "text         0\n",
       "dtype: int64"
      ]
     },
     "execution_count": 9,
     "metadata": {},
     "output_type": "execute_result"
    }
   ],
   "source": [
    "data.isnull().sum()"
   ]
  },
  {
   "cell_type": "markdown",
   "id": "31d9efbc",
   "metadata": {},
   "source": [
    "### (2) 텍스트 정규화와 불용어 제거\n",
    "- 같은 의미인데도 다른 표현으로 쓰여 마치 다른 단어인 것 처럼 간주되는 경우가 있다\n",
    "- 이런 단어들을 미리 통일시켜주는 것을 텍스트 정규화라고 한다\n",
    "- 불용어는 텍스트에는 자주 등장하지만 자연어 처리를 할 때 실질적으로 별 도움이 되지 않는 단어들을 말한다"
   ]
  },
  {
   "cell_type": "code",
   "execution_count": 10,
   "id": "a9933c49",
   "metadata": {},
   "outputs": [
    {
     "name": "stdout",
     "output_type": "stream",
     "text": [
      "정규화 사전의 수:  120\n"
     ]
    }
   ],
   "source": [
    "contractions = {\"ain't\": \"is not\", \"aren't\": \"are not\",\"can't\": \"cannot\", \"'cause\": \"because\", \"could've\": \"could have\", \"couldn't\": \"could not\",\n",
    "                           \"didn't\": \"did not\",  \"doesn't\": \"does not\", \"don't\": \"do not\", \"hadn't\": \"had not\", \"hasn't\": \"has not\", \"haven't\": \"have not\",\n",
    "                           \"he'd\": \"he would\",\"he'll\": \"he will\", \"he's\": \"he is\", \"how'd\": \"how did\", \"how'd'y\": \"how do you\", \"how'll\": \"how will\", \"how's\": \"how is\",\n",
    "                           \"I'd\": \"I would\", \"I'd've\": \"I would have\", \"I'll\": \"I will\", \"I'll've\": \"I will have\",\"I'm\": \"I am\", \"I've\": \"I have\", \"i'd\": \"i would\",\n",
    "                           \"i'd've\": \"i would have\", \"i'll\": \"i will\",  \"i'll've\": \"i will have\",\"i'm\": \"i am\", \"i've\": \"i have\", \"isn't\": \"is not\", \"it'd\": \"it would\",\n",
    "                           \"it'd've\": \"it would have\", \"it'll\": \"it will\", \"it'll've\": \"it will have\",\"it's\": \"it is\", \"let's\": \"let us\", \"ma'am\": \"madam\",\n",
    "                           \"mayn't\": \"may not\", \"might've\": \"might have\",\"mightn't\": \"might not\",\"mightn't've\": \"might not have\", \"must've\": \"must have\",\n",
    "                           \"mustn't\": \"must not\", \"mustn't've\": \"must not have\", \"needn't\": \"need not\", \"needn't've\": \"need not have\",\"o'clock\": \"of the clock\",\n",
    "                           \"oughtn't\": \"ought not\", \"oughtn't've\": \"ought not have\", \"shan't\": \"shall not\", \"sha'n't\": \"shall not\", \"shan't've\": \"shall not have\",\n",
    "                           \"she'd\": \"she would\", \"she'd've\": \"she would have\", \"she'll\": \"she will\", \"she'll've\": \"she will have\", \"she's\": \"she is\",\n",
    "                           \"should've\": \"should have\", \"shouldn't\": \"should not\", \"shouldn't've\": \"should not have\", \"so've\": \"so have\",\"so's\": \"so as\",\n",
    "                           \"this's\": \"this is\",\"that'd\": \"that would\", \"that'd've\": \"that would have\", \"that's\": \"that is\", \"there'd\": \"there would\",\n",
    "                           \"there'd've\": \"there would have\", \"there's\": \"there is\", \"here's\": \"here is\",\"they'd\": \"they would\", \"they'd've\": \"they would have\",\n",
    "                           \"they'll\": \"they will\", \"they'll've\": \"they will have\", \"they're\": \"they are\", \"they've\": \"they have\", \"to've\": \"to have\",\n",
    "                           \"wasn't\": \"was not\", \"we'd\": \"we would\", \"we'd've\": \"we would have\", \"we'll\": \"we will\", \"we'll've\": \"we will have\", \"we're\": \"we are\",\n",
    "                           \"we've\": \"we have\", \"weren't\": \"were not\", \"what'll\": \"what will\", \"what'll've\": \"what will have\", \"what're\": \"what are\",\n",
    "                           \"what's\": \"what is\", \"what've\": \"what have\", \"when's\": \"when is\", \"when've\": \"when have\", \"where'd\": \"where did\", \"where's\": \"where is\",\n",
    "                           \"where've\": \"where have\", \"who'll\": \"who will\", \"who'll've\": \"who will have\", \"who's\": \"who is\", \"who've\": \"who have\",\n",
    "                           \"why's\": \"why is\", \"why've\": \"why have\", \"will've\": \"will have\", \"won't\": \"will not\", \"won't've\": \"will not have\",\n",
    "                           \"would've\": \"would have\", \"wouldn't\": \"would not\", \"wouldn't've\": \"would not have\", \"y'all\": \"you all\",\n",
    "                           \"y'all'd\": \"you all would\",\"y'all'd've\": \"you all would have\",\"y'all're\": \"you all are\",\"y'all've\": \"you all have\",\n",
    "                           \"you'd\": \"you would\", \"you'd've\": \"you would have\", \"you'll\": \"you will\", \"you'll've\": \"you will have\",\n",
    "                           \"you're\": \"you are\", \"you've\": \"you have\"}\n",
    "\n",
    "print(\"정규화 사전의 수: \", len(contractions))"
   ]
  },
  {
   "cell_type": "code",
   "execution_count": 11,
   "id": "0ace06a3",
   "metadata": {},
   "outputs": [
    {
     "name": "stdout",
     "output_type": "stream",
     "text": [
      "불용어 개수 : 179\n",
      "['i', 'me', 'my', 'myself', 'we', 'our', 'ours', 'ourselves', 'you', \"you're\", \"you've\", \"you'll\", \"you'd\", 'your', 'yours', 'yourself', 'yourselves', 'he', 'him', 'his', 'himself', 'she', \"she's\", 'her', 'hers', 'herself', 'it', \"it's\", 'its', 'itself', 'they', 'them', 'their', 'theirs', 'themselves', 'what', 'which', 'who', 'whom', 'this', 'that', \"that'll\", 'these', 'those', 'am', 'is', 'are', 'was', 'were', 'be', 'been', 'being', 'have', 'has', 'had', 'having', 'do', 'does', 'did', 'doing', 'a', 'an', 'the', 'and', 'but', 'if', 'or', 'because', 'as', 'until', 'while', 'of', 'at', 'by', 'for', 'with', 'about', 'against', 'between', 'into', 'through', 'during', 'before', 'after', 'above', 'below', 'to', 'from', 'up', 'down', 'in', 'out', 'on', 'off', 'over', 'under', 'again', 'further', 'then', 'once', 'here', 'there', 'when', 'where', 'why', 'how', 'all', 'any', 'both', 'each', 'few', 'more', 'most', 'other', 'some', 'such', 'no', 'nor', 'not', 'only', 'own', 'same', 'so', 'than', 'too', 'very', 's', 't', 'can', 'will', 'just', 'don', \"don't\", 'should', \"should've\", 'now', 'd', 'll', 'm', 'o', 're', 've', 'y', 'ain', 'aren', \"aren't\", 'couldn', \"couldn't\", 'didn', \"didn't\", 'doesn', \"doesn't\", 'hadn', \"hadn't\", 'hasn', \"hasn't\", 'haven', \"haven't\", 'isn', \"isn't\", 'ma', 'mightn', \"mightn't\", 'mustn', \"mustn't\", 'needn', \"needn't\", 'shan', \"shan't\", 'shouldn', \"shouldn't\", 'wasn', \"wasn't\", 'weren', \"weren't\", 'won', \"won't\", 'wouldn', \"wouldn't\"]\n"
     ]
    }
   ],
   "source": [
    "print('불용어 개수 :', len(stopwords.words('english') ))\n",
    "print(stopwords.words('english'))"
   ]
  },
  {
   "cell_type": "markdown",
   "id": "31382d8f",
   "metadata": {},
   "source": [
    "▶ 이 작업 외에도 모든 영어 문자는 소문자로 만들고, 섞여있는 html 태그를 제거하고, 정규 표현식을 통해 각종 특수문자를 제거해서 정말 필요한 내용만 잘 학습할 수 있도록 처리"
   ]
  },
  {
   "cell_type": "code",
   "execution_count": 12,
   "id": "8f2e9da9",
   "metadata": {},
   "outputs": [],
   "source": [
    "# 데이터 전처리 함수\n",
    "def preprocess_sentence(sentence, remove_stopwords=True):\n",
    "    sentence = sentence.lower() # 텍스트 소문자화\n",
    "    sentence = BeautifulSoup(sentence, \"lxml\").text # <br />, <a href = ...> 등의 html 태그 제거\n",
    "    sentence = re.sub(r'\\([^)]*\\)', '', sentence) # 괄호로 닫힌 문자열 (...) 제거 Ex) my husband (and myself!) for => my husband for\n",
    "    sentence = re.sub('\"','', sentence) # 쌍따옴표 \" 제거\n",
    "    sentence = ' '.join([contractions[t] if t in contractions else t for t in sentence.split(\" \")]) # 약어 정규화\n",
    "    sentence = re.sub(r\"'s\\b\",\"\", sentence) # 소유격 제거. Ex) roland's -> roland\n",
    "    sentence = re.sub(\"[^a-zA-Z]\", \" \", sentence) # 영어 외 문자(숫자, 특수문자 등) 공백으로 변환\n",
    "    sentence = re.sub('[m]{2,}', 'mm', sentence) # m이 3개 이상이면 2개로 변경. Ex) ummmmmmm yeah -> umm yeah\n",
    "    \n",
    "    # 불용어 제거 (Text)\n",
    "    if remove_stopwords:\n",
    "        tokens = ' '.join(word for word in sentence.split() if not word in stopwords.words('english') if len(word) > 1)\n",
    "    # 불용어 미제거 (Summary)\n",
    "    else:\n",
    "        tokens = ' '.join(word for word in sentence.split() if len(word) > 1)\n",
    "    return tokens"
   ]
  },
  {
   "cell_type": "markdown",
   "id": "efc78e07",
   "metadata": {},
   "source": [
    "▶ 함수의 하단에 있는 불용어 미제거 부분은 상대적으로 문장 길이가 짧은 headlines 전처리할 때는 호출하지 않을 예정이다."
   ]
  },
  {
   "cell_type": "code",
   "execution_count": 13,
   "id": "d2374afe",
   "metadata": {},
   "outputs": [
    {
     "name": "stdout",
     "output_type": "stream",
     "text": [
      "Text 전처리 후 결과:  ['saurav kant alumnus upgrad iiit pg program machine learning artificial intelligence sr systems engineer infosys almost years work experience program upgrad degree career support helped transition data scientist tech mahindra salary hike upgrad online power learning powered lakh careers', 'kunal shah credit card bill payment platform cred gave users chance win free food swiggy one year pranav kaushik delhi techie bagged reward spending cred coins users get one cred coin per rupee bill paid used avail rewards brands like ixigo bookmyshow ubereats cult fit', 'new zealand defeated india wickets fourth odi hamilton thursday win first match five match odi series india lost international match rohit sharma captaincy consecutive victories dating back march match witnessed india getting seventh lowest total odi cricket history', 'aegon life iterm insurance plan customers enjoy tax benefits premiums paid save taxes plan provides life cover age years also customers options insure critical illnesses disability accidental death benefit rider life cover age years', 'speaking sexual harassment allegations rajkumar hirani sonam kapoor said known hirani many years true metoo movement get derailed metoo movement always believe woman case need reserve judgment added hirani accused assistant worked sanju']\n"
     ]
    }
   ],
   "source": [
    "clean_text = []\n",
    "# 전체 Text 데이터에 대한 전처리 \n",
    "for s in data['text']:\n",
    "    clean_text.append(preprocess_sentence(s))\n",
    "\n",
    "# 전처리 후 출력\n",
    "print(\"Text 전처리 후 결과: \", clean_text[:5])"
   ]
  },
  {
   "cell_type": "code",
   "execution_count": 16,
   "id": "1d613297",
   "metadata": {},
   "outputs": [
    {
     "name": "stdout",
     "output_type": "stream",
     "text": [
      "headline 전처리 후 결과:  ['upgrad learner switches to career in ml al with salary hike', 'delhi techie wins free food from swiggy for one year on cred', 'new zealand end rohit sharma led india match winning streak', 'aegon life iterm insurance plan helps customers save tax', 'have known hirani for yrs what if metoo claims are not true sonam']\n"
     ]
    }
   ],
   "source": [
    "clean_summary = []\n",
    "# 전체 Summary 데이터에 대한 전처리 \n",
    "for s in data['headlines']:\n",
    "    clean_summary.append(preprocess_sentence(s, False))\n",
    "\n",
    "print(\"headline 전처리 후 결과: \", clean_summary[:5])"
   ]
  },
  {
   "cell_type": "markdown",
   "id": "c32e764b",
   "metadata": {},
   "source": [
    "▶ Null값 확인"
   ]
  },
  {
   "cell_type": "code",
   "execution_count": 18,
   "id": "0e103cbe",
   "metadata": {},
   "outputs": [],
   "source": [
    "data['text'] = clean_text\n",
    "data['headlines'] = clean_summary\n",
    "\n",
    "data.replace('', np.nan, inplace=True)"
   ]
  },
  {
   "cell_type": "code",
   "execution_count": 19,
   "id": "4f79bdf2",
   "metadata": {},
   "outputs": [
    {
     "data": {
      "text/plain": [
       "headlines    0\n",
       "text         0\n",
       "dtype: int64"
      ]
     },
     "execution_count": 19,
     "metadata": {},
     "output_type": "execute_result"
    }
   ],
   "source": [
    "data.isnull().sum()"
   ]
  },
  {
   "cell_type": "code",
   "execution_count": 20,
   "id": "986ab3f4",
   "metadata": {},
   "outputs": [
    {
     "name": "stdout",
     "output_type": "stream",
     "text": [
      "전체 샘플수 :  98360\n"
     ]
    }
   ],
   "source": [
    "print('전체 샘플수 : ', len(data))"
   ]
  },
  {
   "cell_type": "markdown",
   "id": "0104c101",
   "metadata": {},
   "source": [
    "### (3) 훈련 데이터와 테스트 데이터 나누기"
   ]
  },
  {
   "cell_type": "markdown",
   "id": "a3b5e179",
   "metadata": {},
   "source": [
    "#### ⦁ 샘플의 최대 길이 정하기"
   ]
  },
  {
   "cell_type": "code",
   "execution_count": 21,
   "id": "3f9ef83f",
   "metadata": {},
   "outputs": [
    {
     "name": "stdout",
     "output_type": "stream",
     "text": [
      "텍스트의 최소 길이 : 1\n",
      "텍스트의 최대 길이 : 60\n",
      "텍스트의 평균 길이 : 35.09968483123221\n",
      "요약의 최소 길이 : 1\n",
      "요약의 최대 길이 : 16\n",
      "요약의 평균 길이 : 9.299532330215534\n"
     ]
    },
    {
     "data": {
      "image/png": "[encoded data removed]",
      "text/plain": [
       "<Figure size 432x288 with 2 Axes>"
      ]
     },
     "metadata": {
      "needs_background": "light"
     },
     "output_type": "display_data"
    },
    {
     "data": {
      "image/png": "[encoded data removed]",
      "text/plain": [
       "<Figure size 432x288 with 1 Axes>"
      ]
     },
     "metadata": {
      "needs_background": "light"
     },
     "output_type": "display_data"
    },
    {
     "data": {
      "image/png": "[encoded data removed]",
      "text/plain": [
       "<Figure size 432x288 with 1 Axes>"
      ]
     },
     "metadata": {
      "needs_background": "light"
     },
     "output_type": "display_data"
    }
   ],
   "source": [
    "import matplotlib.pyplot as plt\n",
    "\n",
    "text_len = [len(s.split()) for s in data['text']]\n",
    "summary_len = [len(s.split()) for s in data['headlines']]\n",
    "\n",
    "print('텍스트의 최소 길이 : {}'.format(np.min(text_len)))\n",
    "print('텍스트의 최대 길이 : {}'.format(np.max(text_len)))\n",
    "print('텍스트의 평균 길이 : {}'.format(np.mean(text_len)))\n",
    "print('요약의 최소 길이 : {}'.format(np.min(summary_len)))\n",
    "print('요약의 최대 길이 : {}'.format(np.max(summary_len)))\n",
    "print('요약의 평균 길이 : {}'.format(np.mean(summary_len)))\n",
    "\n",
    "plt.subplot(1,2,1)\n",
    "plt.boxplot(text_len)\n",
    "plt.title('Text')\n",
    "plt.subplot(1,2,2)\n",
    "plt.boxplot(summary_len)\n",
    "plt.title('Summary')\n",
    "plt.tight_layout()\n",
    "plt.show()\n",
    "\n",
    "plt.title('Text')\n",
    "plt.hist(text_len, bins = 40)\n",
    "plt.xlabel('length of samples')\n",
    "plt.ylabel('number of samples')\n",
    "plt.show()\n",
    "\n",
    "plt.title('Summary')\n",
    "plt.hist(summary_len, bins = 40)\n",
    "plt.xlabel('length of samples')\n",
    "plt.ylabel('number of samples')\n",
    "plt.show()"
   ]
  },
  {
   "cell_type": "markdown",
   "id": "a8acc4b9",
   "metadata": {},
   "source": [
    "▶ 신뢰구간을 이용해서 적절한 최대 길이를 정한다. ( 평균 + 2표준편차 )"
   ]
  },
  {
   "cell_type": "code",
   "execution_count": 22,
   "id": "ec9b051d",
   "metadata": {},
   "outputs": [
    {
     "data": {
      "text/plain": [
       "(42, 12)"
      ]
     },
     "execution_count": 22,
     "metadata": {},
     "output_type": "execute_result"
    }
   ],
   "source": [
    "text_max_len = int(np.mean(text_len) + np.std(text_len) * 2)\n",
    "summary_max_len = int(np.mean(summary_len) + np.std(summary_len) * 2)\n",
    "\n",
    "text_max_len, summary_max_len"
   ]
  },
  {
   "cell_type": "code",
   "execution_count": 23,
   "id": "58fe097b",
   "metadata": {},
   "outputs": [
    {
     "name": "stdout",
     "output_type": "stream",
     "text": [
      "전체 샘플 중 길이가 42 이하인 샘플의 비율: 0.9750305002033347\n",
      "전체 샘플 중 길이가 12 이하인 샘플의 비율: 0.9880337535583571\n",
      "전체 샘플수 : 94754\n"
     ]
    }
   ],
   "source": [
    "def below_threshold_len(max_len, nested_list):\n",
    "    cnt = 0\n",
    "    for s in nested_list:\n",
    "        if(len(s.split()) <= max_len):\n",
    "            cnt = cnt + 1\n",
    "    print('전체 샘플 중 길이가 %s 이하인 샘플의 비율: %s'%(max_len, (cnt / len(nested_list))))\n",
    "\n",
    "below_threshold_len(text_max_len, data['text'])\n",
    "below_threshold_len(summary_max_len,  data['headlines'])\n",
    "\n",
    "# 정해진 길이보다 길면 제외\n",
    "data = data[data['text'].apply(lambda x: len(x.split()) <= text_max_len)]\n",
    "data = data[data['headlines'].apply(lambda x: len(x.split()) <= summary_max_len)]\n",
    "print('전체 샘플수 :', (len(data)))"
   ]
  },
  {
   "cell_type": "markdown",
   "id": "a8ef015a",
   "metadata": {},
   "source": [
    "#### ⦁ 시작 토큰과 종료 토큰 추가하기\n",
    "- seq2seq 훈련을 위해서 디코더의 입력과 레이블에 시작 토큰과 종료 토큰을 추가할 필요가 있다\n",
    "- 시작 토큰은 sostoken, 종료 토큰은 eostoken 이라고 명명하고 앞,뒤로 추가"
   ]
  },
  {
   "cell_type": "code",
   "execution_count": 24,
   "id": "a6cccf44",
   "metadata": {},
   "outputs": [
    {
     "data": {
      "text/html": [
       "<div>\n",
       "<style scoped>\n",
       "    .dataframe tbody tr th:only-of-type {\n",
       "        vertical-align: middle;\n",
       "    }\n",
       "\n",
       "    .dataframe tbody tr th {\n",
       "        vertical-align: top;\n",
       "    }\n",
       "\n",
       "    .dataframe thead th {\n",
       "        text-align: right;\n",
       "    }\n",
       "</style>\n",
       "<table border=\"1\" class=\"dataframe\">\n",
       "  <thead>\n",
       "    <tr style=\"text-align: right;\">\n",
       "      <th></th>\n",
       "      <th>headlines</th>\n",
       "      <th>text</th>\n",
       "      <th>decoder_input</th>\n",
       "      <th>decoder_target</th>\n",
       "    </tr>\n",
       "  </thead>\n",
       "  <tbody>\n",
       "    <tr>\n",
       "      <th>0</th>\n",
       "      <td>upgrad learner switches to career in ml al wit...</td>\n",
       "      <td>saurav kant alumnus upgrad iiit pg program mac...</td>\n",
       "      <td>sostoken upgrad learner switches to career in ...</td>\n",
       "      <td>upgrad learner switches to career in ml al wit...</td>\n",
       "    </tr>\n",
       "    <tr>\n",
       "      <th>2</th>\n",
       "      <td>new zealand end rohit sharma led india match w...</td>\n",
       "      <td>new zealand defeated india wickets fourth odi ...</td>\n",
       "      <td>sostoken new zealand end rohit sharma led indi...</td>\n",
       "      <td>new zealand end rohit sharma led india match w...</td>\n",
       "    </tr>\n",
       "    <tr>\n",
       "      <th>3</th>\n",
       "      <td>aegon life iterm insurance plan helps customer...</td>\n",
       "      <td>aegon life iterm insurance plan customers enjo...</td>\n",
       "      <td>sostoken aegon life iterm insurance plan helps...</td>\n",
       "      <td>aegon life iterm insurance plan helps customer...</td>\n",
       "    </tr>\n",
       "    <tr>\n",
       "      <th>5</th>\n",
       "      <td>rahat fateh ali khan denies getting notice for...</td>\n",
       "      <td>pakistani singer rahat fateh ali khan denied r...</td>\n",
       "      <td>sostoken rahat fateh ali khan denies getting n...</td>\n",
       "      <td>rahat fateh ali khan denies getting notice for...</td>\n",
       "    </tr>\n",
       "    <tr>\n",
       "      <th>6</th>\n",
       "      <td>india get all out for their lowest odi total i...</td>\n",
       "      <td>india recorded lowest odi total new zealand ge...</td>\n",
       "      <td>sostoken india get all out for their lowest od...</td>\n",
       "      <td>india get all out for their lowest odi total i...</td>\n",
       "    </tr>\n",
       "  </tbody>\n",
       "</table>\n",
       "</div>"
      ],
      "text/plain": [
       "                                           headlines  \\\n",
       "0  upgrad learner switches to career in ml al wit...   \n",
       "2  new zealand end rohit sharma led india match w...   \n",
       "3  aegon life iterm insurance plan helps customer...   \n",
       "5  rahat fateh ali khan denies getting notice for...   \n",
       "6  india get all out for their lowest odi total i...   \n",
       "\n",
       "                                                text  \\\n",
       "0  saurav kant alumnus upgrad iiit pg program mac...   \n",
       "2  new zealand defeated india wickets fourth odi ...   \n",
       "3  aegon life iterm insurance plan customers enjo...   \n",
       "5  pakistani singer rahat fateh ali khan denied r...   \n",
       "6  india recorded lowest odi total new zealand ge...   \n",
       "\n",
       "                                       decoder_input  \\\n",
       "0  sostoken upgrad learner switches to career in ...   \n",
       "2  sostoken new zealand end rohit sharma led indi...   \n",
       "3  sostoken aegon life iterm insurance plan helps...   \n",
       "5  sostoken rahat fateh ali khan denies getting n...   \n",
       "6  sostoken india get all out for their lowest od...   \n",
       "\n",
       "                                      decoder_target  \n",
       "0  upgrad learner switches to career in ml al wit...  \n",
       "2  new zealand end rohit sharma led india match w...  \n",
       "3  aegon life iterm insurance plan helps customer...  \n",
       "5  rahat fateh ali khan denies getting notice for...  \n",
       "6  india get all out for their lowest odi total i...  "
      ]
     },
     "execution_count": 24,
     "metadata": {},
     "output_type": "execute_result"
    }
   ],
   "source": [
    " # 요약 데이터에는 시작 토큰과 종료 토큰을 추가한다.\n",
    "data['decoder_input'] = data['headlines'].apply(lambda x : 'sostoken '+ x)\n",
    "data['decoder_target'] = data['headlines'].apply(lambda x : x + ' eostoken')\n",
    "data.head()"
   ]
  },
  {
   "cell_type": "code",
   "execution_count": 25,
   "id": "4d5ddf26",
   "metadata": {},
   "outputs": [],
   "source": [
    "encoder_input = np.array(data['text']) # 인코더의 입력\n",
    "decoder_input = np.array(data['decoder_input']) # 디코더의 입력\n",
    "decoder_target = np.array(data['decoder_target']) # 디코더의 레이블"
   ]
  },
  {
   "cell_type": "markdown",
   "id": "48d6a5d7",
   "metadata": {},
   "source": [
    "#### ⦁ 훈련 데이터와 테스트 데이터 분리"
   ]
  },
  {
   "cell_type": "code",
   "execution_count": 26,
   "id": "f866dd60",
   "metadata": {},
   "outputs": [
    {
     "name": "stdout",
     "output_type": "stream",
     "text": [
      "[83510  5551 14567 ... 42079 55714 58656]\n"
     ]
    }
   ],
   "source": [
    "indices = np.arange(encoder_input.shape[0])\n",
    "np.random.shuffle(indices)\n",
    "print(indices)"
   ]
  },
  {
   "cell_type": "code",
   "execution_count": 27,
   "id": "9e0e57e4",
   "metadata": {},
   "outputs": [],
   "source": [
    "encoder_input = encoder_input[indices]\n",
    "decoder_input = decoder_input[indices]\n",
    "decoder_target = decoder_target[indices]"
   ]
  },
  {
   "cell_type": "code",
   "execution_count": 28,
   "id": "1f18d7aa",
   "metadata": {},
   "outputs": [
    {
     "name": "stdout",
     "output_type": "stream",
     "text": [
      "테스트 데이터의 수 : 18950\n"
     ]
    }
   ],
   "source": [
    "n_of_val = int(len(encoder_input)*0.2)\n",
    "print('테스트 데이터의 수 :', n_of_val)"
   ]
  },
  {
   "cell_type": "code",
   "execution_count": 29,
   "id": "9e9ab7d4",
   "metadata": {},
   "outputs": [
    {
     "name": "stdout",
     "output_type": "stream",
     "text": [
      "훈련 데이터의 개수 : 75804\n",
      "훈련 레이블의 개수 : 75804\n",
      "테스트 데이터의 개수 : 18950\n",
      "테스트 레이블의 개수 : 18950\n"
     ]
    }
   ],
   "source": [
    "encoder_input_train = encoder_input[:-n_of_val]\n",
    "decoder_input_train = decoder_input[:-n_of_val]\n",
    "decoder_target_train = decoder_target[:-n_of_val]\n",
    "\n",
    "encoder_input_test = encoder_input[-n_of_val:]\n",
    "decoder_input_test = decoder_input[-n_of_val:]\n",
    "decoder_target_test = decoder_target[-n_of_val:]\n",
    "\n",
    "print('훈련 데이터의 개수 :', len(encoder_input_train))\n",
    "print('훈련 레이블의 개수 :', len(decoder_input_train))\n",
    "print('테스트 데이터의 개수 :', len(encoder_input_test))\n",
    "print('테스트 레이블의 개수 :', len(decoder_input_test))"
   ]
  },
  {
   "cell_type": "markdown",
   "id": "c0e13107",
   "metadata": {},
   "source": [
    "### (4) 정수 인코딩\n",
    "- 기계가 텍스트를 숫자로 처리할 수 있도록 훈련 데이터와 테스트 데이터의 단어들을 모두 정수로 바꾸어 주어야 한다\n",
    "- 각 단어에 고유한 정수를 맵핑하는 작업이 필요하다\n",
    "- 이 과정을 단어 집합을 만든다고 표현"
   ]
  },
  {
   "cell_type": "markdown",
   "id": "b898f47c",
   "metadata": {},
   "source": [
    "#### ⦁ encoder_input_train"
   ]
  },
  {
   "cell_type": "code",
   "execution_count": 30,
   "id": "380d3b4b",
   "metadata": {},
   "outputs": [],
   "source": [
    "src_tokenizer = Tokenizer() # 토크나이저 정의\n",
    "src_tokenizer.fit_on_texts(encoder_input_train) # 입력된 데이터로부터 단어 집합 생성"
   ]
  },
  {
   "cell_type": "markdown",
   "id": "025db4a6",
   "metadata": {},
   "source": [
    "▶ 생성된 단어 집합은 src_tokenizer.word_index에 저장, 빈도수가 낮은 단어들은 훈련 데이터에서 제외"
   ]
  },
  {
   "cell_type": "code",
   "execution_count": 31,
   "id": "ba072c32",
   "metadata": {},
   "outputs": [
    {
     "name": "stdout",
     "output_type": "stream",
     "text": [
      "단어 집합(vocabulary)의 크기 : 67797\n",
      "등장 빈도가 6번 이하인 희귀 단어의 수: 46128\n",
      "단어 집합에서 희귀 단어를 제외시킬 경우의 단어 집합의 크기 21669\n",
      "단어 집합에서 희귀 단어의 비율: 68.03840877914952\n",
      "전체 등장 빈도에서 희귀 단어 등장 빈도 비율: 3.5442569668577755\n"
     ]
    }
   ],
   "source": [
    "threshold = 7\n",
    "total_cnt = len(src_tokenizer.word_index) # 단어의 수\n",
    "rare_cnt = 0 # 등장 빈도수가 threshold보다 작은 단어의 개수를 카운트\n",
    "total_freq = 0 # 훈련 데이터의 전체 단어 빈도수 총 합\n",
    "rare_freq = 0 # 등장 빈도수가 threshold보다 작은 단어의 등장 빈도수의 총 합\n",
    "\n",
    "# 단어와 빈도수의 쌍(pair)을 key와 value로 받는다.\n",
    "for key, value in src_tokenizer.word_counts.items():\n",
    "    total_freq = total_freq + value\n",
    "\n",
    "    # 단어의 등장 빈도수가 threshold보다 작으면\n",
    "    if(value < threshold):\n",
    "        rare_cnt = rare_cnt + 1\n",
    "        rare_freq = rare_freq + value\n",
    "\n",
    "print('단어 집합(vocabulary)의 크기 :', total_cnt)\n",
    "print('등장 빈도가 %s번 이하인 희귀 단어의 수: %s'%(threshold - 1, rare_cnt))\n",
    "print('단어 집합에서 희귀 단어를 제외시킬 경우의 단어 집합의 크기 %s'%(total_cnt - rare_cnt))\n",
    "print(\"단어 집합에서 희귀 단어의 비율:\", (rare_cnt / total_cnt)*100)\n",
    "print(\"전체 등장 빈도에서 희귀 단어 등장 빈도 비율:\", (rare_freq / total_freq)*100)"
   ]
  },
  {
   "cell_type": "markdown",
   "id": "a939f83c",
   "metadata": {},
   "source": [
    "▶ encoder_input_train에는 6만여개의 단어가 있다 <br>\n",
    "▶ 실제로 훈련 데이터에서 등장 빈도로 차지하는 비중은 상대적으로 적은 수치인 3.54% <br>\n",
    "▶ 등장 빈도가 6회 이하인 단어들은 정수 인코딩 과정에서 빼고, 훈련 데이터에서 제거 <br>\n",
    "▶ 이를 제외한 단어 집합의 크기를 2만여개로 계산해서 이와 비슷하게 단어 집합의 크기를 20000 으로 제한"
   ]
  },
  {
   "cell_type": "code",
   "execution_count": 32,
   "id": "202f6a73",
   "metadata": {},
   "outputs": [],
   "source": [
    "src_vocab = 20000\n",
    "src_tokenizer = Tokenizer(num_words=src_vocab) # 단어 집합의 크기를 20,000으로 제한\n",
    "src_tokenizer.fit_on_texts(encoder_input_train) # 단어 집합 재생성"
   ]
  },
  {
   "cell_type": "code",
   "execution_count": 33,
   "id": "e3336874",
   "metadata": {},
   "outputs": [
    {
     "name": "stdout",
     "output_type": "stream",
     "text": [
      "[[29, 2, 104, 2663, 1807, 1, 319, 1046, 4161, 3495, 17068, 6092, 22, 324, 489, 18970, 24, 16290, 201, 539, 3882, 5844, 963, 3213, 2602, 24, 638, 12234, 6965, 1, 1807, 3495, 1971, 143, 2663, 293, 1, 1450, 160], [7780, 9561, 209, 472, 18971, 6225, 9561, 1036, 199, 6225, 2759, 203, 67, 718, 2259, 62, 1945, 281, 9561, 8, 9989, 1041, 6805, 14, 395, 10948, 529, 1919, 9561, 604, 1441, 13023, 1062, 33, 127], [1576, 164, 19, 7567, 6367, 857, 90, 1751, 954, 5776, 5716, 560, 326, 77, 3290, 2803, 1, 9, 1085, 2787, 4989, 19, 6454, 9, 469, 3291, 18972, 7047, 2803, 4, 2635, 19, 1552, 1751, 139, 857, 86, 861]]\n"
     ]
    }
   ],
   "source": [
    "# 텍스트 시퀀스를 정수 시퀀스로 변환\n",
    "encoder_input_train = src_tokenizer.texts_to_sequences(encoder_input_train) \n",
    "encoder_input_test = src_tokenizer.texts_to_sequences(encoder_input_test)\n",
    "\n",
    "# 잘 진행되었는지 샘플 출력\n",
    "print(encoder_input_train[:3])"
   ]
  },
  {
   "cell_type": "markdown",
   "id": "54e9d820",
   "metadata": {},
   "source": [
    "#### ⦁ decoder_input_train"
   ]
  },
  {
   "cell_type": "code",
   "execution_count": 34,
   "id": "ca10f160",
   "metadata": {},
   "outputs": [],
   "source": [
    "tar_tokenizer = Tokenizer()\n",
    "tar_tokenizer.fit_on_texts(decoder_input_train)"
   ]
  },
  {
   "cell_type": "code",
   "execution_count": 35,
   "id": "53a25670",
   "metadata": {},
   "outputs": [
    {
     "name": "stdout",
     "output_type": "stream",
     "text": [
      "단어 집합(vocabulary)의 크기 : 29548\n",
      "등장 빈도가 5번 이하인 희귀 단어의 수: 19325\n",
      "단어 집합에서 희귀 단어를 제외시킬 경우의 단어 집합의 크기 10223\n",
      "단어 집합에서 희귀 단어의 비율: 65.40205766887776\n",
      "전체 등장 빈도에서 희귀 단어 등장 빈도 비율: 4.756520340890819\n"
     ]
    }
   ],
   "source": [
    "threshold = 6\n",
    "total_cnt = len(tar_tokenizer.word_index) # 단어의 수\n",
    "rare_cnt = 0 # 등장 빈도수가 threshold보다 작은 단어의 개수를 카운트\n",
    "total_freq = 0 # 훈련 데이터의 전체 단어 빈도수 총 합\n",
    "rare_freq = 0 # 등장 빈도수가 threshold보다 작은 단어의 등장 빈도수의 총 합\n",
    "\n",
    "# 단어와 빈도수의 쌍(pair)을 key와 value로 받는다.\n",
    "for key, value in tar_tokenizer.word_counts.items():\n",
    "    total_freq = total_freq + value\n",
    "\n",
    "    # 단어의 등장 빈도수가 threshold보다 작으면\n",
    "    if(value < threshold):\n",
    "        rare_cnt = rare_cnt + 1\n",
    "        rare_freq = rare_freq + value\n",
    "\n",
    "print('단어 집합(vocabulary)의 크기 :', total_cnt)\n",
    "print('등장 빈도가 %s번 이하인 희귀 단어의 수: %s'%(threshold - 1, rare_cnt))\n",
    "print('단어 집합에서 희귀 단어를 제외시킬 경우의 단어 집합의 크기 %s'%(total_cnt - rare_cnt))\n",
    "print(\"단어 집합에서 희귀 단어의 비율:\", (rare_cnt / total_cnt)*100)\n",
    "print(\"전체 등장 빈도에서 희귀 단어 등장 빈도 비율:\", (rare_freq / total_freq)*100)"
   ]
  },
  {
   "cell_type": "code",
   "execution_count": 36,
   "id": "24bb3920",
   "metadata": {},
   "outputs": [
    {
     "name": "stdout",
     "output_type": "stream",
     "text": [
      "input\n",
      "input  [[1, 4415, 2132, 78, 5, 58, 88, 4416, 956], [1, 5056, 497, 327, 946, 3789, 25, 16, 36, 2606, 9, 308], [1, 66, 569, 314, 1296, 41, 4703, 3154, 346, 34], [1, 3155, 349, 605, 322, 106, 772, 17, 3680, 630], [1, 166, 1695, 8, 90, 1231, 4, 910, 12, 979]]\n",
      "target\n",
      "decoder  [[4415, 2132, 78, 5, 58, 88, 4416, 956, 2], [5056, 497, 327, 946, 3789, 25, 16, 36, 2606, 9, 308, 2], [66, 569, 314, 1296, 41, 4703, 3154, 346, 34, 2], [3155, 349, 605, 322, 106, 772, 17, 3680, 630, 2], [166, 1695, 8, 90, 1231, 4, 910, 12, 979, 2]]\n"
     ]
    }
   ],
   "source": [
    "tar_vocab = 10000\n",
    "tar_tokenizer = Tokenizer(num_words=tar_vocab) \n",
    "tar_tokenizer.fit_on_texts(decoder_input_train)\n",
    "tar_tokenizer.fit_on_texts(decoder_target_train)\n",
    "\n",
    "# 텍스트 시퀀스를 정수 시퀀스로 변환\n",
    "decoder_input_train = tar_tokenizer.texts_to_sequences(decoder_input_train) \n",
    "decoder_target_train = tar_tokenizer.texts_to_sequences(decoder_target_train)\n",
    "decoder_input_test = tar_tokenizer.texts_to_sequences(decoder_input_test)\n",
    "decoder_target_test = tar_tokenizer.texts_to_sequences(decoder_target_test)\n",
    "\n",
    "# 잘 변환되었는지 확인\n",
    "print('input')\n",
    "print('input ',decoder_input_train[:5])\n",
    "print('target')\n",
    "print('decoder ',decoder_target_train[:5])"
   ]
  },
  {
   "cell_type": "code",
   "execution_count": 37,
   "id": "14e3049b",
   "metadata": {},
   "outputs": [
    {
     "name": "stdout",
     "output_type": "stream",
     "text": [
      "삭제할 훈련 데이터의 개수 : 1\n",
      "삭제할 테스트 데이터의 개수 : 0\n",
      "훈련 데이터의 개수 : 75803\n",
      "훈련 레이블의 개수 : 75803\n",
      "테스트 데이터의 개수 : 18950\n",
      "테스트 레이블의 개수 : 18950\n"
     ]
    }
   ],
   "source": [
    "drop_train = [index for index, sentence in enumerate(decoder_input_train) if len(sentence) == 1]\n",
    "drop_test = [index for index, sentence in enumerate(decoder_input_test) if len(sentence) == 1]\n",
    "\n",
    "print('삭제할 훈련 데이터의 개수 :', len(drop_train))\n",
    "print('삭제할 테스트 데이터의 개수 :', len(drop_test))\n",
    "\n",
    "encoder_input_train = [sentence for index, sentence in enumerate(encoder_input_train) if index not in drop_train]\n",
    "decoder_input_train = [sentence for index, sentence in enumerate(decoder_input_train) if index not in drop_train]\n",
    "decoder_target_train = [sentence for index, sentence in enumerate(decoder_target_train) if index not in drop_train]\n",
    "\n",
    "encoder_input_test = [sentence for index, sentence in enumerate(encoder_input_test) if index not in drop_test]\n",
    "decoder_input_test = [sentence for index, sentence in enumerate(decoder_input_test) if index not in drop_test]\n",
    "decoder_target_test = [sentence for index, sentence in enumerate(decoder_target_test) if index not in drop_test]\n",
    "\n",
    "print('훈련 데이터의 개수 :', len(encoder_input_train))\n",
    "print('훈련 레이블의 개수 :', len(decoder_input_train))\n",
    "print('테스트 데이터의 개수 :', len(encoder_input_test))\n",
    "print('테스트 레이블의 개수 :', len(decoder_input_test))"
   ]
  },
  {
   "cell_type": "markdown",
   "id": "04150a80",
   "metadata": {},
   "source": [
    "####  ⦁ 패딩하기"
   ]
  },
  {
   "cell_type": "code",
   "execution_count": 38,
   "id": "a0f5fea6",
   "metadata": {},
   "outputs": [],
   "source": [
    "encoder_input_train = pad_sequences(encoder_input_train, maxlen=text_max_len, padding='post')\n",
    "encoder_input_test = pad_sequences(encoder_input_test, maxlen=text_max_len, padding='post')\n",
    "decoder_input_train = pad_sequences(decoder_input_train, maxlen=summary_max_len, padding='post')\n",
    "decoder_target_train = pad_sequences(decoder_target_train, maxlen=summary_max_len, padding='post')\n",
    "decoder_input_test = pad_sequences(decoder_input_test, maxlen=summary_max_len, padding='post')\n",
    "decoder_target_test = pad_sequences(decoder_target_test, maxlen=summary_max_len, padding='post')"
   ]
  },
  {
   "cell_type": "markdown",
   "id": "cde527c9",
   "metadata": {},
   "source": [
    "---"
   ]
  },
  {
   "cell_type": "markdown",
   "id": "facd758c",
   "metadata": {},
   "source": [
    "## Step3. 어텐션 메커니즘 사용하기"
   ]
  },
  {
   "cell_type": "code",
   "execution_count": 39,
   "id": "1a3a290d",
   "metadata": {},
   "outputs": [],
   "source": [
    "from tensorflow.keras.layers import Input, LSTM, Embedding, Dense, Concatenate, TimeDistributed\n",
    "from tensorflow.keras.models import Model\n",
    "from tensorflow.keras.callbacks import EarlyStopping, ModelCheckpoint"
   ]
  },
  {
   "cell_type": "markdown",
   "id": "05b9145e",
   "metadata": {},
   "source": [
    "### (1) Encoder"
   ]
  },
  {
   "cell_type": "code",
   "execution_count": 40,
   "id": "1c692ee3",
   "metadata": {},
   "outputs": [
    {
     "name": "stdout",
     "output_type": "stream",
     "text": [
      "WARNING:tensorflow:Layer lstm will not use cuDNN kernels since it doesn't meet the criteria. It will use a generic GPU kernel as fallback when running on GPU.\n",
      "WARNING:tensorflow:Layer lstm_1 will not use cuDNN kernels since it doesn't meet the criteria. It will use a generic GPU kernel as fallback when running on GPU.\n",
      "WARNING:tensorflow:Layer lstm_2 will not use cuDNN kernels since it doesn't meet the criteria. It will use a generic GPU kernel as fallback when running on GPU.\n"
     ]
    }
   ],
   "source": [
    "# 인코더 설계 시작\n",
    "embedding_dim = 128\n",
    "hidden_size = 256\n",
    "\n",
    "# 인코더\n",
    "encoder_inputs = Input(shape=(text_max_len,))\n",
    "\n",
    "# 인코더의 임베딩 층\n",
    "enc_emb = Embedding(src_vocab, embedding_dim)(encoder_inputs)\n",
    "\n",
    "# 인코더의 LSTM 1\n",
    "encoder_lstm1 = LSTM(hidden_size, return_sequences=True, return_state=True ,dropout = 0.4, recurrent_dropout = 0.4)\n",
    "encoder_output1, state_h1, state_c1 = encoder_lstm1(enc_emb)\n",
    "\n",
    "# 인코더의 LSTM 2\n",
    "encoder_lstm2 = LSTM(hidden_size, return_sequences=True, return_state=True, dropout=0.4, recurrent_dropout=0.4)\n",
    "encoder_output2, state_h2, state_c2 = encoder_lstm2(encoder_output1)\n",
    "\n",
    "# 인코더의 LSTM 3\n",
    "encoder_lstm3 = LSTM(hidden_size, return_state=True, return_sequences=True, dropout=0.4, recurrent_dropout=0.4)\n",
    "encoder_outputs, state_h, state_c= encoder_lstm3(encoder_output2)"
   ]
  },
  {
   "cell_type": "markdown",
   "id": "1c239db1",
   "metadata": {},
   "source": [
    "### (2) Decoder"
   ]
  },
  {
   "cell_type": "code",
   "execution_count": 41,
   "id": "962ef202",
   "metadata": {},
   "outputs": [
    {
     "name": "stdout",
     "output_type": "stream",
     "text": [
      "WARNING:tensorflow:Layer lstm_3 will not use cuDNN kernels since it doesn't meet the criteria. It will use a generic GPU kernel as fallback when running on GPU.\n"
     ]
    }
   ],
   "source": [
    "# 디코더 설계\n",
    "decoder_inputs = Input(shape=(None,))\n",
    "\n",
    "# 디코더의 임베딩 층\n",
    "dec_emb_layer = Embedding(tar_vocab, embedding_dim)\n",
    "dec_emb = dec_emb_layer(decoder_inputs)\n",
    "\n",
    "# 디코더의 LSTM\n",
    "decoder_lstm = LSTM(hidden_size, return_sequences=True, return_state=True, dropout=0.4, recurrent_dropout=0.2)\n",
    "decoder_outputs, _, _ = decoder_lstm(dec_emb, initial_state=[state_h, state_c])\n",
    "\n",
    "# 디코더의 출력층\n",
    "decoder_softmax_layer = Dense(tar_vocab, activation='softmax')\n",
    "decoder_softmax_outputs = decoder_softmax_layer(decoder_outputs) "
   ]
  },
  {
   "cell_type": "code",
   "execution_count": 42,
   "id": "1cf6e279",
   "metadata": {},
   "outputs": [
    {
     "name": "stdout",
     "output_type": "stream",
     "text": [
      "Model: \"model\"\n",
      "__________________________________________________________________________________________________\n",
      "Layer (type)                    Output Shape         Param #     Connected to                     \n",
      "==================================================================================================\n",
      "input_1 (InputLayer)            [(None, 42)]         0                                            \n",
      "__________________________________________________________________________________________________\n",
      "embedding (Embedding)           (None, 42, 128)      2560000     input_1[0][0]                    \n",
      "__________________________________________________________________________________________________\n",
      "lstm (LSTM)                     [(None, 42, 256), (N 394240      embedding[0][0]                  \n",
      "__________________________________________________________________________________________________\n",
      "input_2 (InputLayer)            [(None, None)]       0                                            \n",
      "__________________________________________________________________________________________________\n",
      "lstm_1 (LSTM)                   [(None, 42, 256), (N 525312      lstm[0][0]                       \n",
      "__________________________________________________________________________________________________\n",
      "embedding_1 (Embedding)         (None, None, 128)    1280000     input_2[0][0]                    \n",
      "__________________________________________________________________________________________________\n",
      "lstm_2 (LSTM)                   [(None, 42, 256), (N 525312      lstm_1[0][0]                     \n",
      "__________________________________________________________________________________________________\n",
      "lstm_3 (LSTM)                   [(None, None, 256),  394240      embedding_1[0][0]                \n",
      "                                                                 lstm_2[0][1]                     \n",
      "                                                                 lstm_2[0][2]                     \n",
      "__________________________________________________________________________________________________\n",
      "dense (Dense)                   (None, None, 10000)  2570000     lstm_3[0][0]                     \n",
      "==================================================================================================\n",
      "Total params: 8,249,104\n",
      "Trainable params: 8,249,104\n",
      "Non-trainable params: 0\n",
      "__________________________________________________________________________________________________\n"
     ]
    }
   ],
   "source": [
    "# 모델 정의\n",
    "model = Model([encoder_inputs, decoder_inputs], decoder_softmax_outputs)\n",
    "model.summary()"
   ]
  },
  {
   "cell_type": "markdown",
   "id": "94fbc05e",
   "metadata": {},
   "source": [
    "### (3) Attention "
   ]
  },
  {
   "cell_type": "code",
   "execution_count": 43,
   "id": "6ee14316",
   "metadata": {},
   "outputs": [],
   "source": [
    "from tensorflow.keras.layers import AdditiveAttention"
   ]
  },
  {
   "cell_type": "code",
   "execution_count": 44,
   "id": "9cbff2e0",
   "metadata": {},
   "outputs": [
    {
     "name": "stdout",
     "output_type": "stream",
     "text": [
      "Model: \"model_1\"\n",
      "__________________________________________________________________________________________________\n",
      "Layer (type)                    Output Shape         Param #     Connected to                     \n",
      "==================================================================================================\n",
      "input_1 (InputLayer)            [(None, 42)]         0                                            \n",
      "__________________________________________________________________________________________________\n",
      "embedding (Embedding)           (None, 42, 128)      2560000     input_1[0][0]                    \n",
      "__________________________________________________________________________________________________\n",
      "lstm (LSTM)                     [(None, 42, 256), (N 394240      embedding[0][0]                  \n",
      "__________________________________________________________________________________________________\n",
      "input_2 (InputLayer)            [(None, None)]       0                                            \n",
      "__________________________________________________________________________________________________\n",
      "lstm_1 (LSTM)                   [(None, 42, 256), (N 525312      lstm[0][0]                       \n",
      "__________________________________________________________________________________________________\n",
      "embedding_1 (Embedding)         (None, None, 128)    1280000     input_2[0][0]                    \n",
      "__________________________________________________________________________________________________\n",
      "lstm_2 (LSTM)                   [(None, 42, 256), (N 525312      lstm_1[0][0]                     \n",
      "__________________________________________________________________________________________________\n",
      "lstm_3 (LSTM)                   [(None, None, 256),  394240      embedding_1[0][0]                \n",
      "                                                                 lstm_2[0][1]                     \n",
      "                                                                 lstm_2[0][2]                     \n",
      "__________________________________________________________________________________________________\n",
      "attention_layer (AdditiveAttent (None, None, 256)    256         lstm_3[0][0]                     \n",
      "                                                                 lstm_2[0][0]                     \n",
      "__________________________________________________________________________________________________\n",
      "concat_layer (Concatenate)      (None, None, 512)    0           lstm_3[0][0]                     \n",
      "                                                                 attention_layer[0][0]            \n",
      "__________________________________________________________________________________________________\n",
      "dense_1 (Dense)                 (None, None, 10000)  5130000     concat_layer[0][0]               \n",
      "==================================================================================================\n",
      "Total params: 10,809,360\n",
      "Trainable params: 10,809,360\n",
      "Non-trainable params: 0\n",
      "__________________________________________________________________________________________________\n"
     ]
    }
   ],
   "source": [
    "# 어텐션 층(어텐션 함수)\n",
    "attn_layer = AdditiveAttention(name='attention_layer')\n",
    "\n",
    "# 인코더와 디코더의 모든 time step의 hidden state를 어텐션 층에 전달하고 결과를 리턴\n",
    "attn_out = attn_layer([decoder_outputs, encoder_outputs])\n",
    "\n",
    "\n",
    "# 어텐션의 결과와 디코더의 hidden state들을 연결\n",
    "decoder_concat_input = Concatenate(axis=-1, name='concat_layer')([decoder_outputs, attn_out])\n",
    "\n",
    "# 디코더의 출력층\n",
    "decoder_softmax_layer = Dense(tar_vocab, activation='softmax')\n",
    "decoder_softmax_outputs = decoder_softmax_layer(decoder_concat_input)\n",
    "\n",
    "# 모델 정의\n",
    "model = Model([encoder_inputs, decoder_inputs], decoder_softmax_outputs)\n",
    "model.summary()"
   ]
  },
  {
   "cell_type": "markdown",
   "id": "a3f191cb",
   "metadata": {},
   "source": [
    "### (4) 모델 훈련하기"
   ]
  },
  {
   "cell_type": "code",
   "execution_count": 45,
   "id": "c813ee18",
   "metadata": {},
   "outputs": [
    {
     "name": "stdout",
     "output_type": "stream",
     "text": [
      "Epoch 1/50\n",
      "297/297 [==============================] - 187s 601ms/step - loss: 5.6415 - val_loss: 5.2241\n",
      "Epoch 2/50\n",
      "297/297 [==============================] - 175s 589ms/step - loss: 5.0637 - val_loss: 4.8790\n",
      "Epoch 3/50\n",
      "297/297 [==============================] - 174s 584ms/step - loss: 4.7346 - val_loss: 4.6114\n",
      "Epoch 4/50\n",
      "297/297 [==============================] - 174s 587ms/step - loss: 4.4713 - val_loss: 4.4288\n",
      "Epoch 5/50\n",
      "297/297 [==============================] - 173s 583ms/step - loss: 4.2608 - val_loss: 4.2874\n",
      "Epoch 6/50\n",
      "297/297 [==============================] - 172s 578ms/step - loss: 4.0863 - val_loss: 4.1517\n",
      "Epoch 7/50\n",
      "297/297 [==============================] - 173s 581ms/step - loss: 3.9372 - val_loss: 4.0546\n",
      "Epoch 8/50\n",
      "297/297 [==============================] - 172s 580ms/step - loss: 3.8086 - val_loss: 3.9842\n",
      "Epoch 9/50\n",
      "297/297 [==============================] - 175s 590ms/step - loss: 3.6988 - val_loss: 3.9236\n",
      "Epoch 10/50\n",
      "297/297 [==============================] - 173s 581ms/step - loss: 3.6019 - val_loss: 3.8709\n",
      "Epoch 11/50\n",
      "297/297 [==============================] - 173s 582ms/step - loss: 3.5166 - val_loss: 3.8407\n",
      "Epoch 12/50\n",
      "297/297 [==============================] - 173s 584ms/step - loss: 3.4384 - val_loss: 3.8317\n",
      "Epoch 13/50\n",
      "297/297 [==============================] - 173s 584ms/step - loss: 3.3694 - val_loss: 3.7645\n",
      "Epoch 14/50\n",
      "297/297 [==============================] - 173s 583ms/step - loss: 3.3025 - val_loss: 3.7451\n",
      "Epoch 15/50\n",
      "297/297 [==============================] - 174s 587ms/step - loss: 3.2384 - val_loss: 3.7257\n",
      "Epoch 16/50\n",
      "297/297 [==============================] - 174s 586ms/step - loss: 3.1836 - val_loss: 3.7100\n",
      "Epoch 17/50\n",
      "297/297 [==============================] - 174s 588ms/step - loss: 3.1314 - val_loss: 3.6899\n",
      "Epoch 18/50\n",
      "297/297 [==============================] - 175s 588ms/step - loss: 3.0839 - val_loss: 3.6908\n",
      "Epoch 19/50\n",
      "297/297 [==============================] - 175s 591ms/step - loss: 3.0368 - val_loss: 3.6717\n",
      "Epoch 20/50\n",
      "297/297 [==============================] - 176s 592ms/step - loss: 2.9913 - val_loss: 3.6581\n",
      "Epoch 21/50\n",
      "297/297 [==============================] - 175s 590ms/step - loss: 2.9485 - val_loss: 3.6439\n",
      "Epoch 22/50\n",
      "297/297 [==============================] - 175s 591ms/step - loss: 2.9095 - val_loss: 3.6594\n",
      "Epoch 23/50\n",
      "297/297 [==============================] - 176s 592ms/step - loss: 2.8712 - val_loss: 3.6359\n",
      "Epoch 24/50\n",
      "297/297 [==============================] - 175s 590ms/step - loss: 2.8351 - val_loss: 3.6330\n",
      "Epoch 25/50\n",
      "297/297 [==============================] - 175s 591ms/step - loss: 2.8006 - val_loss: 3.6304\n",
      "Epoch 26/50\n",
      "297/297 [==============================] - 176s 593ms/step - loss: 2.7701 - val_loss: 3.6239\n",
      "Epoch 27/50\n",
      "297/297 [==============================] - 175s 589ms/step - loss: 2.7398 - val_loss: 3.6357\n",
      "Epoch 28/50\n",
      "297/297 [==============================] - 175s 588ms/step - loss: 2.7141 - val_loss: 3.6191\n",
      "Epoch 29/50\n",
      "297/297 [==============================] - 173s 583ms/step - loss: 2.6884 - val_loss: 3.6359\n",
      "Epoch 30/50\n",
      "297/297 [==============================] - 174s 587ms/step - loss: 2.6607 - val_loss: 3.6337\n",
      "Epoch 00030: early stopping\n"
     ]
    }
   ],
   "source": [
    "model.compile(optimizer='rmsprop', loss='sparse_categorical_crossentropy')\n",
    "es = EarlyStopping(monitor='val_loss', patience=2, verbose=1)\n",
    "history = model.fit(x=[encoder_input_train, decoder_input_train], y=decoder_target_train, \\\n",
    "          validation_data=([encoder_input_test, decoder_input_test], decoder_target_test), \\\n",
    "          batch_size=256, callbacks=[es], epochs=50)"
   ]
  },
  {
   "cell_type": "code",
   "execution_count": 46,
   "id": "205c0476",
   "metadata": {},
   "outputs": [
    {
     "data": {
      "image/png": "[encoded data removed]",
      "text/plain": [
       "<Figure size 432x288 with 1 Axes>"
      ]
     },
     "metadata": {
      "needs_background": "light"
     },
     "output_type": "display_data"
    }
   ],
   "source": [
    "plt.plot(history.history['loss'], label='train')\n",
    "plt.plot(history.history['val_loss'], label='test')\n",
    "plt.legend()\n",
    "plt.show()"
   ]
  },
  {
   "cell_type": "markdown",
   "id": "c35407c3",
   "metadata": {},
   "source": [
    "### (5) 인퍼런스 모델\n",
    "- 테스트 단계에서는 정수 인덱스 행렬로 존재하던 텍스트 데이터를 실제 데이터로 복원해야 하므로, 필요한 3개의 사전을 아래와 같이 미리 준비"
   ]
  },
  {
   "cell_type": "code",
   "execution_count": 47,
   "id": "4cec7ef7",
   "metadata": {},
   "outputs": [],
   "source": [
    "src_index_to_word = src_tokenizer.index_word # 원문 단어 집합에서 정수 -> 단어를 얻음\n",
    "tar_word_to_index = tar_tokenizer.word_index # 요약 단어 집합에서 단어 -> 정수를 얻음\n",
    "tar_index_to_word = tar_tokenizer.index_word # 요약 단어 집합에서 정수 -> 단어를 얻음"
   ]
  },
  {
   "cell_type": "code",
   "execution_count": 48,
   "id": "ee7db0fe",
   "metadata": {},
   "outputs": [],
   "source": [
    "# 인코더 설계\n",
    "encoder_model = Model(inputs=encoder_inputs, outputs=[encoder_outputs, state_h, state_c])\n",
    "\n",
    "# 이전 시점의 상태들을 저장하는 텐서\n",
    "decoder_state_input_h = Input(shape=(hidden_size,))\n",
    "decoder_state_input_c = Input(shape=(hidden_size,))\n",
    "\n",
    "dec_emb2 = dec_emb_layer(decoder_inputs)\n",
    "\n",
    "# 문장의 다음 단어를 예측하기 위해서 초기 상태(initial_state)를 이전 시점의 상태로 사용. 이는 뒤의 함수 decode_sequence()에 구현\n",
    "# 훈련 과정에서와 달리 LSTM의 리턴하는 은닉 상태와 셀 상태인 state_h와 state_c를 버리지 않음.\n",
    "decoder_outputs2, state_h2, state_c2 = decoder_lstm(dec_emb2, initial_state=[decoder_state_input_h, decoder_state_input_c])\n",
    "\n",
    "# 어텐션 함수\n",
    "decoder_hidden_state_input = Input(shape=(text_max_len, hidden_size))\n",
    "attn_out_inf = attn_layer([decoder_outputs2, decoder_hidden_state_input])\n",
    "decoder_inf_concat = Concatenate(axis=-1, name='concat')([decoder_outputs2, attn_out_inf])\n",
    "\n",
    "# 디코더의 출력층\n",
    "decoder_outputs2 = decoder_softmax_layer(decoder_inf_concat) \n",
    "\n",
    "# 최종 디코더 모델\n",
    "decoder_model = Model(\n",
    "    [decoder_inputs] + [decoder_hidden_state_input,decoder_state_input_h, decoder_state_input_c],\n",
    "    [decoder_outputs2] + [state_h2, state_c2])"
   ]
  },
  {
   "cell_type": "code",
   "execution_count": 49,
   "id": "cc5ffcb8",
   "metadata": {},
   "outputs": [],
   "source": [
    "def decode_sequence(input_seq):\n",
    "    # 입력으로부터 인코더의 상태를 얻음\n",
    "    e_out, e_h, e_c = encoder_model.predict(input_seq)\n",
    "\n",
    "     # <SOS>에 해당하는 토큰 생성\n",
    "    target_seq = np.zeros((1,1))\n",
    "    target_seq[0, 0] = tar_word_to_index['sostoken']\n",
    "\n",
    "    stop_condition = False\n",
    "    decoded_sentence = ''\n",
    "    while not stop_condition: # stop_condition이 True가 될 때까지 루프 반복\n",
    "\n",
    "        output_tokens, h, c = decoder_model.predict([target_seq] + [e_out, e_h, e_c])\n",
    "        sampled_token_index = np.argmax(output_tokens[0, -1, :])\n",
    "        sampled_token = tar_index_to_word[sampled_token_index]\n",
    "\n",
    "        if (sampled_token!='eostoken'):\n",
    "            decoded_sentence += ' '+sampled_token\n",
    "\n",
    "        #  <eos>에 도달하거나 최대 길이를 넘으면 중단.\n",
    "        if (sampled_token == 'eostoken'  or len(decoded_sentence.split()) >= (summary_max_len-1)):\n",
    "            stop_condition = True\n",
    "\n",
    "        # 길이가 1인 타겟 시퀀스를 업데이트\n",
    "        target_seq = np.zeros((1,1))\n",
    "        target_seq[0, 0] = sampled_token_index\n",
    "\n",
    "        # 상태를 업데이트 합니다.\n",
    "        e_h, e_c = h, c\n",
    "\n",
    "    return decoded_sentence"
   ]
  },
  {
   "cell_type": "markdown",
   "id": "4d2b76af",
   "metadata": {},
   "source": [
    "---"
   ]
  },
  {
   "cell_type": "markdown",
   "id": "118d8e93",
   "metadata": {},
   "source": [
    "## Step4. 실제 결과와 요약문 비교하기 \n",
    "- 테스트 단계에서는 정수 시퀀스를 텍스트 시퀀스로 변환하여 결과를 확인하는 것이 편하다."
   ]
  },
  {
   "cell_type": "code",
   "execution_count": 50,
   "id": "1517e28b",
   "metadata": {},
   "outputs": [],
   "source": [
    "# 원문의 정수 시퀀스를 텍스트 시퀀스로 변환\n",
    "def seq2text(input_seq):\n",
    "    temp=''\n",
    "    for i in input_seq:\n",
    "        if (i!=0):\n",
    "            temp = temp + src_index_to_word[i]+' '\n",
    "    return temp\n",
    "\n",
    "# 요약문의 정수 시퀀스를 텍스트 시퀀스로 변환\n",
    "def seq2summary(input_seq):\n",
    "    temp=''\n",
    "    for i in input_seq:\n",
    "        if ((i!=0 and i!=tar_word_to_index['sostoken']) and i!=tar_word_to_index['eostoken']):\n",
    "            temp = temp + tar_index_to_word[i] + ' '\n",
    "    return temp"
   ]
  },
  {
   "cell_type": "code",
   "execution_count": 51,
   "id": "c3ec3816",
   "metadata": {},
   "outputs": [
    {
     "name": "stdout",
     "output_type": "stream",
     "text": [
      "원문 : actress kangana ranaut turned showstopper designer duo last day lakm fashion week mumbai kangana walked ramp embroidered gown designer duo spring summer collection called year old actress \n",
      "실제 요약 : kangana turns showstopper for at \n",
      "예측 요약 :  kangana ranaut walks out of queen at his career\n",
      "\n",
      "\n",
      "원문 : cheteshwar pujara become third indian ninth overall batsman history bat five days test achieving feat first test sri lanka eden gardens pujara former indian cricketers ml ravi shastri achieved feat eden gardens \n",
      "실제 요약 : pujara third indian to bat on all days of test \n",
      "예측 요약 :  who is the first indian to be in odis\n",
      "\n",
      "\n",
      "원문 : become first indian tribal language get wikipedia edition script wikipedia went live earlier month according report wikipedia india bangladesh nepal generated content page officials said written script spoken million people india \n",
      "실제 요약 : st indian tribal language to get own edition \n",
      "예측 요약 :  becomes st indian to launch satellite\n",
      "\n",
      "\n",
      "원문 : supreme court banned sale serving liquor places within metres national state highways haryana government issued fresh instructions according memo sent deputy excise commissioners across state distance measured highway entrance bar hotel main entrance \n",
      "실제 요약 : haryana govt brings new rule after highway liquor ban \n",
      "예측 요약 :  sc stays liquor sale to liquor in new york\n",
      "\n",
      "\n",
      "원문 : speaking demise veteran actor shashi kapoor yesteryear actress asha parekh said last heroes gone lovely thoughtful kind person shashi kapoor thorough gentleman added asha parekh said come across caring hero \n",
      "실제 요약 : shashi last of my heroes now they are all gone asha parekh \n",
      "예측 요약 :  shashi kapoor has never shashi shashi kapoor\n",
      "\n",
      "\n",
      "원문 : tmc west bengal put posters slamming bjp led centre read ram ka naam na karo taken bollywood song sung kishore kumar tmc said beginning innovative posters come soon \n",
      "실제 요약 : tmc posters slam bjp saying ram ka na \n",
      "예측 요약 :  bjp mp vhp demands vande mataram in wb\n",
      "\n",
      "\n",
      "원문 : bjp ally maharashtra shiv sena slammed government death children government hospital uttar pradesh gorakhpur party wrote editorial mouthpiece incident mass murder also said achhe din come poor \n",
      "실제 요약 : gorakhpur tragedy mass murder says bjp ally shiv sena \n",
      "예측 요약 :  shiv sena slams bjp for kids deaths in gorakhpur\n",
      "\n",
      "\n",
      "원문 : mouni roy said salman khan played role helping get bollywood debut film gold unbelievable acting years bengali cannot land bengali character role hurtful added look like using salman sir name publicity mouni said \n",
      "실제 요약 : salman played no role in getting me my wood debut mouni \n",
      "예측 요약 :  salman khan is the most superstar in years salman\n",
      "\n",
      "\n",
      "원문 : us based movie ticketing service ceo mitch recent event revealed app tracks user location also follows watch drive home movies watch go afterwards said know added \n",
      "실제 요약 : movie booking app tracks location before after movies ceo \n",
      "예측 요약 :  us startup makes users to beat users\n",
      "\n",
      "\n",
      "원문 : us envoy north korea joseph plans retire friday state department said president donald trump rejected talks resolve north korean crisis unless conditions met decision comes time isolated nation shown willingness talk us period diplomatic contacts south korea \n",
      "실제 요약 : us korea envoy to resign as talks rejected \n",
      "예측 요약 :  trump talks with korea will not be included in us iran\n",
      "\n",
      "\n",
      "원문 : us president donald trump said partial government shutdown last congress approves funds build wall along border mexico barrier people pouring country drugs added trump administration sought billion congress construction border wall \n",
      "실제 요약 : us govt shutdown to last until mexico border wall funded trump \n",
      "예측 요약 :  trump to build world largest border wall in kashmir\n",
      "\n",
      "\n",
      "원문 : northern warriors registered highest ever total league scoring punjabi legends sharjah friday night innings witnessed sixes opener nicholas slamming runs balls including two fours sixes register highest individual score warriors went win match runs \n",
      "실제 요약 : team smashes runs in overs including sixes to set record \n",
      "예측 요약 :  sixes once scored in balls in balls in\n",
      "\n",
      "\n",
      "원문 : hurricane intense tropical cyclone ever recorded western hemisphere beam antimatter counterpart electrons towards earth us based study confirmed flying aircraft storm wind speeds kmph researchers made first ever detection bright flash gamma rays rays coming towards earth \n",
      "실제 요약 : hurricane lightning once at the earth \n",
      "예측 요약 :  what are the features of the most polluted volcano\n",
      "\n",
      "\n",
      "원문 : talking ms dhoni slammed three consecutive fifties odi series australia man series australia head coach justin langer said dhoni years old fitness elite superstar game australians aspiring literally time great langer added \n",
      "실제 요약 : ms dhoni is superstar and an all time great justin langer \n",
      "예측 요약 :  dhoni is the best of indian cricket team captain\n",
      "\n",
      "\n",
      "원문 : hearings spanning seven months supreme court wednesday dismissed plea seeking reopen mahatma gandhi assassination case probe petitioner sought detailed investigation probe new fact second person fired fourth bullet creating suspicion minds people court said \n",
      "실제 요약 : sc dismisses pil to reopen mahatma gandhi assassination case \n",
      "예측 요약 :  sc orders custody of riots in riots case\n",
      "\n",
      "\n",
      "원문 : indian cricketer gautam gambhir named government nominee delhi district cricket association managing committee friday honour fields kotla time adjust corridors help restore glory days honoured government nominee managing committee thanks ra humbled gambhir tweeted announcement \n",
      "실제 요약 : gambhir named government nominee in managing committee \n",
      "예측 요약 :  gambhir to be held for ipl in delhi\n",
      "\n",
      "\n",
      "원문 : afghanistan block instant messaging services whatsapp telegram government said comes afghanistan acting minister telecommunications said last week regulator ordered block services technical problems order backlash people describing blockage assault right free speech \n",
      "실제 요약 : afghanistan to not block whatsapp telegram \n",
      "예측 요약 :  afghanistan bans users from whatsapp in afghanistan\n",
      "\n",
      "\n",
      "원문 : bengaluru based offloaded indigo flight lucknow airport complained mosquitoes dr saurabh rai claimed threatened called terrorist air hostess said mosquitoes india indigo said passenger unruly tried instigating passengers damage aircraft using words like hijack \n",
      "실제 요약 : indigo doctor after he complains about mosquitoes \n",
      "예측 요약 :  indigo passenger plane makes bag alert on flight\n",
      "\n",
      "\n",
      "원문 : claiming credit release basketball players arrested china us president donald trump tweeted left jail tweet came father one players questioned trump role son trump claimed would personally asked chinese president xi jinping intervene case \n",
      "실제 요약 : should have left us players in chinese jail president trump \n",
      "예측 요약 :  trump daughter of chinese prez son\n",
      "\n",
      "\n",
      "원문 : rapper music producer jay revealed cried relief mother carter told lesbian happy free said jay said known mother lesbian discussed first time eight months ago \n",
      "실제 요약 : cried was happy when mother told me she is lesbian jay \n",
      "예측 요약 :  have been been mother of my life mother soni\n",
      "\n",
      "\n",
      "원문 : least people killed landslides heavy monsoon rains bangladesh according reports many victims tribal communities remote hill district close indian border adding death toll could rise officials said rescue operations hampered bad weather \n",
      "실제 요약 : killed as heavy rains cause landslides in bangladesh \n",
      "예측 요약 :  dead in heavy rains in uttar pradesh floods\n",
      "\n",
      "\n",
      "원문 : us government wednesday banned russian cybersecurity firm kaspersky lab software fear russian influence firm us department homeland security said department concerned ties certain kaspersky officials russian intelligence government agencies directed agency develop plans discontinue software \n",
      "실제 요약 : us govt bans software on russian intelligence fear \n",
      "예측 요약 :  us gives us security to spy in russia\n",
      "\n",
      "\n",
      "원문 : karnataka chief minister siddaramaiah tuesday said least bothered contest upcoming state assembly elections adding faith voters chief minister said centre misusing power trying disturb leaders polls held may \n",
      "실제 요약 : least who will contest against me siddaramaiah \n",
      "예측 요약 :  karnataka cm siddaramaiah announces karnataka elections\n",
      "\n",
      "\n",
      "원문 : several bengaluru restaurants charging gst even tax rate revised starting november restaurants said waiting receive official communication rates others said got notification late updating systems however bengaluru authorities said official notification already issued \n",
      "실제 요약 : luru restaurants still charging gst post tax \n",
      "예측 요약 :  gst collection in bengaluru to get gst on gst\n",
      "\n",
      "\n",
      "원문 : pakistan born south african spinner imran tahir posted tweet tamil ahead indian premier league opener saturday year old spinner represents chennai super kings league shared picture jersey wrote time start vehicle finish job quick whistle \n",
      "실제 요약 : pak born sa cricketer tweets in tamil ahead of ipl \n",
      "예측 요약 :  pak pacer amir khan posts video of ipl\n",
      "\n",
      "\n",
      "원문 : hearing petition seeking deletion scenes netflix series sacred games allegedly defamed late pm rajiv gandhi delhi high court monday observed actors cannot held liable dialogues petition alleged series used derogatory language gandhi falsely depicted historical incidents like bofors scam shah bano case \n",
      "실제 요약 : actors not liable for dialogues hc on sacred games row \n",
      "예측 요약 :  media media media petition to be allowed to speak on babri\n",
      "\n",
      "\n",
      "원문 : singer songwriter taylor swift friday released new single look made first one upcoming album reputation due november song swift first since album co written old taylor cannot come phone dead says song \n",
      "실제 요약 : taylor swift new song look what you made me do released \n",
      "예측 요약 :  taylor swift releases song from taylor swift for st time\n",
      "\n",
      "\n",
      "원문 : digital payments startup paytm commerce arm paytm mall reportedly talks acquire majority stake online grocery provider bigbasket reports claimed bigbasket wants startup valued premium also seeks seat paytm mall board also reported paytm looking online grocery platform since last year \n",
      "실제 요약 : paytm in talks to buy majority stake in bigbasket report \n",
      "예측 요약 :  paytm mall to buy stake in paytm mall report\n",
      "\n",
      "\n",
      "원문 : year old man died falling bridge chennai airport monday police said man pronounced dead spot suddenly slipped standing bridge police added deceased hailed vijayawada andhra pradesh reportedly working bengaluru company \n",
      "실제 요약 : man dies after falling off bridge at chennai airport \n",
      "예측 요약 :  man dies after falling from fire while trying to save in\n",
      "\n",
      "\n",
      "원문 : indian railways employee chhattisgarh wrote letter station master seeking leave week eat chicken month begins viral letter employee claims chicken month make weak work needs time eat chicken gain energy resume working \n",
      "실제 요약 : railway employee asks for one week leave to eat chicken \n",
      "예측 요약 :  railways to eat jewellery to eat food on tracks\n",
      "\n",
      "\n",
      "원문 : last northern white rhino kenya joined tinder raise money million fertility treatment rhino sudan tinder profile says mean forward fate species literally depends perform well pressure swipe right sudan tinder profile directs users donation page \n",
      "실제 요약 : kenya last northern white rhino joins tinder \n",
      "예측 요약 :  tinder offers million to offer million\n",
      "\n",
      "\n",
      "원문 : pm narendra modi australian counterpart malcolm turnbull monday inaugurated world advanced research centre joint venture teri university australia teri centre established gurugram aims support innovative ideas existing problems indian agriculture among sectors \n",
      "실제 요약 : pm modi inaugurates world most advanced centre \n",
      "예측 요약 :  pm modi to set world largest university\n",
      "\n",
      "\n",
      "원문 : occasion rakshabandhan pm narendra modi followed women including sports media personalities twitter account tennis player sania mirza former sprinter pt usha badminton player ashwini among women followed also followed journalists singh joshi actress mitra among others \n",
      "실제 요약 : pm modi follows women on twitter on rakshabandhan \n",
      "예측 요약 :  pm modi meets sehwag jersey at world para games\n",
      "\n",
      "\n",
      "원문 : year old man named kumar claims met late prime minister atal bihari vajpayee travelled km overnight uttarakhand see friday kumar also picture vajpayee said met visited uttarkashi en route also brought along added \n",
      "실제 요약 : man who met late pm vajpayee in travels km to see him \n",
      "예측 요약 :  yr old boy who raped his friends in maharashtra\n",
      "\n",
      "\n",
      "원문 : college professor haryana sonipat allegedly shot dead unidentified student tuesday police said according police officer professor sitting room college masked student walked fired four shots fled motive behind killing yet ascertained \n",
      "실제 요약 : professor shot dead by student in haryana college \n",
      "예측 요약 :  iit kanpur booked for sexually harassing student\n",
      "\n",
      "\n",
      "원문 : us television channel cbs paid actress settlement million claimed michael lead actor drama series bull sexually harassed featured series written show soon accusing inappropriate behaviour action taken per reports \n",
      "실제 요약 : us channel pays actress mn to settle sexual harassment claims \n",
      "예측 요약 :  us actress accuses of sexual harassment\n",
      "\n",
      "\n",
      "원문 : indian railways save crore paper sheets equivalent lakh trees conducts world largest online recruitment drive crore people sitting nearly posts earlier held exams manually using estimated four size sheets per applicant incidents leaks railways conducting exam online centres \n",
      "실제 요약 : railways will save trees with largest online recruitment \n",
      "예측 요약 :  crore cr worth lakh people from railways\n",
      "\n",
      "\n",
      "원문 : maharashtra police searching man named rajeev kumar sinha posed enforcement directorate officer cheated man tune lakh sinha met victim last month morning walk told vijay mallya seized cars auction took lakh victim promising car \n",
      "실제 요약 : man promises to sell mallya seized cars cheats another of \n",
      "예측 요약 :  mumbai man poses as girlfriend dupes man of his property\n",
      "\n",
      "\n",
      "원문 : kings xi punjab pacer ishant sharma ended ipl campaign without single wicket punjab exiting tournament following loss rising pune supergiant sunday ishant listed base price crore unsold auction february picked later played six matches ipl season \n",
      "실제 요약 : ishant sharma ends ipl without taking single wicket \n",
      "예측 요약 :  kings xi punjab kings xi punjab royals to auction\n",
      "\n",
      "\n",
      "원문 : australia steve smith walked given lbw caribbean premier league debut barbados guyana amazon warriors year old hit pad imran tahir marched field without waiting umpire verdict getting smith currently serving one year ban international australian domestic cricket \n",
      "실제 요약 : steve smith walks before being given out lbw on debut \n",
      "예측 요약 :  steve smith visits steve smith for st time in ipl\n",
      "\n",
      "\n",
      "원문 : billionaire investor world fourth richest person warren buffett made annual summer donation gifting berkshire stock worth billion charity sum buffett biggest ever summer donation topping last year billion gift record donation due rising value berkshire share price past year \n",
      "실제 요약 : billionaire buffett breaks own record donates crore \n",
      "예측 요약 :  world richest man sold for crore in day\n",
      "\n",
      "\n",
      "원문 : nasa completed tests four engines would power space launch system world powerful rocket largest core stage ever built including four rs engines previously powered space shuttle missions nasa completed construction space stage core stage structures solid rocket booster segments far \n",
      "실제 요약 : nasa finishes testing engines for most powerful rocket ever \n",
      "예측 요약 :  nasa to launch first ever flight to iss on mars\n",
      "\n",
      "\n",
      "원문 : actress freida pinto marrying boyfriend adventure photographer next year per reports freida contemplating marriage serious even proposed planning small intimate wedding sometime next year stated reports freida co actor best friend aaron paul reportedly introduced two \n",
      "실제 요약 : freida to marry boyfriend next year reports \n",
      "예측 요약 :  boyfriend to marry rumoured boyfriend reports\n",
      "\n",
      "\n",
      "원문 : malaysian government considering ban internet daily teenagers years age deputy health minister lee said monday move aims reducing video game social media addiction among teens gaming providers prevent users playing one two hours added \n",
      "실제 요약 : malaysia plans internet ban from am to am for teens under \n",
      "예측 요약 :  german court bans banning internet from public\n",
      "\n",
      "\n",
      "원문 : cover edition sports fifa video game series features juventus newly arrived portuguese forward cristiano ronaldo paris saint germain brazilian forward neymar jr ronaldo featured cover edition video game former club real madrid colours game edition also officially feature uefa champions league \n",
      "실제 요약 : ronaldo neymar on the cover of sports fifa \n",
      "예측 요약 :  neymar to neymar neymar neymar to neymar on neymar\n",
      "\n",
      "\n",
      "원문 : gst network initiated process mining data analyse taxpayer behaviour detect tax evasion according reports gstn soon proposals companies needs tools manpower data analytics ceo prakash kumar said able slice data whichever way want added \n",
      "실제 요약 : gst network plans data scan to detect tax evasion \n",
      "예측 요약 :  sbi to issue of the first time of\n",
      "\n",
      "\n",
      "원문 : refuting patidar leader allegations bjp offered crore joining party gujarat bjp spokesperson bharat pandya termed drama staged congress voluntarily came us join bjp took turn within hours proves everything pre planned pandya said \n",
      "실제 요약 : patidar leader bribe allegation is cong conspiracy bjp \n",
      "예측 요약 :  bjp leader quits bjp after being denied ticket ticket\n",
      "\n",
      "\n",
      "원문 : rajkummar rao responding reports cameo kangana ranaut simran said simran need raj beta tujhe raj ki nahi hai added imitating dialogue dilwale dulhania le jayenge kangana rajkummar starred together queen kangana character goes alone honeymoon rajkummar character \n",
      "실제 요약 : this simran does not need raj rajkummar on simran cameo \n",
      "예측 요약 :  kangana rao denies rumours of kangana basu film\n",
      "\n",
      "\n",
      "원문 : former england captain wayne rooney farewell match ended england beating usa team international friendly year old england record goalscorer returning squad mark th appearance england notably members sides formed guard honour year old attacker start match \n",
      "실제 요약 : rooney farewell match for england ends with win vs usa \n",
      "예측 요약 :  australia pacer takes to in cricket\n",
      "\n",
      "\n",
      "원문 : indian batsman kl rahul lost shoe taking single second day fifth test england oval saturday rahul completed run without shoe helped english bowler ben stokes picked shoe handing back rahul \n",
      "실제 요약 : rahul loses shoe mid run stokes helps him put it back on \n",
      "예측 요약 :  rahul dravid plays runs in seconds\n",
      "\n",
      "\n"
     ]
    }
   ],
   "source": [
    "for i in range(50, 100):\n",
    "    print(\"원문 :\", seq2text(encoder_input_test[i]))\n",
    "    print(\"실제 요약 :\", seq2summary(decoder_input_test[i]))\n",
    "    print(\"예측 요약 :\", decode_sequence(encoder_input_test[i].reshape(1, text_max_len)))\n",
    "    print(\"\\n\")"
   ]
  },
  {
   "cell_type": "markdown",
   "id": "65a696c5",
   "metadata": {},
   "source": [
    "---"
   ]
  },
  {
   "cell_type": "markdown",
   "id": "ee85af36",
   "metadata": {},
   "source": [
    "## Step5. Summa을 이용해서 추출적 요약해보기"
   ]
  },
  {
   "cell_type": "code",
   "execution_count": 52,
   "id": "6da5cc83",
   "metadata": {},
   "outputs": [],
   "source": [
    "import requests\n",
    "from summa.summarizer import summarize"
   ]
  },
  {
   "cell_type": "markdown",
   "id": "1c4e0c2a",
   "metadata": {},
   "source": [
    "### summarize(text, ratio, words, split)\n",
    "- text(str) : 요약할 텍스트\n",
    "- ratio(float, optional) : 요약문에서 원본에서 선택되는 문장 비율. 0~1 사이값\n",
    "- words(int or None, optional) : 출력에 포함될 단어 수\n",
    "- split(bool, optional) : True면 문장 list/ False는 조인된 문자열을 반환\n",
    "- 문장 토큰화를 별도로 하지 않더라도 내부적으로 문장 토큰화를 수행한다. 그렇기 때문에 문장 구분이 되어있지 않은 원문을 바로입력으로 넣을 수 있다"
   ]
  },
  {
   "cell_type": "code",
   "execution_count": 53,
   "id": "30d11402",
   "metadata": {},
   "outputs": [],
   "source": [
    "summa_data = pd.read_csv('news_summary_more.csv', encoding='iso-8859-1')"
   ]
  },
  {
   "cell_type": "code",
   "execution_count": 54,
   "id": "fdf1d00b",
   "metadata": {},
   "outputs": [
    {
     "name": "stdout",
     "output_type": "stream",
     "text": [
      "원문     : Saurav Kant, an alumnus of upGrad and IIIT-B's PG Program in Machine learning and Artificial Intelligence, was a Sr Systems Engineer at Infosys with almost 5 years of work experience. The program and upGrad's 360-degree career support helped him transition to a Data Scientist at Tech Mahindra with 90% salary hike. upGrad's Online Power Learning has powered 3 lakh+ careers.\n",
      "실제 요약 : upGrad learner switches to career in ML & Al with 90% salary hike\n",
      "예측 요약 : upGrad's Online Power Learning has powered 3 lakh+ careers.\n",
      "\n",
      "\n",
      "원문     : Kunal Shah's credit card bill payment platform, CRED, gave users a chance to win free food from Swiggy for one year. Pranav Kaushik, a Delhi techie, bagged this reward after spending 2000 CRED coins. Users get one CRED coin per rupee of bill paid, which can be used to avail rewards from brands like Ixigo, BookMyShow, UberEats, Cult.Fit and more.\n",
      "실제 요약 : Delhi techie wins free food from Swiggy for one year on CRED\n",
      "예측 요약 : Users get one CRED coin per rupee of bill paid, which can be used to avail rewards from brands like Ixigo, BookMyShow, UberEats, Cult.Fit and more.\n",
      "\n",
      "\n",
      "원문     : New Zealand defeated India by 8 wickets in the fourth ODI at Hamilton on Thursday to win their first match of the five-match ODI series. India lost an international match under Rohit Sharma's captaincy after 12 consecutive victories dating back to March 2018. The match witnessed India getting all out for 92, their seventh lowest total in ODI cricket history.\n",
      "실제 요약 : New Zealand end Rohit Sharma-led India's 12-match winning streak\n",
      "예측 요약 : The match witnessed India getting all out for 92, their seventh lowest total in ODI cricket history.\n",
      "\n",
      "\n",
      "원문     : With Aegon Life iTerm Insurance plan, customers can enjoy tax benefits on your premiums paid and save up to Ã¢ÂÂ¹46,800^ on taxes. The plan provides life cover up to the age of 100 years. Also, customers have options to insure against Critical Illnesses, Disability and Accidental Death Benefit Rider with a life cover up to the age of 80 years.\n",
      "실제 요약 : Aegon life iTerm insurance plan helps customers save tax\n",
      "예측 요약 : Also, customers have options to insure against Critical Illnesses, Disability and Accidental Death Benefit Rider with a life cover up to the age of 80 years.\n",
      "\n",
      "\n",
      "원문     : Speaking about the sexual harassment allegations against Rajkumar Hirani, Sonam Kapoor said, \"I've known Hirani for many years...What if it's not true, the [#MeToo] movement will get derailed.\" \"In the #MeToo movement, I always believe a woman. But in this case, we need to reserve our judgment,\" she added. Hirani has been accused by an assistant who worked in 'Sanju'.\n",
      "실제 요약 : Have known Hirani for yrs, what if MeToo claims are not true: Sonam\n",
      "예측 요약 : \n",
      "\n",
      "\n",
      "원문     : Pakistani singer Rahat Fateh Ali Khan has denied receiving any notice from the Enforcement Directorate over allegedly smuggling foreign currency out of India. \"It would have been better if the authorities would have served the notice first if any and then publicised this,\" reads a press release issued on behalf of Rahat. The statement further called the allegation \"bizarre\".\n",
      "실제 요약 : Rahat Fateh Ali Khan denies getting notice for smuggling currency\n",
      "예측 요약 : Pakistani singer Rahat Fateh Ali Khan has denied receiving any notice from the Enforcement Directorate over allegedly smuggling foreign currency out of India.\n",
      "\n",
      "\n",
      "원문     : India recorded their lowest ODI total in New Zealand after getting all out for 92 runs in 30.5 overs in the fourth ODI at Hamilton on Thursday. Seven of India's batsmen were dismissed for single-digit scores, while their number ten batsman Yuzvendra Chahal top-scored with 18*(37). India's previous lowest ODI total in New Zealand was 108.\n",
      "실제 요약 : India get all out for 92, their lowest ODI total in New Zealand\n",
      "예측 요약 : India's previous lowest ODI total in New Zealand was 108.\n",
      "\n",
      "\n",
      "원문     : Weeks after ex-CBI Director Alok Verma told the Department of Personnel and Training to consider him retired, the Home Ministry asked him to join work on the last day of his fixed tenure as Director on Thursday. The ministry directed him to immediately join as DG, Fire Services, the post he was transferred to after his removal as CBI chief.\n",
      "실제 요약 : Govt directs Alok Verma to join work 1 day before his retirement\n",
      "예측 요약 : \n",
      "\n",
      "\n",
      "원문     : Andhra Pradesh CM N Chandrababu Naidu has said, \"When I met then US President Bill Clinton, I addressed him as Mr Clinton, not as 'sir'. (PM Narendra) Modi is my junior in politics...I addressed him as sir 10 times.\" \"I did this...to satisfy his ego in the hope that he will do justice to the state,\" he added.\n",
      "실제 요약 : Called PM Modi 'sir' 10 times to satisfy his ego: Andhra CM\n",
      "예측 요약 : Andhra Pradesh CM N Chandrababu Naidu has said, \"When I met then US President Bill Clinton, I addressed him as Mr Clinton, not as 'sir'.\n",
      "\n",
      "\n",
      "원문     : Congress candidate Shafia Zubair won the Ramgarh Assembly seat in Rajasthan, by defeating BJP's Sukhwant Singh with a margin of 12,228 votes in the bypoll. With this victory, Congress has taken its total to 100 seats in the 200-member assembly. The election to the Ramgarh seat was delayed due to the death of sitting MLA and BSP candidate Laxman Singh.\n",
      "실제 요약 : Cong wins Ramgarh bypoll in Rajasthan, takes total to 100 seats\n",
      "예측 요약 : Congress candidate Shafia Zubair won the Ramgarh Assembly seat in Rajasthan, by defeating BJP's Sukhwant Singh with a margin of 12,228 votes in the bypoll.\n",
      "\n",
      "\n",
      "원문     : Two minor cousins in Uttar Pradesh's Gorakhpur were allegedly repeatedly burnt with tongs and forced to eat human excreta by their family for being friends with two boys from the same school. The cousins revealed their ordeal to the police and Child Welfare Committee after being brought back to Gorakhpur from Nepal, where they had fled to escape the torture.\n",
      "실제 요약 : UP cousins fed human excreta for friendship with boys\n",
      "예측 요약 : \n",
      "\n",
      "\n",
      "원문     : Isha Ghosh, an 81-year-old member of Bharat Scouts and Guides (BSG), has been imparting physical and mental training to schoolchildren in Jharkhand for several decades. Chaibasa-based Ghosh reportedly walks seven kilometres daily and spends eight hours conducting physical training, apart from climbing and yoga sessions. She says, \"One should do something for society till one's last breath.\"\n",
      "실제 요약 : 81-yr-old woman conducts physical training in J'khand schools\n",
      "예측 요약 : Isha Ghosh, an 81-year-old member of Bharat Scouts and Guides (BSG), has been imparting physical and mental training to schoolchildren in Jharkhand for several decades.\n",
      "\n",
      "\n",
      "원문     : Urging saints and seers at the Kumbh Mela to quit smoking, Yoga guru Ramdev said, \"We follow Ram and Krishna who never smoked in their life then why should we?\" Making them take a pledge to quit tobacco, he collected chillum (clay pipe) from several sadhus. He said he will deposit the chillums for display at a museum he'll build.\n",
      "실제 요약 : Ram, Krishna didn't smoke, why should we: Ramdev to sadhus at Kumbh\n",
      "예측 요약 : \n",
      "\n",
      "\n",
      "원문     : Former stripper and regional sales director of a pharmaceutical company, Sunrise Lee, gave a doctor a lap dance in a nightclub to persuade him to prescribe an addictive fentanyl spray in 2012, the company's sales representative told a US court. She said she saw Lee \"sitting on [doctor's] lap, kind of bouncing around.\" Lee has been accused of bribing doctors.\n",
      "실제 요약 : Pharma exec gave doctor a lap dance to sell medicine in US: Witness\n",
      "예측 요약 : \n",
      "\n",
      "\n",
      "원문     : Reliance Industries' Chairman Mukesh Ambani's daughter Isha Ambani, who got married last month, said she only cried at her 'bidaai' because she felt peer pressure as everyone was crying, especially her parents. \"I was emotional too but everyone around me would cry all the time,\" she added. \"It was a very emotional affair for everyone in my family,\" said Isha.\n",
      "실제 요약 :  I only cried at my 'bidaai' as I felt peer pressure: Isha Ambani\n",
      "예측 요약 : \"It was a very emotional affair for everyone in my family,\" said Isha.\n",
      "\n",
      "\n",
      "원문     : Louis Vuitton owner LVMH, which makes high-end beverages like MoÃÂ«t & Chandon champagne and Hennessy cognac, said it's stockpiling four months' worth of wine and spirits in UK in preparation for Brexit. \"We're ready for worst case scenario if there are difficulties with deliveries,\" the French luxury giant said. The UK is scheduled to leave the EU on March 29.\n",
      "실제 요약 : Louis Vuitton owner to stockpile 4 months of wine, spirits in UK\n",
      "예측 요약 : \n",
      "\n",
      "\n",
      "원문     : Filmmaker Karan Johar and actress Tabu turned showstoppers for Gaurav Gupta on the opening night of LakmÃÂ© Fashion Week Summer/ Resort 2019. While Johar wore a red sequinned jacket with black pants, Tabu walked the ramp in a grey embellished gown. The fashion show, which began on January 29, will continue till February 3.\n",
      "실제 요약 : Karan Johar, Tabu turn showstoppers on opening night of LFW\n",
      "예측 요약 : Filmmaker Karan Johar and actress Tabu turned showstoppers for Gaurav Gupta on the opening night of LakmÃÂ© Fashion Week Summer/ Resort 2019.\n",
      "\n",
      "\n",
      "원문     : In a jibe at Congress President Rahul Gandhi, PM Narendra Modi on Wednesday said those on \"bail will have to go to jail.\" PM Modi added, \"He is out on bail and his associates too are facing charges...I know they will be convicted one day.\" The PM claimed he'd waged a war on corruption because he's from a common household. \n",
      "실제 요약 : Those on bail will go to jail: PM Modi takes jibe at Rahul\n",
      "예측 요약 : \n",
      "\n",
      "\n",
      "원문     : Days after he threatened to step down from his post if Congress MLAs continue \"crossing the line,\" Karnataka Chief Minister HD Kumaraswamy accused them of taking potshots and asked, \"How many more days can I tolerate such stuff?\" Kumaraswamy, who made the statements after a Congress MLA demanded that Siddaramaiah be made CM again, said, \"Power is ephemeral.\"\n",
      "실제 요약 : How long can I tolerate Congress leaders' potshots: K'taka CM\n",
      "예측 요약 : \n",
      "\n",
      "\n",
      "원문     : Union Minister Dharmendra Pradhan on Wednesday claimed the illegal mining mafia in Odisha operates under the control of CM Naveen Patnaik and state Congress chief Niranjan Patnaik. He added, \"The time has come for the people of Odisha to put a full stop to their activities...The time has come for us to ask for an explanation from this corrupt government.\"\n",
      "실제 요약 : Odisha CM Patnaik controls mining mafia: Union Minister\n",
      "예측 요약 : Union Minister Dharmendra Pradhan on Wednesday claimed the illegal mining mafia in Odisha operates under the control of CM Naveen Patnaik and state Congress chief Niranjan Patnaik.\n",
      "\n",
      "\n",
      "원문     : Claiming there is a dearth of ideas among opposition parties, Prime Minister Narendra Modi on Wednesday said, \"The opposition talks only about Modi the whole day, I suspect they even dream about me.\" PM Modi, who was addressing the New India Youth Conclave inÃ¢ÂÂ Surat, added that the opposition parties have only one agenda which is \"Modi\". \n",
      "실제 요약 : I think the opposition even dreams about me: PM Modi\n",
      "예측 요약 : \n",
      "\n",
      "\n",
      "원문     : The Indian Space Research Organisation on Wednesday unveiled Human Space Flight Centre in Bengaluru for its Ã¢ÂÂ¹10,000-crore manned space mission 'Gaganyaan' scheduled for 2021. ISRO said the centre will be responsible for development of engineering systems for crew survival in space and crew selection and training. It'll also pursue activities for sustained human space flight missions, ISRO added.\n",
      "실제 요약 : ISRO unveils Bengaluru centre for manned space mission \n",
      "예측 요약 : It'll also pursue activities for sustained human space flight missions, ISRO added.\n",
      "\n",
      "\n",
      "원문     : At least 12 people have been killed and 170 others have been injured in Saudi Arabia this week due to flooding from heavy rain. The emergency services rescued 271 people from the flooded areas, more than half of them in Tabuk. Heavy rains hit mainly western and northwestern parts of Saudi Arabia, near its border with Jordan.\n",
      "실제 요약 : 12 killed, 170 injured in Saudi Arabia floods\n",
      "예측 요약 : At least 12 people have been killed and 170 others have been injured in Saudi Arabia this week due to flooding from heavy rain.\n",
      "\n",
      "\n",
      "원문     : Reliance Industries' Chairman Mukesh Ambani's daughter Isha Ambani has featured on the cover of the February edition of Vogue India. She's dressed in a white shirt dress and black ruffled skirt by Australian designer Toni Maticevski, while accessorising her look with a Misho ring. In the cover story on her, Isha has spoken about her work and life after marriage.\n",
      " \n",
      "실제 요약 : Isha Ambani features on February cover of Vogue magazine\n",
      "예측 요약 : Reliance Industries' Chairman Mukesh Ambani's daughter Isha Ambani has featured on the cover of the February edition of Vogue India.\n",
      "\n",
      "\n",
      "원문     : Indian Oil Corporation on Wednesday said it's looking for an annual deal to buy US crude as it seeks to broaden oil purchasing options. This comes amid uncertainties over Iran imports. The US had in November granted a six-month waiver to India from sanctions against Iran and restricted the country's monthly intake of Iranian oil to 3,00,000 barrels per day.\n",
      "\n",
      "\n",
      "실제 요약 : Indian Oil looking for annual deal to buy crude from US\n",
      "예측 요약 : The US had in November granted a six-month waiver to India from sanctions against Iran and restricted the country's monthly intake of Iranian oil to 3,00,000 barrels per day.\n",
      "\n",
      "\n",
      "원문     : Former Windies fast bowler Curtly Ambrose dismissed seven Australian batsmen within a span of 32 balls giving away just one run, in a Test match on January 30, 1993. Ambrose's spell helped his team bowl out Australia for 119 in the first innings, after being 85 for 2 at one point. Ambrose ended with first-innings figures of 18-9-25-7.\n",
      "실제 요약 : Pacer once took 7 wickets for just 1 run in 32 balls in a Test\n",
      "예측 요약 : Ambrose ended with first-innings figures of 18-9-25-7.\n",
      "\n",
      "\n",
      "원문     : A London zoo is offering people to name a cockroach after their exes on Valentine's Day for ÃÂ£1.50 (nearly Ã¢ÂÂ¹140). \"For those that don't quite require revenge, there's another way to make you feel better about getting back at your ex,\" the zoo said in a statement. The names will appear on zoo's 'roach board' on February 14. \n",
      "실제 요약 : UK zoo offers people to name cockroach after their ex on Valentine's\n",
      "예측 요약 : The names will appear on zoo's 'roach board' on February 14.\n",
      "\n",
      "\n",
      "원문     : Stand-in captain Rohit Sharma has become the 14th Indian cricketer to play 200 ODIs, achieving the feat after taking the field against New Zealand in fourth ODI at Hamilton on Thursday. The 31-year-old had made his ODI debut on June 23, 2007, against Ireland in Belfast. Rohit scored 7,799 runs in his first 199 ODIs at an average of 48.14.\n",
      "실제 요약 : Rohit Sharma becomes 14th Indian cricketer to play 200 ODIs\n",
      "예측 요약 : Rohit scored 7,799 runs in his first 199 ODIs at an average of 48.14.\n",
      "\n",
      "\n",
      "원문     : Batsman Shubman Gill has become the 227th cricketer to represent India in ODI cricket, achieving the feat against New Zealand in the fourth ODI at Hamilton on Thursday. The 19-year-old received his maiden ODI cap from former captain MS Dhoni. Notably, Shubman was named Player of the Under-19 World Cup in New Zealand last year.\n",
      "실제 요약 : 19-year-old Shubman Gill becomes India's 227th ODI cricketer\n",
      "예측 요약 : Notably, Shubman was named Player of the Under-19 World Cup in New Zealand last year.\n",
      "\n",
      "\n",
      "원문     : Investigators searching for a lost plane carrying Argentine forward Emiliano Sala found two seat cushions on French coast that \"likely\" belonged to the aircraft. The investigators said they'll now launch an underwater seabed search for aircraft wreckage. The Cardiff City footballer was travelling from France's Nantes to Wales' Cardiff when his plane disappeared over English Channel on January 21.\n",
      "실제 요약 : 2 seat cushions from 'missing plane carrying footballer' found\n",
      "예측 요약 : Investigators searching for a lost plane carrying Argentine forward Emiliano Sala found two seat cushions on French coast that \"likely\" belonged to the aircraft.\n",
      "\n",
      "\n",
      "원문     : Italian third division football side Lucchese's head coach Giancarlo Favarin has been banned for five months for headbutting Alessandria's assistant coach Gaetano Mancino during a brawl following the teams' 2-2 draw on Sunday. Mancino was caught off-balance and knocked to the ground after the headbutt. Earlier in the match, Favarin had told his own player to break an opponent's legs.\n",
      "실제 요약 : Italian coach knocks rival down with headbutt, banned for 5 months\n",
      "예측 요약 : \n",
      "\n",
      "\n",
      "원문     : Cyclists taking part in National Track Cycling Championship in Jaipur opted to sleep on the floor inside the stadium instead of hotels over expensive cycles. The organisers had booked hotels but they didn't have the provision for cyclists to keep their bikes inside. A national gold medallist said their cycles cost between Ã¢ÂÂ¹5-9 lakh and once damaged, they become non-repairable. \n",
      "실제 요약 : Cyclists sleep on stadium floor instead of hotel over costly cycles\n",
      "예측 요약 : Cyclists taking part in National Track Cycling Championship in Jaipur opted to sleep on the floor inside the stadium instead of hotels over expensive cycles.\n",
      "\n",
      "\n",
      "원문     : Silvia Grecco, a 56-year-old Brazilian mother narrates her local football team Palmeiras' matches live to her 12-year-old blind and autistic son Nickollas from the stands. \"I describe details: this player is wearing short sleeves...colour of...football boots, hair colour...Everything I see and feel, I tell him, even when I need to curse the referee!\" Grecco said after a recent match.\n",
      "실제 요약 : Brazilian mother narrates football matches to blind son from stands\n",
      "예측 요약 : Silvia Grecco, a 56-year-old Brazilian mother narrates her local football team Palmeiras' matches live to her 12-year-old blind and autistic son Nickollas from the stands.\n",
      "\n",
      "\n",
      "원문     : A TechCrunch report has claimed that IndiaÃ¢ÂÂs largest bank SBI secured a passwordless server \"overnight\" on being alerted it allowed anyone to access phone numbers, bank balances, and transactions of millions of its customers. The Mumbai-based server was containing two months of data from SBI Quick, an SMS and call-based system used to request basic information about accounts, TechCrunch revealed.\n",
      "실제 요약 : SBI left account data of millions of users unprotected: Report\n",
      "예측 요약 : \n",
      "\n",
      "\n",
      "원문     : Rahul Gandhi has replied to Goa CM Manohar Parrikar's letter, which accused the Congress President of using his \"visit to an ailing man for political gains\". \"He's under immense pressure from the PM after our meeting and needs to demonstrate his loyalty by attacking me,\" Gandhi wrote in his letter. Parrikar had clarified he didn't discuss Rafale deal with Rahul.\n",
      "실제 요약 : CM Parrikar under pressure from PM after our Goa meet: Rahul\n",
      "예측 요약 : Rahul Gandhi has replied to Goa CM Manohar Parrikar's letter, which accused the Congress President of using his \"visit to an ailing man for political gains\".\n",
      "\n",
      "\n",
      "원문     : Twenty-seven-year-old Mohammed Mahuwala was arrested in Indore on Wednesday for allegedly cheating e-commerce giant Amazon of nearly Ã¢ÂÂ¹30 lakh. Mahuwala was a member of a gang who ordered costly gadgets from Amazon. \"[They] used to get refund of the amount paid...by saying the parcel...was empty. In reality, these devices were taken out from parcel and sold...to local shopkeepers,\" said police.\n",
      "실제 요약 : Man arrested for cheating Amazon of Ã¢ÂÂ¹30 lakh by taking refunds\n",
      "예측 요약 : Mahuwala was a member of a gang who ordered costly gadgets from Amazon.\n",
      "\n",
      "\n",
      "원문     : AgustaWestland chopper scam co-accused Rajiv Saxena was extradited to India from UAE on Wednesday. He had been evading the Enforcement Directorate's summons claiming he was suffering from leukaemia but had moved an anti-money laundering court for anticipatory bail in December, stating he had never been summoned at his Dubai address. Saxena's lawyers alleged he had been \"illegally extradited\". \n",
      "실제 요약 : AgustaWestland scam accused Rajiv Saxena extradited to India\n",
      "예측 요약 : AgustaWestland chopper scam co-accused Rajiv Saxena was extradited to India from UAE on Wednesday.\n",
      "\n",
      "\n",
      "원문     : Afghan President Ashraf Ghani has said the \"keys to war\" are in Pakistan's Islamabad, Quetta and Rawalpindi, accusing the country of providing safe havens to militants, including those belonging to the Taliban. Ghani added the \"key to peace was in Afghanistan\". His comments came amid the talks between the US and the Taliban to end the 17-year war in Afghanistan.\n",
      "실제 요약 : Pakistan holds 'keys to war': Afghanistan\n",
      "예측 요약 : \n",
      "\n",
      "\n",
      "원문     : A Singapore-based insurance agent has been jailed for two years and five months for threatening to harm his clients unless they paid him in bitcoins. The 36-year-old set up an email account, and signed the messages as 'Lord Voldemort', a fictional character from the Harry Potter series. Ye Lin Myint targeted about 33 people, including those who cancelled insurance policies.\n",
      "실제 요약 : Insurance agent 'Lord Voldemort' jailed for threatening clients\n",
      "예측 요약 : A Singapore-based insurance agent has been jailed for two years and five months for threatening to harm his clients unless they paid him in bitcoins.\n",
      "\n",
      "\n",
      "원문     : Gabrielle Reilly, a 22-year-old US woman, created earrings for her Apple AirPods and put it up for sale online for $20 (about Ã¢ÂÂ¹1,500). \"I absolutely refuse to lose them (AirPods)...So I made earrings,\" she explained. The earrings, which took her over an hour to make, debuted in a video on Twitter that has since garnered over three million views.\n",
      "실제 요약 : Woman turns Apple AirPods into earrings to avoid losing them\n",
      "예측 요약 : \"I absolutely refuse to lose them (AirPods)...So I made earrings,\" she explained.\n",
      "\n",
      "\n",
      "원문     : Ex-ICICI Bank CEO Chanda Kochhar said she's \"utterly disappointed, hurt and shocked\" by the bank's decision to terminate her. Kochhar said she served ICICI for 34 years with utmost honesty and integrity and that ultimately truth will prevail. Adding that she hasn't been given a copy of the independent probe report, Kochhar said none of ICICI's credit decisions are unilateral\n",
      "실제 요약 : Shocked, hurt by ICICI's decision, truth will prevail: Kochhar\n",
      "예측 요약 : Adding that she hasn't been given a copy of the independent probe report, Kochhar said none of ICICI's credit decisions are unilateral\n",
      "\n",
      "\n",
      "원문     : Swedish multinational fast-fashion brand Hennes & Mauritz AB (H&M) has hired Christopher Wylie, the whistleblower who exposed Facebook's Cambridge Analytica data scandal. WylieÃ¢ÂÂs focus will be to help get better insights on customers, products and markets and support work on sustainable and ethical artificial intelligence, H&M spokesperson said. Wylie is a former employee of Cambridge Analytica.\n",
      "실제 요약 : Fashion brand H&M hires Facebook data scandal whistleblower\n",
      "예측 요약 : Swedish multinational fast-fashion brand Hennes & Mauritz AB (H&M) has hired Christopher Wylie, the whistleblower who exposed Facebook's Cambridge Analytica data scandal.\n",
      "\n",
      "\n",
      "원문     : Micro-blogging platform Twitter is testing a new feature on Android to put news on the top of a user's timeline. \"With this update, weÃ¢ÂÂre making it easier for people to see news and stories their followers have been discussing,\" Product Manager Walter Gurzynski said. The feature comes alongside a prompt saying, \"Catch up on what's happened while you were away.\"\n",
      "실제 요약 : Twitter testing news-first timeline feature on Android\n",
      "예측 요약 : Micro-blogging platform Twitter is testing a new feature on Android to put news on the top of a user's timeline.\n",
      "\n",
      "\n",
      "원문     : Samsung has started mass producing its one terabyte 'embedded Universal Flash Storage (eUFS) 2.1' technology for \"use in next-generation mobile applications\", which it claims is the industry's first such eUFS. The company added the new eUFS will let smartphones store 260 10-minute videos shot in 4K UHD format. It'll be sized the same as the previous 512GB version, Samsung said.\n",
      "실제 요약 : Samsung builds world's first 1TB storage chip for smartphones \n",
      "예측 요약 : Samsung has started mass producing its one terabyte 'embedded Universal Flash Storage (eUFS) 2.1' technology for \"use in next-generation mobile applications\", which it claims is the industry's first such eUFS.\n",
      "\n",
      "\n",
      "원문     : Prime Minister Narendra Modi on Wednesday said the people with 'negative mindset' are questioning him and his government for floating pro-poor schemes. He added negative mindset people are raising doubts about schemes such as building toilets and providing free gas connections to the poor. He further said that negative mentality laced with a vested interest still exists in the country.\n",
      "실제 요약 : People with 'negative mindset' quizzing pro-poor schemes: PM\n",
      "예측 요약 : Prime Minister Narendra Modi on Wednesday said the people with 'negative mindset' are questioning him and his government for floating pro-poor schemes.\n",
      "\n",
      "\n",
      "원문     : Union Minister Anantkumar Hegde took a dig at Congress President Rahul Gandhi by calling him a \"hybrid specimen\" who has no clue about religion. \"A father who's...Muslim, a mother who's...Christian and the son is supposed to be...Brahmin. How is that even possible?\" he said. He added such \"hybrid specimen\" cannot be found in any laboratory in the world.\n",
      "실제 요약 : Rahul is hybrid specimen, has no clue about religion: Hegde\n",
      "예측 요약 : Union Minister Anantkumar Hegde took a dig at Congress President Rahul Gandhi by calling him a \"hybrid specimen\" who has no clue about religion.\n",
      "\n",
      "\n",
      "원문     : Several parts of the US are set to experience record low temperatures as the polar vortex hit the Upper Midwest, with more than 200 million people expected to experience below-freezing temperatures this week. Temperatures throughout the Upper Midwest are expected to be at least 20-40Ã¢ÂÂ below zero. Government offices and schools have been closed in several areas.\n",
      "실제 요약 : Extreme cold to affect 200 million people as polar vortex hits US\n",
      "예측 요약 : \n",
      "\n",
      "\n",
      "원문     : The police on Wednesday registered cases against 13 persons, including a woman leader of Hindu Mahasabha, in Aligarh for firing at an effigy of Mahatma Gandhi with an air pistol. \"The incident took place in a house in Naurangabad locality of the city,\" Senior Superintendent of Police said. The video of the event went viral on social media, he added.\n",
      "실제 요약 : 13 booked for firing air shots at Mahatma Gandhi's effigy\n",
      "예측 요약 : The police on Wednesday registered cases against 13 persons, including a woman leader of Hindu Mahasabha, in Aligarh for firing at an effigy of Mahatma Gandhi with an air pistol.\n",
      "\n",
      "\n",
      "원문     : Railway police has rescued a woman travelling on a train in Chennai who got her leg stuck inside the commode of a toilet. After being caught inside the commode hole, she struggled to remove her leg and following failed attempts, she shouted for help, reports said. Railway police used a cutter to pry open the commode and freed her leg.\n",
      "실제 요약 : Railway police rescues woman with leg stuck in train toilet\n",
      "예측 요약 : Railway police has rescued a woman travelling on a train in Chennai who got her leg stuck inside the commode of a toilet.\n",
      "\n",
      "\n",
      "원문     : The US on Tuesday began returning asylum seekers to Mexico, sending back a migrant from a Central American nation and called the move a \"response to the illegal migration crisis\" faced by it. Under its Migrant Protection Protocols policy, the US will return certain migrants who cross into the country illegally back to Mexico while their asylum requests are processed.\n",
      "실제 요약 : US begins sending back asylum seekers to Mexico\n",
      "예측 요약 : \n",
      "\n",
      "\n"
     ]
    }
   ],
   "source": [
    "for i in range(50):\n",
    "    print('원문     : {}'.format(summa_data['text'][i]))\n",
    "    print('실제 요약 : {}'.format(summa_data['headlines'][i]))\n",
    "    print('예측 요약 : {}'.format(summarize(summa_data['text'][i], words=15)))\n",
    "    print('\\n')"
   ]
  },
  {
   "cell_type": "markdown",
   "id": "873f1658",
   "metadata": {},
   "source": [
    "---"
   ]
  },
  {
   "cell_type": "markdown",
   "id": "9b080610",
   "metadata": {},
   "source": [
    "## 정리"
   ]
  },
  {
   "cell_type": "markdown",
   "id": "933abc89",
   "metadata": {},
   "source": [
    "### (1) 추상적 요약\n",
    "- 실제 headlines과 비슷하게 예측한 문장도 있는 반면에 완전히 다르게 예측한 문장들도 존재한다. 전혀 다른 단어들을 사용한 문장이 존재하고 문법이 맞지 않는 문장 등 모델의 성능 개선이 필요해 보인다. 사실 성능을 개선한다고 나아질까는 의문이다..!"
   ]
  },
  {
   "cell_type": "markdown",
   "id": "9965c569",
   "metadata": {},
   "source": [
    "### (2) 추출적 요약\n",
    "- 출력에 포함될 단어수를 15개로 제한하고 예측을 해보았다. 원문에 있는 단어들을 가져오는 방식이라 그런지 실제 요약이랑 비슷한 예측들이 많았다. 그치만 요약을 잘 했는지는 사실 영어를 잘 몰라서 의문이다. 중간중간 보면 문장이 좀 긴 예측 요약들이 있는데 이는 ratio인자를 통해 조절할 수 있다. 그리고 보면 예측 요약이 안나온 것들이 있는데 출력에 포함될 단어수가 적어서인지.. 요약이 불가한건지.. 이점은 알아봐야 할 것 같다!"
   ]
  },
  {
   "cell_type": "markdown",
   "id": "51a00d19",
   "metadata": {},
   "source": [
    "### (3) 회고\n",
    "- 요약이라는건 원문을 얼마나 간결하게 잘 나타내었는가 인데..결과로 보면 추출적 요약이 더 좋은게 아닌가 생각이 들었다. 사실 글이라는건 관점에 따라 달리 보일 수 있는데 그래서 모델을 믿어도 되는게 맞나, loss값이 줄어든다해서 정확한게 맞나 프로젝트를 진행하면서 계속 의문점을 갖고 있었다. 그래도 처음 NLP를 했을 때보다 흥미가 생기고 관심이 생겼다. 아무래도,, cv와 nlp 중 고민을 진득히 해봐야 할 것 같다..ㅎㅎ!!"
   ]
  },
  {
   "cell_type": "markdown",
   "id": "f07b95c2",
   "metadata": {},
   "source": [
    "### 참고\n",
    "- https://wikidocs.net/22893\n",
    "- https://wikidocs.net/24996"
   ]
  }
 ],
 "metadata": {
  "kernelspec": {
   "display_name": "Python 3 (ipykernel)",
   "language": "python",
   "name": "python3"
  },
  "language_info": {
   "codemirror_mode": {
    "name": "ipython",
    "version": 3
   },
   "file_extension": ".py",
   "mimetype": "text/x-python",
   "name": "python",
   "nbconvert_exporter": "python",
   "pygments_lexer": "ipython3",
   "version": "3.9.7"
  }
 },
 "nbformat": 4,
 "nbformat_minor": 5
}
